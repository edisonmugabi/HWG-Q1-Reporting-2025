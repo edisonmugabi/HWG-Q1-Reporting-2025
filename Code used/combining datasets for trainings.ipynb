{
 "cells": [
  {
   "cell_type": "code",
   "execution_count": 1,
   "metadata": {},
   "outputs": [],
   "source": [
    "# importing dependencies\n",
    "import numpy as np \n",
    "import pandas as pd\n",
    "import glob\n",
    "import os"
   ]
  },
  {
   "cell_type": "code",
   "execution_count": 2,
   "metadata": {},
   "outputs": [],
   "source": [
    "# importing and reading all the data files for trainings \n",
    "folder_path=\"C:\\\\Users\\\\Edison New\\\\Desktop\\\\HWG Q1 Reporting 2025\\\\Datasetsets shared\"\n"
   ]
  },
  {
   "cell_type": "code",
   "execution_count": 3,
   "metadata": {},
   "outputs": [],
   "source": [
    "# Get all CSV file paths in the folder\n",
    "csv_files = glob.glob(os.path.join(folder_path, \"*.csv\"))"
   ]
  },
  {
   "cell_type": "code",
   "execution_count": 4,
   "metadata": {},
   "outputs": [
    {
     "data": {
      "text/plain": [
       "['C:\\\\Users\\\\Edison New\\\\Desktop\\\\HWG Q1 Reporting 2025\\\\Datasetsets shared\\\\Agriculture_clean_data.csv',\n",
       " 'C:\\\\Users\\\\Edison New\\\\Desktop\\\\HWG Q1 Reporting 2025\\\\Datasetsets shared\\\\clean_se_data.csv',\n",
       " 'C:\\\\Users\\\\Edison New\\\\Desktop\\\\HWG Q1 Reporting 2025\\\\Datasetsets shared\\\\coffee value addition training clean.csv',\n",
       " 'C:\\\\Users\\\\Edison New\\\\Desktop\\\\HWG Q1 Reporting 2025\\\\Datasetsets shared\\\\coffee_pests_diseases_mgt.csv',\n",
       " 'C:\\\\Users\\\\Edison New\\\\Desktop\\\\HWG Q1 Reporting 2025\\\\Datasetsets shared\\\\combined_trainings_data.csv',\n",
       " 'C:\\\\Users\\\\Edison New\\\\Desktop\\\\HWG Q1 Reporting 2025\\\\Datasetsets shared\\\\designed champions_clean.csv',\n",
       " 'C:\\\\Users\\\\Edison New\\\\Desktop\\\\HWG Q1 Reporting 2025\\\\Datasetsets shared\\\\Filtered_training_data.csv',\n",
       " 'C:\\\\Users\\\\Edison New\\\\Desktop\\\\HWG Q1 Reporting 2025\\\\Datasetsets shared\\\\HOR#3 training clean.csv',\n",
       " 'C:\\\\Users\\\\Edison New\\\\Desktop\\\\HWG Q1 Reporting 2025\\\\Datasetsets shared\\\\nursery bed distribution clean.csv',\n",
       " 'C:\\\\Users\\\\Edison New\\\\Desktop\\\\HWG Q1 Reporting 2025\\\\Datasetsets shared\\\\seed distribution clean.csv',\n",
       " 'C:\\\\Users\\\\Edison New\\\\Desktop\\\\HWG Q1 Reporting 2025\\\\Datasetsets shared\\\\seed return clean.csv',\n",
       " 'C:\\\\Users\\\\Edison New\\\\Desktop\\\\HWG Q1 Reporting 2025\\\\Datasetsets shared\\\\tools distribution list clean.csv']"
      ]
     },
     "execution_count": 4,
     "metadata": {},
     "output_type": "execute_result"
    }
   ],
   "source": [
    "# Having look at the files in the folder\n",
    "csv_files"
   ]
  },
  {
   "cell_type": "code",
   "execution_count": 5,
   "metadata": {},
   "outputs": [
    {
     "name": "stderr",
     "output_type": "stream",
     "text": [
      "C:\\Users\\Edison New\\AppData\\Local\\Temp\\ipykernel_6636\\920706293.py:9: DtypeWarning: Columns (29) have mixed types. Specify dtype option on import or set low_memory=False.\n",
      "  dfs = [pd.read_csv(file) for file in csv_files if file in valid_files]\n"
     ]
    }
   ],
   "source": [
    "# Read all CSV files into a list of DataFrames\n",
    "valid_files = [\n",
    "\t'C:\\\\Users\\\\Edison New\\\\Desktop\\\\HWG Q1 Reporting 2025\\\\Datasetsets shared\\\\Agriculture_clean_data.csv',\n",
    "\t'C:\\\\Users\\\\Edison New\\\\Desktop\\\\HWG Q1 Reporting 2025\\\\Datasetsets shared\\\\coffee value addition training clean.csv',\n",
    "\t'C:\\\\Users\\\\Edison New\\\\Desktop\\\\HWG Q1 Reporting 2025\\\\Datasetsets shared\\\\Filtered_training_data.csv',\n",
    "\t'C:\\\\Users\\\\Edison New\\\\Desktop\\\\HWG Q1 Reporting 2025\\\\Datasetsets shared\\\\HOR#3 training clean.csv',\n",
    "    'C:\\\\Users\\\\Edison New\\\\Desktop\\\\HWG Q1 Reporting 2025\\\\Datasetsets shared\\\\coffee_pests_diseases_mgt.csv'\n",
    "]\n",
    "dfs = [pd.read_csv(file) for file in csv_files if file in valid_files]\n"
   ]
  },
  {
   "cell_type": "code",
   "execution_count": 6,
   "metadata": {},
   "outputs": [],
   "source": [
    "#combining all the dataframes into one trainings dataframe\n",
    "trainings_df = pd.concat(dfs, ignore_index=True)"
   ]
  },
  {
   "cell_type": "code",
   "execution_count": 7,
   "metadata": {},
   "outputs": [],
   "source": [
    "# Removing personal identifiers from the trainings data\n",
    "columns_to_remove = ['guid','village_id','name','gender','age',\n",
    "                     'contact','training_latitude','training_longitude',\n",
    "                     'training_day','trainer_name','trainer_gender',\n",
    "                     'trainer_organization','trainer_title', 'trainer_phone_number',\n",
    "                     \"number_of_village_households\", \"number_of_households\", \"number_of_male_households\",\n",
    "                     \"number_of_female_households\", \"number_of_male_youth_households\", \"number_of_female_youth_households\",\n",
    "                     \"performance_rating\", \"hours_to_complete\", \"training_challenge\", \"general_comment\",\n",
    "                     \"number_of_males_to_vote_equality_before\", \"number_of_females_to_vote_equality_before\",\n",
    "                     \"number_of_males_to_vote_equality_after\", \"number_of_females_to_vote_equality_after\",\n",
    "                     \"number_of_males_understand_importance_of_iga_before\", \"number_of_females_understand_importance_of_iga_before\",\n",
    "                     \"number_of_males_understand_importance_of_iga_after\", \"number_of_females_understand_importance_of_iga_after\",\n",
    "                     \"number_of_male_trainees_below_eighteen\", \"number_of_male_trainees_above_eighteen\",\n",
    "                     \"number_of_female_trainees_below_eighteen\", \"number_of_female_trainees_above_eighteen\",\n",
    "                     \"photo\", \"topics\", \"scanned\", \"deleted\", \"created_at\"]"
   ]
  },
  {
   "cell_type": "code",
   "execution_count": 10,
   "metadata": {},
   "outputs": [],
   "source": [
    "trainings_df.drop(columns=columns_to_remove, inplace=True, errors='ignore')"
   ]
  },
  {
   "cell_type": "code",
   "execution_count": 11,
   "metadata": {},
   "outputs": [],
   "source": [
    "#exporting the combined trainings data to a csv file\n",
    "trainings_df.to_csv('C:\\\\Users\\\\Edison New\\\\Desktop\\\\HWG Q1 Reporting 2025\\\\Datasetsets shared\\\\combined_trainings_data.csv', index=False)"
   ]
  },
  {
   "cell_type": "markdown",
   "metadata": {},
   "source": [
    "# combining summarries of trainings "
   ]
  },
  {
   "cell_type": "code",
   "execution_count": 10,
   "metadata": {},
   "outputs": [
    {
     "data": {
      "text/plain": [
       "['C:\\\\Users\\\\Edison New\\\\Desktop\\\\HWG Q1 Reporting 2025\\\\Final outputs\\\\additional trainings.csv',\n",
       " 'C:\\\\Users\\\\Edison New\\\\Desktop\\\\HWG Q1 Reporting 2025\\\\Final outputs\\\\champions_summary.csv',\n",
       " 'C:\\\\Users\\\\Edison New\\\\Desktop\\\\HWG Q1 Reporting 2025\\\\Final outputs\\\\clean champions list.csv',\n",
       " 'C:\\\\Users\\\\Edison New\\\\Desktop\\\\HWG Q1 Reporting 2025\\\\Final outputs\\\\combined coffee pivot analysis_trainings.csv',\n",
       " 'C:\\\\Users\\\\Edison New\\\\Desktop\\\\HWG Q1 Reporting 2025\\\\Final outputs\\\\combined_summary_trainings_data.csv',\n",
       " 'C:\\\\Users\\\\Edison New\\\\Desktop\\\\HWG Q1 Reporting 2025\\\\Final outputs\\\\nurserybedfinal analysis.csv',\n",
       " 'C:\\\\Users\\\\Edison New\\\\Desktop\\\\HWG Q1 Reporting 2025\\\\Final outputs\\\\pivot_table_training.csv',\n",
       " 'C:\\\\Users\\\\Edison New\\\\Desktop\\\\HWG Q1 Reporting 2025\\\\Final outputs\\\\seed return and distribution summary.csv']"
      ]
     },
     "execution_count": 10,
     "metadata": {},
     "output_type": "execute_result"
    }
   ],
   "source": [
    "# Get all CSV file paths in the final output folder \n",
    "folder_path=\"C:\\\\Users\\\\Edison New\\\\Desktop\\\\HWG Q1 Reporting 2025\\\\Final outputs\"\n",
    "csv_files = glob.glob(os.path.join(folder_path, \"*.csv\"))\n",
    "csv_files\n"
   ]
  },
  {
   "cell_type": "code",
   "execution_count": 11,
   "metadata": {},
   "outputs": [],
   "source": [
    "valid_files=['C:\\\\Users\\\\Edison New\\\\Desktop\\\\HWG Q1 Reporting 2025\\\\Final outputs\\\\additional trainings.csv',\n",
    " 'C:\\\\Users\\\\Edison New\\\\Desktop\\\\HWG Q1 Reporting 2025\\\\Final outputs\\\\combined coffee pivot analysis_trainings.csv',\n",
    " 'C:\\\\Users\\\\Edison New\\\\Desktop\\\\HWG Q1 Reporting 2025\\\\Final outputs\\\\pivot_table_training.csv'\n",
    " ]\n",
    "# Read all CSV files into a list of DataFrames\n",
    "dfs = [pd.read_csv(file) for file in csv_files if file in valid_files]"
   ]
  },
  {
   "cell_type": "code",
   "execution_count": 12,
   "metadata": {},
   "outputs": [],
   "source": [
    "#combining all the dataframes into one trainings dataframe\n",
    "summary_trainings_df = pd.concat(dfs, ignore_index=True)"
   ]
  },
  {
   "cell_type": "code",
   "execution_count": 13,
   "metadata": {},
   "outputs": [],
   "source": [
    "# sorting the df by district and cohort\n",
    "summary_trainings_df.sort_values(by = ['district_name','cohort'], inplace=True)"
   ]
  },
  {
   "cell_type": "code",
   "execution_count": 14,
   "metadata": {},
   "outputs": [],
   "source": [
    "# exporting the combined summary of trainings data to a csv file\n",
    "summary_trainings_df.to_csv('C:\\\\Users\\\\Edison New\\\\Desktop\\\\HWG Q1 Reporting 2025\\\\Final outputs\\\\combined_summary_trainings_data.csv', index=False)"
   ]
  }
 ],
 "metadata": {
  "kernelspec": {
   "display_name": "Python 3",
   "language": "python",
   "name": "python3"
  },
  "language_info": {
   "codemirror_mode": {
    "name": "ipython",
    "version": 3
   },
   "file_extension": ".py",
   "mimetype": "text/x-python",
   "name": "python",
   "nbconvert_exporter": "python",
   "pygments_lexer": "ipython3",
   "version": "3.12.4"
  }
 },
 "nbformat": 4,
 "nbformat_minor": 2
}
