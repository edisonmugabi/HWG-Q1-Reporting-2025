{
 "cells": [
  {
   "cell_type": "code",
   "execution_count": 1,
   "id": "86dbe8c4-6476-4d83-8737-65a9cc628556",
   "metadata": {},
   "outputs": [],
   "source": [
    "import pandas as pd\n",
    "import numpy as np\n"
   ]
  },
  {
   "cell_type": "code",
   "execution_count": 2,
   "id": "6fafea05",
   "metadata": {},
   "outputs": [],
   "source": [
    "census = pd.read_excel(r'C:\\Users\\RTV-LPT1-233\\Desktop\\edison jupyter\\HWG Data request1.xlsx',\n",
    "                        sheet_name='CensusMapped HH')"
   ]
  },
  {
   "cell_type": "code",
   "execution_count": 3,
   "id": "2675f222",
   "metadata": {},
   "outputs": [],
   "source": [
    "census['cohort']=2024"
   ]
  },
  {
   "cell_type": "code",
   "execution_count": 4,
   "id": "5a984131-6085-49d3-a6f1-b3916ccfebcc",
   "metadata": {},
   "outputs": [
    {
     "data": {
      "text/html": [
       "<div>\n",
       "<style scoped>\n",
       "    .dataframe tbody tr th:only-of-type {\n",
       "        vertical-align: middle;\n",
       "    }\n",
       "\n",
       "    .dataframe tbody tr th {\n",
       "        vertical-align: top;\n",
       "    }\n",
       "\n",
       "    .dataframe thead th {\n",
       "        text-align: right;\n",
       "    }\n",
       "</style>\n",
       "<table border=\"1\" class=\"dataframe\">\n",
       "  <thead>\n",
       "    <tr style=\"text-align: right;\">\n",
       "      <th></th>\n",
       "      <th>district</th>\n",
       "      <th>subcounty</th>\n",
       "      <th>parish_t</th>\n",
       "      <th>village</th>\n",
       "      <th>Cluster</th>\n",
       "      <th>Cycle</th>\n",
       "      <th>household_id</th>\n",
       "      <th>cohort</th>\n",
       "    </tr>\n",
       "  </thead>\n",
       "  <tbody>\n",
       "    <tr>\n",
       "      <th>0</th>\n",
       "      <td>Kitagwenda</td>\n",
       "      <td>Ruhunga</td>\n",
       "      <td>Kyarwera</td>\n",
       "      <td>Rweya</td>\n",
       "      <td>Ruhunga</td>\n",
       "      <td>A</td>\n",
       "      <td>KIT-RWE-VIO-F-202715</td>\n",
       "      <td>2024</td>\n",
       "    </tr>\n",
       "    <tr>\n",
       "      <th>1</th>\n",
       "      <td>Kitagwenda</td>\n",
       "      <td>Ruhunga</td>\n",
       "      <td>Kyarwera</td>\n",
       "      <td>Rweya</td>\n",
       "      <td>Ruhunga</td>\n",
       "      <td>A</td>\n",
       "      <td>KIT-RWE-SUL-M-091715</td>\n",
       "      <td>2024</td>\n",
       "    </tr>\n",
       "    <tr>\n",
       "      <th>2</th>\n",
       "      <td>Kitagwenda</td>\n",
       "      <td>Ruhunga</td>\n",
       "      <td>Kyarwera</td>\n",
       "      <td>Rweya</td>\n",
       "      <td>Ruhunga</td>\n",
       "      <td>A</td>\n",
       "      <td>KIT-RWE-DID-M-093637</td>\n",
       "      <td>2024</td>\n",
       "    </tr>\n",
       "    <tr>\n",
       "      <th>3</th>\n",
       "      <td>Kitagwenda</td>\n",
       "      <td>Ruhunga</td>\n",
       "      <td>Kyarwera</td>\n",
       "      <td>Rweya</td>\n",
       "      <td>Ruhunga</td>\n",
       "      <td>A</td>\n",
       "      <td>KIT-RWE-JOY-F-095504</td>\n",
       "      <td>2024</td>\n",
       "    </tr>\n",
       "    <tr>\n",
       "      <th>4</th>\n",
       "      <td>Kitagwenda</td>\n",
       "      <td>Ruhunga</td>\n",
       "      <td>Kyarwera</td>\n",
       "      <td>Rweya</td>\n",
       "      <td>Ruhunga</td>\n",
       "      <td>A</td>\n",
       "      <td>KIT-RWE-PAT-M-101050</td>\n",
       "      <td>2024</td>\n",
       "    </tr>\n",
       "  </tbody>\n",
       "</table>\n",
       "</div>"
      ],
      "text/plain": [
       "     district subcounty  parish_t village  Cluster Cycle  \\\n",
       "0  Kitagwenda   Ruhunga  Kyarwera   Rweya  Ruhunga     A   \n",
       "1  Kitagwenda   Ruhunga  Kyarwera   Rweya  Ruhunga     A   \n",
       "2  Kitagwenda   Ruhunga  Kyarwera   Rweya  Ruhunga     A   \n",
       "3  Kitagwenda   Ruhunga  Kyarwera   Rweya  Ruhunga     A   \n",
       "4  Kitagwenda   Ruhunga  Kyarwera   Rweya  Ruhunga     A   \n",
       "\n",
       "           household_id  cohort  \n",
       "0  KIT-RWE-VIO-F-202715    2024  \n",
       "1  KIT-RWE-SUL-M-091715    2024  \n",
       "2  KIT-RWE-DID-M-093637    2024  \n",
       "3  KIT-RWE-JOY-F-095504    2024  \n",
       "4  KIT-RWE-PAT-M-101050    2024  "
      ]
     },
     "execution_count": 4,
     "metadata": {},
     "output_type": "execute_result"
    }
   ],
   "source": [
    "census.head()"
   ]
  },
  {
   "cell_type": "code",
   "execution_count": 5,
   "id": "258d01b6-8a7e-4e22-a88c-37311b8a3ed3",
   "metadata": {},
   "outputs": [],
   "source": [
    "census_2025=pd.read_excel(r\"C:\\Users\\RTV-LPT1-233\\Desktop\\edison jupyter\\2025cycle A census.xlsx\")"
   ]
  },
  {
   "cell_type": "code",
   "execution_count": 6,
   "id": "8aaac4fa",
   "metadata": {},
   "outputs": [
    {
     "data": {
      "text/plain": [
       "Index(['RecordID', 'district', 'district_id', 'subcounty', 'parish_t',\n",
       "       'Cluster', 'village', 'cohort_cycle', 'Cycle', 'cohort',\n",
       "       'hhh_full_name', 'Household_Head_Age', 'Household_Head_Contact',\n",
       "       'Marital_Status', 'Household_Head_Gender', 'Spouse_Name',\n",
       "       'Spouse_Gender', 'Telephone_Contact', 'tot_hhmembers', 'household_id',\n",
       "       'Card No', 'hhid_No', 'category'],\n",
       "      dtype='object')"
      ]
     },
     "execution_count": 6,
     "metadata": {},
     "output_type": "execute_result"
    }
   ],
   "source": [
    "census_2025.columns"
   ]
  },
  {
   "cell_type": "code",
   "execution_count": 7,
   "id": "3da8cd5f-8c54-4840-9c5b-f839984f02d5",
   "metadata": {},
   "outputs": [],
   "source": [
    "census_merged=pd.concat([census,census_2025], \n",
    "                       join='inner')"
   ]
  },
  {
   "cell_type": "code",
   "execution_count": 8,
   "id": "a9693b2a-97db-444a-bebf-c758775a2581",
   "metadata": {},
   "outputs": [
    {
     "data": {
      "text/html": [
       "<div>\n",
       "<style scoped>\n",
       "    .dataframe tbody tr th:only-of-type {\n",
       "        vertical-align: middle;\n",
       "    }\n",
       "\n",
       "    .dataframe tbody tr th {\n",
       "        vertical-align: top;\n",
       "    }\n",
       "\n",
       "    .dataframe thead th {\n",
       "        text-align: right;\n",
       "    }\n",
       "</style>\n",
       "<table border=\"1\" class=\"dataframe\">\n",
       "  <thead>\n",
       "    <tr style=\"text-align: right;\">\n",
       "      <th></th>\n",
       "      <th>district</th>\n",
       "      <th>subcounty</th>\n",
       "      <th>parish_t</th>\n",
       "      <th>village</th>\n",
       "      <th>Cluster</th>\n",
       "      <th>Cycle</th>\n",
       "      <th>household_id</th>\n",
       "      <th>cohort</th>\n",
       "    </tr>\n",
       "  </thead>\n",
       "  <tbody>\n",
       "    <tr>\n",
       "      <th>0</th>\n",
       "      <td>Kitagwenda</td>\n",
       "      <td>Ruhunga</td>\n",
       "      <td>Kyarwera</td>\n",
       "      <td>Rweya</td>\n",
       "      <td>Ruhunga</td>\n",
       "      <td>A</td>\n",
       "      <td>KIT-RWE-VIO-F-202715</td>\n",
       "      <td>2024</td>\n",
       "    </tr>\n",
       "    <tr>\n",
       "      <th>1</th>\n",
       "      <td>Kitagwenda</td>\n",
       "      <td>Ruhunga</td>\n",
       "      <td>Kyarwera</td>\n",
       "      <td>Rweya</td>\n",
       "      <td>Ruhunga</td>\n",
       "      <td>A</td>\n",
       "      <td>KIT-RWE-SUL-M-091715</td>\n",
       "      <td>2024</td>\n",
       "    </tr>\n",
       "    <tr>\n",
       "      <th>2</th>\n",
       "      <td>Kitagwenda</td>\n",
       "      <td>Ruhunga</td>\n",
       "      <td>Kyarwera</td>\n",
       "      <td>Rweya</td>\n",
       "      <td>Ruhunga</td>\n",
       "      <td>A</td>\n",
       "      <td>KIT-RWE-DID-M-093637</td>\n",
       "      <td>2024</td>\n",
       "    </tr>\n",
       "    <tr>\n",
       "      <th>3</th>\n",
       "      <td>Kitagwenda</td>\n",
       "      <td>Ruhunga</td>\n",
       "      <td>Kyarwera</td>\n",
       "      <td>Rweya</td>\n",
       "      <td>Ruhunga</td>\n",
       "      <td>A</td>\n",
       "      <td>KIT-RWE-JOY-F-095504</td>\n",
       "      <td>2024</td>\n",
       "    </tr>\n",
       "    <tr>\n",
       "      <th>4</th>\n",
       "      <td>Kitagwenda</td>\n",
       "      <td>Ruhunga</td>\n",
       "      <td>Kyarwera</td>\n",
       "      <td>Rweya</td>\n",
       "      <td>Ruhunga</td>\n",
       "      <td>A</td>\n",
       "      <td>KIT-RWE-PAT-M-101050</td>\n",
       "      <td>2024</td>\n",
       "    </tr>\n",
       "  </tbody>\n",
       "</table>\n",
       "</div>"
      ],
      "text/plain": [
       "     district subcounty  parish_t village  Cluster Cycle  \\\n",
       "0  Kitagwenda   Ruhunga  Kyarwera   Rweya  Ruhunga     A   \n",
       "1  Kitagwenda   Ruhunga  Kyarwera   Rweya  Ruhunga     A   \n",
       "2  Kitagwenda   Ruhunga  Kyarwera   Rweya  Ruhunga     A   \n",
       "3  Kitagwenda   Ruhunga  Kyarwera   Rweya  Ruhunga     A   \n",
       "4  Kitagwenda   Ruhunga  Kyarwera   Rweya  Ruhunga     A   \n",
       "\n",
       "           household_id  cohort  \n",
       "0  KIT-RWE-VIO-F-202715    2024  \n",
       "1  KIT-RWE-SUL-M-091715    2024  \n",
       "2  KIT-RWE-DID-M-093637    2024  \n",
       "3  KIT-RWE-JOY-F-095504    2024  \n",
       "4  KIT-RWE-PAT-M-101050    2024  "
      ]
     },
     "execution_count": 8,
     "metadata": {},
     "output_type": "execute_result"
    }
   ],
   "source": [
    "census_merged.head()"
   ]
  },
  {
   "cell_type": "code",
   "execution_count": 9,
   "id": "84002e9a-8f0a-4272-946d-bdc3db372f96",
   "metadata": {},
   "outputs": [
    {
     "data": {
      "text/plain": [
       "(12427, 8)"
      ]
     },
     "execution_count": 9,
     "metadata": {},
     "output_type": "execute_result"
    }
   ],
   "source": [
    "census_merged.shape"
   ]
  },
  {
   "cell_type": "markdown",
   "id": "643233e7-1edb-4e0c-93e4-6d2eccbcdc4f",
   "metadata": {},
   "source": [
    "## Training data checks"
   ]
  },
  {
   "cell_type": "code",
   "execution_count": 10,
   "id": "7fb27c09-0229-4e63-a51c-482145d3a133",
   "metadata": {},
   "outputs": [],
   "source": [
    "#reading training dataset\n",
    "training_data=pd.read_csv(r\"C:\\Users\\Edison New\\Desktop\\HWG Q1 Reporting 2025\\Raw data sets from the app\\check2 hWG Q1 files\\Training data 2025 cycle A.csv\")"
   ]
  },
  {
   "cell_type": "code",
   "execution_count": 11,
   "id": "d7c2b9a3",
   "metadata": {},
   "outputs": [],
   "source": [
    "training_data=training_data[training_data['cohort']==2025]"
   ]
  },
  {
   "cell_type": "code",
   "execution_count": 12,
   "id": "d71d2be9-974f-4bcb-9948-72f6b558d60f",
   "metadata": {},
   "outputs": [],
   "source": [
    "#checking for households IDs in Census data\n",
    "checked_data=training_data[training_data['household_id'].isin(census_merged['household_id'])]"
   ]
  },
  {
   "cell_type": "code",
   "execution_count": 13,
   "id": "0d171911-3d73-42d9-9ed9-4318e0874ca7",
   "metadata": {},
   "outputs": [],
   "source": [
    "#droping the duplicates by training types\n",
    "clean_data = (\n",
    "    checked_data\n",
    "    .sort_values(by='type')  \n",
    "    .drop_duplicates(subset=['type', 'household_id'])  \n",
    ")"
   ]
  },
  {
   "cell_type": "code",
   "execution_count": 14,
   "id": "f4b58d95-fa60-48c3-bda7-8bd977fa53bb",
   "metadata": {},
   "outputs": [
    {
     "data": {
      "text/html": [
       "<div>\n",
       "<style scoped>\n",
       "    .dataframe tbody tr th:only-of-type {\n",
       "        vertical-align: middle;\n",
       "    }\n",
       "\n",
       "    .dataframe tbody tr th {\n",
       "        vertical-align: top;\n",
       "    }\n",
       "\n",
       "    .dataframe thead th {\n",
       "        text-align: right;\n",
       "    }\n",
       "</style>\n",
       "<table border=\"1\" class=\"dataframe\">\n",
       "  <thead>\n",
       "    <tr style=\"text-align: right;\">\n",
       "      <th></th>\n",
       "      <th>region_name</th>\n",
       "      <th>district_name</th>\n",
       "      <th>cluster_name</th>\n",
       "      <th>village_name</th>\n",
       "      <th>village_id</th>\n",
       "      <th>cohort</th>\n",
       "      <th>cycle</th>\n",
       "      <th>household_id</th>\n",
       "      <th>name</th>\n",
       "      <th>gender</th>\n",
       "      <th>...</th>\n",
       "      <th>number_of_male_trainees_above_eighteen</th>\n",
       "      <th>number_of_female_trainees_below_eighteen</th>\n",
       "      <th>number_of_female_trainees_above_eighteen</th>\n",
       "      <th>photo</th>\n",
       "      <th>category</th>\n",
       "      <th>type</th>\n",
       "      <th>topics</th>\n",
       "      <th>scanned</th>\n",
       "      <th>deleted</th>\n",
       "      <th>created_at</th>\n",
       "    </tr>\n",
       "  </thead>\n",
       "  <tbody>\n",
       "    <tr>\n",
       "      <th>24284</th>\n",
       "      <td>South West</td>\n",
       "      <td>Kitagwenda</td>\n",
       "      <td>Nyakacwamba</td>\n",
       "      <td>Rwengwe_Nyakacwamba</td>\n",
       "      <td>3132</td>\n",
       "      <td>2025</td>\n",
       "      <td>A</td>\n",
       "      <td>KIT-RWE-SUM-M-082949-15</td>\n",
       "      <td>Sumpta Turyahebwa</td>\n",
       "      <td>Male</td>\n",
       "      <td>...</td>\n",
       "      <td>NaN</td>\n",
       "      <td>NaN</td>\n",
       "      <td>NaN</td>\n",
       "      <td>NaN</td>\n",
       "      <td>Agriculture</td>\n",
       "      <td>Agriculture 1 - Organics Farming &amp; Keyhole gar...</td>\n",
       "      <td>Compost Manure Handling and Application rates/...</td>\n",
       "      <td>1.0</td>\n",
       "      <td>False</td>\n",
       "      <td>13/01/2025 10:15</td>\n",
       "    </tr>\n",
       "    <tr>\n",
       "      <th>21705</th>\n",
       "      <td>Central</td>\n",
       "      <td>Rakai</td>\n",
       "      <td>Kasensero</td>\n",
       "      <td>Mikunyu</td>\n",
       "      <td>9010</td>\n",
       "      <td>2025</td>\n",
       "      <td>A</td>\n",
       "      <td>RAK-MIK-KAW-M-101006-18</td>\n",
       "      <td>Kaweesi Ronald</td>\n",
       "      <td>Male</td>\n",
       "      <td>...</td>\n",
       "      <td>NaN</td>\n",
       "      <td>NaN</td>\n",
       "      <td>NaN</td>\n",
       "      <td>NaN</td>\n",
       "      <td>Agriculture</td>\n",
       "      <td>Agriculture 1 - Organics Farming &amp; Keyhole gar...</td>\n",
       "      <td>Compost Manure Making and Application, Keyhole...</td>\n",
       "      <td>1.0</td>\n",
       "      <td>False</td>\n",
       "      <td>16/01/2025 12:31</td>\n",
       "    </tr>\n",
       "    <tr>\n",
       "      <th>21704</th>\n",
       "      <td>Central</td>\n",
       "      <td>Rakai</td>\n",
       "      <td>Kasensero</td>\n",
       "      <td>Mikunyu</td>\n",
       "      <td>9010</td>\n",
       "      <td>2025</td>\n",
       "      <td>A</td>\n",
       "      <td>RAK-MIK-NAB-F-191546-18</td>\n",
       "      <td>Nabukalu Hanifah</td>\n",
       "      <td>Female</td>\n",
       "      <td>...</td>\n",
       "      <td>NaN</td>\n",
       "      <td>NaN</td>\n",
       "      <td>NaN</td>\n",
       "      <td>NaN</td>\n",
       "      <td>Agriculture</td>\n",
       "      <td>Agriculture 1 - Organics Farming &amp; Keyhole gar...</td>\n",
       "      <td>Compost Manure Making and Application, Keyhole...</td>\n",
       "      <td>1.0</td>\n",
       "      <td>False</td>\n",
       "      <td>16/01/2025 12:31</td>\n",
       "    </tr>\n",
       "    <tr>\n",
       "      <th>21703</th>\n",
       "      <td>Central</td>\n",
       "      <td>Rakai</td>\n",
       "      <td>Kasensero</td>\n",
       "      <td>Mikunyu</td>\n",
       "      <td>9010</td>\n",
       "      <td>2025</td>\n",
       "      <td>A</td>\n",
       "      <td>RAK-MIK-MUS-M-185743-18</td>\n",
       "      <td>Musiitwa Isaac</td>\n",
       "      <td>Male</td>\n",
       "      <td>...</td>\n",
       "      <td>NaN</td>\n",
       "      <td>NaN</td>\n",
       "      <td>NaN</td>\n",
       "      <td>NaN</td>\n",
       "      <td>Agriculture</td>\n",
       "      <td>Agriculture 1 - Organics Farming &amp; Keyhole gar...</td>\n",
       "      <td>Compost Manure Making and Application, Keyhole...</td>\n",
       "      <td>1.0</td>\n",
       "      <td>False</td>\n",
       "      <td>16/01/2025 12:31</td>\n",
       "    </tr>\n",
       "    <tr>\n",
       "      <th>21702</th>\n",
       "      <td>Central</td>\n",
       "      <td>Rakai</td>\n",
       "      <td>Kasensero</td>\n",
       "      <td>Mikunyu</td>\n",
       "      <td>9010</td>\n",
       "      <td>2025</td>\n",
       "      <td>A</td>\n",
       "      <td>RAK-MIK-NAM-F-073842-18</td>\n",
       "      <td>Namata Madrine</td>\n",
       "      <td>Female</td>\n",
       "      <td>...</td>\n",
       "      <td>NaN</td>\n",
       "      <td>NaN</td>\n",
       "      <td>NaN</td>\n",
       "      <td>NaN</td>\n",
       "      <td>Agriculture</td>\n",
       "      <td>Agriculture 1 - Organics Farming &amp; Keyhole gar...</td>\n",
       "      <td>Compost Manure Making and Application, Keyhole...</td>\n",
       "      <td>1.0</td>\n",
       "      <td>False</td>\n",
       "      <td>16/01/2025 12:31</td>\n",
       "    </tr>\n",
       "  </tbody>\n",
       "</table>\n",
       "<p>5 rows × 49 columns</p>\n",
       "</div>"
      ],
      "text/plain": [
       "      region_name district_name cluster_name         village_name  village_id  \\\n",
       "24284  South West    Kitagwenda  Nyakacwamba  Rwengwe_Nyakacwamba        3132   \n",
       "21705     Central         Rakai    Kasensero              Mikunyu        9010   \n",
       "21704     Central         Rakai    Kasensero              Mikunyu        9010   \n",
       "21703     Central         Rakai    Kasensero              Mikunyu        9010   \n",
       "21702     Central         Rakai    Kasensero              Mikunyu        9010   \n",
       "\n",
       "       cohort cycle             household_id               name  gender  ...  \\\n",
       "24284    2025     A  KIT-RWE-SUM-M-082949-15  Sumpta Turyahebwa    Male  ...   \n",
       "21705    2025     A  RAK-MIK-KAW-M-101006-18     Kaweesi Ronald    Male  ...   \n",
       "21704    2025     A  RAK-MIK-NAB-F-191546-18   Nabukalu Hanifah  Female  ...   \n",
       "21703    2025     A  RAK-MIK-MUS-M-185743-18     Musiitwa Isaac    Male  ...   \n",
       "21702    2025     A  RAK-MIK-NAM-F-073842-18     Namata Madrine  Female  ...   \n",
       "\n",
       "       number_of_male_trainees_above_eighteen  \\\n",
       "24284                                     NaN   \n",
       "21705                                     NaN   \n",
       "21704                                     NaN   \n",
       "21703                                     NaN   \n",
       "21702                                     NaN   \n",
       "\n",
       "      number_of_female_trainees_below_eighteen  \\\n",
       "24284                                      NaN   \n",
       "21705                                      NaN   \n",
       "21704                                      NaN   \n",
       "21703                                      NaN   \n",
       "21702                                      NaN   \n",
       "\n",
       "       number_of_female_trainees_above_eighteen  photo     category  \\\n",
       "24284                                       NaN    NaN  Agriculture   \n",
       "21705                                       NaN    NaN  Agriculture   \n",
       "21704                                       NaN    NaN  Agriculture   \n",
       "21703                                       NaN    NaN  Agriculture   \n",
       "21702                                       NaN    NaN  Agriculture   \n",
       "\n",
       "                                                    type  \\\n",
       "24284  Agriculture 1 - Organics Farming & Keyhole gar...   \n",
       "21705  Agriculture 1 - Organics Farming & Keyhole gar...   \n",
       "21704  Agriculture 1 - Organics Farming & Keyhole gar...   \n",
       "21703  Agriculture 1 - Organics Farming & Keyhole gar...   \n",
       "21702  Agriculture 1 - Organics Farming & Keyhole gar...   \n",
       "\n",
       "                                                  topics scanned deleted  \\\n",
       "24284  Compost Manure Handling and Application rates/...     1.0   False   \n",
       "21705  Compost Manure Making and Application, Keyhole...     1.0   False   \n",
       "21704  Compost Manure Making and Application, Keyhole...     1.0   False   \n",
       "21703  Compost Manure Making and Application, Keyhole...     1.0   False   \n",
       "21702  Compost Manure Making and Application, Keyhole...     1.0   False   \n",
       "\n",
       "             created_at  \n",
       "24284  13/01/2025 10:15  \n",
       "21705  16/01/2025 12:31  \n",
       "21704  16/01/2025 12:31  \n",
       "21703  16/01/2025 12:31  \n",
       "21702  16/01/2025 12:31  \n",
       "\n",
       "[5 rows x 49 columns]"
      ]
     },
     "execution_count": 14,
     "metadata": {},
     "output_type": "execute_result"
    }
   ],
   "source": [
    "clean_data.head()"
   ]
  },
  {
   "cell_type": "code",
   "execution_count": 15,
   "id": "1835d098-5d87-44c7-848e-8ea513ae99ec",
   "metadata": {},
   "outputs": [],
   "source": [
    "training_analysis=clean_data.pivot_table(index=['district_name','village_name','cohort','cycle','type'],\n",
    "                                         values='household_id',\n",
    "                                         aggfunc='count')"
   ]
  },
  {
   "cell_type": "code",
   "execution_count": 16,
   "id": "50c2a3e1-5292-43c9-94b0-d63a3ff01eaa",
   "metadata": {},
   "outputs": [
    {
     "data": {
      "text/html": [
       "<div>\n",
       "<style scoped>\n",
       "    .dataframe tbody tr th:only-of-type {\n",
       "        vertical-align: middle;\n",
       "    }\n",
       "\n",
       "    .dataframe tbody tr th {\n",
       "        vertical-align: top;\n",
       "    }\n",
       "\n",
       "    .dataframe thead th {\n",
       "        text-align: right;\n",
       "    }\n",
       "</style>\n",
       "<table border=\"1\" class=\"dataframe\">\n",
       "  <thead>\n",
       "    <tr style=\"text-align: right;\">\n",
       "      <th></th>\n",
       "      <th></th>\n",
       "      <th></th>\n",
       "      <th></th>\n",
       "      <th></th>\n",
       "      <th>household_id</th>\n",
       "    </tr>\n",
       "    <tr>\n",
       "      <th>district_name</th>\n",
       "      <th>village_name</th>\n",
       "      <th>cohort</th>\n",
       "      <th>cycle</th>\n",
       "      <th>type</th>\n",
       "      <th></th>\n",
       "    </tr>\n",
       "  </thead>\n",
       "  <tbody>\n",
       "    <tr>\n",
       "      <th rowspan=\"5\" valign=\"top\">Kitagwenda</th>\n",
       "      <th rowspan=\"5\" valign=\"top\">Bujumiro_A</th>\n",
       "      <th rowspan=\"5\" valign=\"top\">2025</th>\n",
       "      <th rowspan=\"5\" valign=\"top\">A</th>\n",
       "      <th>Agriculture 1 - Organics Farming &amp; Keyhole gardening</th>\n",
       "      <td>110</td>\n",
       "    </tr>\n",
       "    <tr>\n",
       "      <th>Agriculture 2 - Preparation &amp; Preplanting (Day 1)</th>\n",
       "      <td>108</td>\n",
       "    </tr>\n",
       "    <tr>\n",
       "      <th>Agriculture 2 - Preparation &amp; Preplanting (Day 2)</th>\n",
       "      <td>114</td>\n",
       "    </tr>\n",
       "    <tr>\n",
       "      <th>CATs / Agriculture Champions</th>\n",
       "      <td>13</td>\n",
       "    </tr>\n",
       "    <tr>\n",
       "      <th>HHT 1 - Day 2 - VSLAs</th>\n",
       "      <td>110</td>\n",
       "    </tr>\n",
       "    <tr>\n",
       "      <th>...</th>\n",
       "      <th>...</th>\n",
       "      <th>...</th>\n",
       "      <th>...</th>\n",
       "      <th>...</th>\n",
       "      <td>...</td>\n",
       "    </tr>\n",
       "    <tr>\n",
       "      <th rowspan=\"5\" valign=\"top\">Rakai</th>\n",
       "      <th rowspan=\"5\" valign=\"top\">Nnongo_A</th>\n",
       "      <th rowspan=\"5\" valign=\"top\">2025</th>\n",
       "      <th rowspan=\"5\" valign=\"top\">A</th>\n",
       "      <th>HHT 1 - Day 2 - VSLAs</th>\n",
       "      <td>167</td>\n",
       "    </tr>\n",
       "    <tr>\n",
       "      <th>HHT 1 - Mindset and behavioral change</th>\n",
       "      <td>168</td>\n",
       "    </tr>\n",
       "    <tr>\n",
       "      <th>VSLA Leadership Training</th>\n",
       "      <td>31</td>\n",
       "    </tr>\n",
       "    <tr>\n",
       "      <th>WASH - Training 1</th>\n",
       "      <td>168</td>\n",
       "    </tr>\n",
       "    <tr>\n",
       "      <th>WASH Champions Training</th>\n",
       "      <td>9</td>\n",
       "    </tr>\n",
       "  </tbody>\n",
       "</table>\n",
       "<p>369 rows × 1 columns</p>\n",
       "</div>"
      ],
      "text/plain": [
       "                                                                                            household_id\n",
       "district_name village_name cohort cycle type                                                            \n",
       "Kitagwenda    Bujumiro_A   2025   A     Agriculture 1 - Organics Farming & Keyhole gard...           110\n",
       "                                        Agriculture 2 - Preparation & Preplanting (Day 1)            108\n",
       "                                        Agriculture 2 - Preparation & Preplanting (Day 2)            114\n",
       "                                        CATs / Agriculture Champions                                  13\n",
       "                                        HHT 1 - Day 2 - VSLAs                                        110\n",
       "...                                                                                                  ...\n",
       "Rakai         Nnongo_A     2025   A     HHT 1 - Day 2 - VSLAs                                        167\n",
       "                                        HHT 1 - Mindset and behavioral change                        168\n",
       "                                        VSLA Leadership Training                                      31\n",
       "                                        WASH - Training 1                                            168\n",
       "                                        WASH Champions Training                                        9\n",
       "\n",
       "[369 rows x 1 columns]"
      ]
     },
     "execution_count": 16,
     "metadata": {},
     "output_type": "execute_result"
    }
   ],
   "source": [
    "training_analysis"
   ]
  },
  {
   "cell_type": "code",
   "execution_count": 17,
   "id": "f165f8e3-6dc3-4210-b13b-c0d855308e26",
   "metadata": {},
   "outputs": [],
   "source": [
    "training_analysis = training_analysis.reset_index()"
   ]
  },
  {
   "cell_type": "code",
   "execution_count": 18,
   "id": "40f2b745",
   "metadata": {},
   "outputs": [],
   "source": [
    "training_analysis1=training_analysis[training_analysis['cohort']==2025]"
   ]
  },
  {
   "cell_type": "code",
   "execution_count": 19,
   "id": "326015cf-6f82-4cb9-83ec-8ab75f3ab9d1",
   "metadata": {},
   "outputs": [],
   "source": [
    "training_analysis1.to_excel(r\"C:\\Users\\Edison New\\Desktop\\HWG Q1 Reporting 2025\\Quality reports shared\\training_analysis.xlsx\", index=False)\n"
   ]
  },
  {
   "cell_type": "code",
   "execution_count": 20,
   "id": "3eaf9ce4-99db-4d9d-93c7-883efa6dd191",
   "metadata": {},
   "outputs": [],
   "source": [
    "trainings = [\n",
    "    # \"Agriculture - General Refresher\",\n",
    "    # \"Agriculture - Post Harvest Handling\",\n",
    "    \"Agriculture 1 - Organics Farming & Keyhole gardening\",\n",
    "    \"Agriculture 2 - Preparation & Preplanting (Day 1)\",\n",
    "    \"Agriculture 2 - Preparation & Preplanting (Day 2)\",\n",
    "    # \"Agriculture Perennial Crops\",\n",
    "    \"CATs / Agriculture Champions\",\n",
    "    # \"CDD Training #1\",\n",
    "    # \"Coffee Champions - ToT 1\",\n",
    "    # \"Coffee Champions - ToT 2\",\n",
    "    # \"Coffee Champions - ToT 3\",\n",
    "    # \"Coffee Champions Training\",\n",
    "    # \"Coffee Value Addition Training\",\n",
    "    # \"Collective Marketings\",\n",
    "    \"HHT 1 - Day 2 - VSLAs\",\n",
    "    \"HHT 1 - Mindset and behavioral change\",\n",
    "    \"HHT 2 - Financial Literacy and VSLA and and Business Enterprise Selection\",\n",
    "    # \"HHT 3 - Gender Equality and Social Inclusion\",\n",
    "    \"HOR 1\",\n",
    "    # \"HOR 2\",\n",
    "    # \"HOR 3\",\n",
    "    # \"HOR 4\",\n",
    "    # \"Livestock - Beneficiary Training\",\n",
    "    # \"Livestock - Livestock Care & Management\",\n",
    "    \"Village Champions\",\n",
    "    # \"VLT - Training\",\n",
    "    # \"VLT - Training 1\",\n",
    "    # \"VSLA Leadership Training\",\n",
    "    # \"WASH - Refresher\",\n",
    "    \"WASH - Training 1\",\n",
    "    \"WASH Champions Training\",\n",
    "    # \"Water User Committee\"\n",
    "]\n"
   ]
  },
  {
   "cell_type": "code",
   "execution_count": 21,
   "id": "21ba9515-0930-4c48-aef3-1bcf30140b5f",
   "metadata": {},
   "outputs": [],
   "source": [
    "missing_trainings = []"
   ]
  },
  {
   "cell_type": "code",
   "execution_count": 22,
   "id": "c6614ae8-52ea-4fff-8ace-d8a29c6496f6",
   "metadata": {},
   "outputs": [],
   "source": [
    "# Group by district, village, cohort, and cycle\n",
    "grouped = training_analysis.groupby(['district_name', 'village_name', 'cohort', 'cycle'])"
   ]
  },
  {
   "cell_type": "code",
   "execution_count": 23,
   "id": "93fde04d-da5c-4d37-b88e-e055a0820930",
   "metadata": {},
   "outputs": [],
   "source": [
    "for (district, village, cohort, cycle), group in grouped:\n",
    "    attended_trainings = group['type'].unique().tolist()  \n",
    "    missing = list(set(trainings) - set(attended_trainings)) \n",
    "    if missing:\n",
    "        missing_trainings.append({\n",
    "            \"district_name\": district,\n",
    "            \"village\": village,\n",
    "            \"cohort\": cohort,\n",
    "            \"cycle\": cycle,\n",
    "            \"missing_trainings\": \", \".join(missing)\n",
    "        })\n",
    "\n",
    "# Convert to DataFrame\n",
    "missing_trainings_df = pd.DataFrame(missing_trainings)\n"
   ]
  },
  {
   "cell_type": "code",
   "execution_count": 24,
   "id": "e1de0123",
   "metadata": {},
   "outputs": [],
   "source": [
    "agric_training=pd.read_csv(r\"C:\\Users\\Edison New\\Desktop\\HWG Q1 Reporting 2025\\Raw data sets from the app\\agriculture trainings check#4.csv\")"
   ]
  },
  {
   "cell_type": "code",
   "execution_count": 25,
   "id": "3b4eb5d9",
   "metadata": {},
   "outputs": [
    {
     "data": {
      "text/plain": [
       "(11585, 50)"
      ]
     },
     "execution_count": 25,
     "metadata": {},
     "output_type": "execute_result"
    }
   ],
   "source": [
    "agric_training.shape"
   ]
  },
  {
   "cell_type": "code",
   "execution_count": 26,
   "id": "16d27c2c",
   "metadata": {},
   "outputs": [
    {
     "data": {
      "text/plain": [
       "(11585, 50)"
      ]
     },
     "execution_count": 26,
     "metadata": {},
     "output_type": "execute_result"
    }
   ],
   "source": [
    "clean_agric_file=agric_training[agric_training['household_id'].str.upper().isin(census_merged['household_id'].str.upper())]\n",
    "clean_agric_file.shape"
   ]
  },
  {
   "cell_type": "code",
   "execution_count": 27,
   "id": "f8f6216d",
   "metadata": {},
   "outputs": [],
   "source": [
    "filepath=\"C:\\\\Users\\\\Edison New\\\\Desktop\\\\HWG Q1 Reporting 2025\\\\Datasetsets shared\\\\Agriculture_clean_data.csv\"\n",
    "clean_agric_file.to_csv(filepath,index=False)"
   ]
  },
  {
   "cell_type": "markdown",
   "id": "fcb9f9e7",
   "metadata": {},
   "source": [
    "### Value addition training 2024 cycle A"
   ]
  },
  {
   "cell_type": "code",
   "execution_count": 28,
   "id": "f62dc784",
   "metadata": {},
   "outputs": [],
   "source": [
    "# checking for training of coffee value addition training\n",
    "data_value=pd.read_csv(r\"C:\\Users\\Edison New\\Desktop\\HWG Q1 Reporting 2025\\Raw data sets from the app\\check2 hWG Q1 files\\coffee value addition training.csv\")"
   ]
  },
  {
   "cell_type": "code",
   "execution_count": 29,
   "id": "bdead05e",
   "metadata": {},
   "outputs": [],
   "source": [
    "census_A=census[census['Cycle']=='A']\n",
    "census_A.shape\n",
    "census_A_villages=census_A['village'].unique()"
   ]
  },
  {
   "cell_type": "code",
   "execution_count": 30,
   "id": "3d3dfeed",
   "metadata": {},
   "outputs": [
    {
     "name": "stdout",
     "output_type": "stream",
     "text": [
      "[]\n"
     ]
    }
   ],
   "source": [
    "missing_coffee=[]\n",
    "coffee_villages=data_value['village_name'].unique()\n",
    "for village in census_A_villages:\n",
    "    if village not in coffee_villages:\n",
    "       village.append(missing_coffee)\n",
    "print(missing_coffee)"
   ]
  },
  {
   "cell_type": "code",
   "execution_count": 31,
   "id": "22bb075e",
   "metadata": {},
   "outputs": [],
   "source": [
    "filepath=\"C:\\\\Users\\\\Edison New\\\\Desktop\\\\HWG Q1 Reporting 2025\\\\Datasetsets shared\\\\coffee value addition training clean.csv\"\n",
    "data_value_addition_clean_file=data_value[data_value['household_id'].str.upper().isin(census['household_id'].str.upper())]\n",
    "data_value_addition_clean_file.to_csv(filepath,index=False)"
   ]
  },
  {
   "cell_type": "markdown",
   "id": "26d2c717",
   "metadata": {},
   "source": [
    "### HOR#3 for 2024 cycle B"
   ]
  },
  {
   "cell_type": "code",
   "execution_count": 32,
   "id": "e24b3a8f",
   "metadata": {},
   "outputs": [],
   "source": [
    "data_hor3=pd.read_excel(r\"C:\\Users\\Edison New\\Desktop\\HWG Q1 Reporting 2025\\Raw data sets from the app\\check2 hWG Q1 files\\HOR#3 2024 cycle B.xlsx\")"
   ]
  },
  {
   "cell_type": "code",
   "execution_count": 33,
   "id": "dfac94ef",
   "metadata": {},
   "outputs": [
    {
     "data": {
      "text/plain": [
       "(6963, 8)"
      ]
     },
     "execution_count": 33,
     "metadata": {},
     "output_type": "execute_result"
    }
   ],
   "source": [
    "census_b=census[census['Cycle']==\"B\"]\n",
    "census_b.shape"
   ]
  },
  {
   "cell_type": "code",
   "execution_count": 34,
   "id": "92519656",
   "metadata": {},
   "outputs": [],
   "source": [
    "census_b_villages = census_b['village'].unique()\n",
    "data_hor3_villages = data_hor3['village_name'].unique()\n",
    "missing_hor3 = []\n",
    "for village in census_b_villages:\n",
    "    if village not in data_hor3_villages:\n",
    "        missing_hor3.append(village)"
   ]
  },
  {
   "cell_type": "code",
   "execution_count": 35,
   "id": "c029ab4c",
   "metadata": {},
   "outputs": [],
   "source": [
    "for m in missing_hor3:\n",
    "    df=pd.DataFrame(missing_hor3,columns=['village_name'])\n",
    "    df['type']=\"HOR 3\"\n",
    "    "
   ]
  },
  {
   "cell_type": "code",
   "execution_count": 36,
   "id": "0a62741a",
   "metadata": {},
   "outputs": [],
   "source": [
    "summary_census_b=census_b.groupby(['district','village','Cluster','Cycle','cohort'])['household_id'].count()"
   ]
  },
  {
   "cell_type": "code",
   "execution_count": 37,
   "id": "17058426",
   "metadata": {},
   "outputs": [],
   "source": [
    "summary_census_b = summary_census_b.reset_index().rename(columns={'village': 'village_name'})\n"
   ]
  },
  {
   "cell_type": "code",
   "execution_count": 38,
   "id": "4b7ace41",
   "metadata": {},
   "outputs": [],
   "source": [
    "missing_hor3 = pd.merge(summary_census_b, df, on='village_name', how='outer')"
   ]
  },
  {
   "cell_type": "code",
   "execution_count": 39,
   "id": "cebb92f3",
   "metadata": {},
   "outputs": [],
   "source": [
    "missing_hor3 = missing_hor3[missing_hor3['district'] != \"Rakai\"]"
   ]
  },
  {
   "cell_type": "code",
   "execution_count": 40,
   "id": "b6d654bc",
   "metadata": {},
   "outputs": [],
   "source": [
    "missing_hor3.rename(columns={'district':'district_name',\n",
    "                             'village_name':'village',\n",
    "                             'Cycle':'cycle',\n",
    "                             'cohort':'cohort',\n",
    "                             'type':'missing_trainings'},inplace=True)"
   ]
  },
  {
   "cell_type": "code",
   "execution_count": 41,
   "id": "038d724f",
   "metadata": {},
   "outputs": [],
   "source": [
    "merged_missing_training = pd.concat([missing_trainings_df, missing_hor3], ignore_index=True)"
   ]
  },
  {
   "cell_type": "code",
   "execution_count": 42,
   "id": "3bde8009",
   "metadata": {},
   "outputs": [],
   "source": [
    "merged_missing_training.to_excel(r\"C:\\Users\\Edison New\\Desktop\\HWG Q1 Reporting 2025\\Datasetsets shared\\missing training reports.xlsx\", index=False)"
   ]
  },
  {
   "cell_type": "code",
   "execution_count": 43,
   "id": "b573525e",
   "metadata": {},
   "outputs": [],
   "source": [
    "filepath=\"C:\\\\Users\\\\Edison New\\\\Desktop\\\\HWG Q1 Reporting 2025\\\\Datasetsets shared\\\\HOR#3 training clean.csv\"\n",
    "Clean_HOR=data_hor3[data_hor3['household_id'].isin(census['household_id'])]\n",
    "Clean_HOR.to_csv(filepath,index=False)"
   ]
  },
  {
   "cell_type": "markdown",
   "id": "d03f527b",
   "metadata": {},
   "source": [
    "## Agriculuture tools analysis"
   ]
  },
  {
   "cell_type": "code",
   "execution_count": 44,
   "id": "e4f0cfb0",
   "metadata": {},
   "outputs": [],
   "source": [
    "tool_list=['Hoes','Spade','Pick Axe','Forked Hoe','Secateurs','Gloves',\n",
    "           'Watering can','Jerrycans','Spray Pumps','Tarpaulin','Pruning saw',\n",
    "           'Filters','Mortar and Pestle','Plastic Drums']"
   ]
  },
  {
   "cell_type": "code",
   "execution_count": 45,
   "id": "ce9ea621",
   "metadata": {},
   "outputs": [],
   "source": [
    "tools_system=pd.read_excel(r\"C:\\\\Users\\\\Edison New\\Desktop\\\\HWG Q1 Reporting 2025\\\\Raw data sets from the app\\\\check2 hWG Q1 files\\\\Tools system.xlsx\")"
   ]
  },
  {
   "cell_type": "code",
   "execution_count": 46,
   "id": "7c515b4e",
   "metadata": {},
   "outputs": [
    {
     "data": {
      "text/html": [
       "<div>\n",
       "<style scoped>\n",
       "    .dataframe tbody tr th:only-of-type {\n",
       "        vertical-align: middle;\n",
       "    }\n",
       "\n",
       "    .dataframe tbody tr th {\n",
       "        vertical-align: top;\n",
       "    }\n",
       "\n",
       "    .dataframe thead th {\n",
       "        text-align: right;\n",
       "    }\n",
       "</style>\n",
       "<table border=\"1\" class=\"dataframe\">\n",
       "  <thead>\n",
       "    <tr style=\"text-align: right;\">\n",
       "      <th></th>\n",
       "      <th>guid</th>\n",
       "      <th>region_name</th>\n",
       "      <th>district_name</th>\n",
       "      <th>cluster_name</th>\n",
       "      <th>village_name</th>\n",
       "      <th>cohort</th>\n",
       "      <th>cycle</th>\n",
       "      <th>reporter</th>\n",
       "      <th>reporter_email</th>\n",
       "      <th>name</th>\n",
       "      <th>...</th>\n",
       "      <th>tool</th>\n",
       "      <th>number_of_pieces</th>\n",
       "      <th>hours_to_complete</th>\n",
       "      <th>officials</th>\n",
       "      <th>other_officials</th>\n",
       "      <th>challenges</th>\n",
       "      <th>other_challenges</th>\n",
       "      <th>latitude</th>\n",
       "      <th>longitude</th>\n",
       "      <th>created_at</th>\n",
       "    </tr>\n",
       "  </thead>\n",
       "  <tbody>\n",
       "    <tr>\n",
       "      <th>0</th>\n",
       "      <td>177B61DB-FA41-D2AC-F1BB-951B953C88D7</td>\n",
       "      <td>South West</td>\n",
       "      <td>Kitagwenda</td>\n",
       "      <td>Muyenga</td>\n",
       "      <td>Muyenga_TC</td>\n",
       "      <td>2025</td>\n",
       "      <td>A</td>\n",
       "      <td>Irene</td>\n",
       "      <td>irene.mwigarire@raisingthevillage.org</td>\n",
       "      <td>Robert Magezi</td>\n",
       "      <td>...</td>\n",
       "      <td>Spade</td>\n",
       "      <td>6</td>\n",
       "      <td>4</td>\n",
       "      <td>NaN</td>\n",
       "      <td>NaN</td>\n",
       "      <td>NaN</td>\n",
       "      <td>NaN</td>\n",
       "      <td>0.022091</td>\n",
       "      <td>30.385561</td>\n",
       "      <td>2025-02-07 15:08:01</td>\n",
       "    </tr>\n",
       "    <tr>\n",
       "      <th>1</th>\n",
       "      <td>BF43507F-B3BA-032B-715B-7F56CF673D2F</td>\n",
       "      <td>South West</td>\n",
       "      <td>Kitagwenda</td>\n",
       "      <td>Muyenga</td>\n",
       "      <td>Muyenga_TC</td>\n",
       "      <td>2025</td>\n",
       "      <td>A</td>\n",
       "      <td>Irene</td>\n",
       "      <td>irene.mwigarire@raisingthevillage.org</td>\n",
       "      <td>Robert Magezi</td>\n",
       "      <td>...</td>\n",
       "      <td>Secateurs</td>\n",
       "      <td>15</td>\n",
       "      <td>4</td>\n",
       "      <td>NaN</td>\n",
       "      <td>NaN</td>\n",
       "      <td>NaN</td>\n",
       "      <td>NaN</td>\n",
       "      <td>0.022091</td>\n",
       "      <td>30.385561</td>\n",
       "      <td>2025-02-07 15:08:01</td>\n",
       "    </tr>\n",
       "    <tr>\n",
       "      <th>2</th>\n",
       "      <td>2908005B-429F-E347-46AB-BBB44D4CBD7E</td>\n",
       "      <td>South West</td>\n",
       "      <td>Kitagwenda</td>\n",
       "      <td>Muyenga</td>\n",
       "      <td>Muyenga_TC</td>\n",
       "      <td>2025</td>\n",
       "      <td>A</td>\n",
       "      <td>Irene</td>\n",
       "      <td>irene.mwigarire@raisingthevillage.org</td>\n",
       "      <td>Robert Magezi</td>\n",
       "      <td>...</td>\n",
       "      <td>Plastic Drums</td>\n",
       "      <td>3</td>\n",
       "      <td>4</td>\n",
       "      <td>NaN</td>\n",
       "      <td>NaN</td>\n",
       "      <td>NaN</td>\n",
       "      <td>NaN</td>\n",
       "      <td>0.022091</td>\n",
       "      <td>30.385561</td>\n",
       "      <td>2025-02-07 15:08:01</td>\n",
       "    </tr>\n",
       "    <tr>\n",
       "      <th>3</th>\n",
       "      <td>B4A55427-7F18-49EB-F0AB-68956F21CA51</td>\n",
       "      <td>South West</td>\n",
       "      <td>Kitagwenda</td>\n",
       "      <td>Muyenga</td>\n",
       "      <td>Muyenga_TC</td>\n",
       "      <td>2025</td>\n",
       "      <td>A</td>\n",
       "      <td>Irene</td>\n",
       "      <td>irene.mwigarire@raisingthevillage.org</td>\n",
       "      <td>Robert Magezi</td>\n",
       "      <td>...</td>\n",
       "      <td>Pick Axe</td>\n",
       "      <td>6</td>\n",
       "      <td>4</td>\n",
       "      <td>NaN</td>\n",
       "      <td>NaN</td>\n",
       "      <td>NaN</td>\n",
       "      <td>NaN</td>\n",
       "      <td>0.022091</td>\n",
       "      <td>30.385561</td>\n",
       "      <td>2025-02-07 15:08:01</td>\n",
       "    </tr>\n",
       "    <tr>\n",
       "      <th>4</th>\n",
       "      <td>A4766DF0-B57B-D66F-5D68-1A3DC6286E35</td>\n",
       "      <td>South West</td>\n",
       "      <td>Kitagwenda</td>\n",
       "      <td>Muyenga</td>\n",
       "      <td>Muyenga_TC</td>\n",
       "      <td>2025</td>\n",
       "      <td>A</td>\n",
       "      <td>Irene</td>\n",
       "      <td>irene.mwigarire@raisingthevillage.org</td>\n",
       "      <td>Robert Magezi</td>\n",
       "      <td>...</td>\n",
       "      <td>Knapsack Sprayer</td>\n",
       "      <td>6</td>\n",
       "      <td>4</td>\n",
       "      <td>NaN</td>\n",
       "      <td>NaN</td>\n",
       "      <td>NaN</td>\n",
       "      <td>NaN</td>\n",
       "      <td>0.022091</td>\n",
       "      <td>30.385561</td>\n",
       "      <td>2025-02-07 15:08:01</td>\n",
       "    </tr>\n",
       "  </tbody>\n",
       "</table>\n",
       "<p>5 rows × 25 columns</p>\n",
       "</div>"
      ],
      "text/plain": [
       "                                   guid region_name district_name  \\\n",
       "0  177B61DB-FA41-D2AC-F1BB-951B953C88D7  South West    Kitagwenda   \n",
       "1  BF43507F-B3BA-032B-715B-7F56CF673D2F  South West    Kitagwenda   \n",
       "2  2908005B-429F-E347-46AB-BBB44D4CBD7E  South West    Kitagwenda   \n",
       "3  B4A55427-7F18-49EB-F0AB-68956F21CA51  South West    Kitagwenda   \n",
       "4  A4766DF0-B57B-D66F-5D68-1A3DC6286E35  South West    Kitagwenda   \n",
       "\n",
       "  cluster_name village_name  cohort cycle reporter  \\\n",
       "0      Muyenga   Muyenga_TC    2025     A    Irene   \n",
       "1      Muyenga   Muyenga_TC    2025     A    Irene   \n",
       "2      Muyenga   Muyenga_TC    2025     A    Irene   \n",
       "3      Muyenga   Muyenga_TC    2025     A    Irene   \n",
       "4      Muyenga   Muyenga_TC    2025     A    Irene   \n",
       "\n",
       "                          reporter_email           name  ...  \\\n",
       "0  irene.mwigarire@raisingthevillage.org  Robert Magezi  ...   \n",
       "1  irene.mwigarire@raisingthevillage.org  Robert Magezi  ...   \n",
       "2  irene.mwigarire@raisingthevillage.org  Robert Magezi  ...   \n",
       "3  irene.mwigarire@raisingthevillage.org  Robert Magezi  ...   \n",
       "4  irene.mwigarire@raisingthevillage.org  Robert Magezi  ...   \n",
       "\n",
       "               tool number_of_pieces  hours_to_complete officials  \\\n",
       "0             Spade                6                  4       NaN   \n",
       "1         Secateurs               15                  4       NaN   \n",
       "2     Plastic Drums                3                  4       NaN   \n",
       "3          Pick Axe                6                  4       NaN   \n",
       "4  Knapsack Sprayer                6                  4       NaN   \n",
       "\n",
       "   other_officials challenges  other_challenges  latitude  longitude  \\\n",
       "0              NaN        NaN               NaN  0.022091  30.385561   \n",
       "1              NaN        NaN               NaN  0.022091  30.385561   \n",
       "2              NaN        NaN               NaN  0.022091  30.385561   \n",
       "3              NaN        NaN               NaN  0.022091  30.385561   \n",
       "4              NaN        NaN               NaN  0.022091  30.385561   \n",
       "\n",
       "           created_at  \n",
       "0 2025-02-07 15:08:01  \n",
       "1 2025-02-07 15:08:01  \n",
       "2 2025-02-07 15:08:01  \n",
       "3 2025-02-07 15:08:01  \n",
       "4 2025-02-07 15:08:01  \n",
       "\n",
       "[5 rows x 25 columns]"
      ]
     },
     "execution_count": 46,
     "metadata": {},
     "output_type": "execute_result"
    }
   ],
   "source": [
    "tools_system.head()"
   ]
  },
  {
   "cell_type": "code",
   "execution_count": 47,
   "id": "cec658ee",
   "metadata": {},
   "outputs": [],
   "source": [
    "# Expand the 'tools' column\n",
    "# tools_expanded = tools_system1['tools'].str.split(', ', expand=True).stack().reset_index(level=1, drop=True)\n",
    "# tools_expanded = tools_expanded.str.extract(r'(?P<Tool_Name>.+) \\((?P<Quantity>\\d+)\\)')\n",
    "\n",
    "# # Create a new DataFrame with repeated original data for alignment\n",
    "# if len(tools_system1) > len(tools_expanded.groupby(level=0).size()):\n",
    "#     tools_system1 = tools_system1.iloc[:len(tools_expanded.groupby(level=0).size())]\n",
    "# elif len(tools_system1) < len(tools_expanded.groupby(level=0).size()):\n",
    "#     tools_expanded = tools_expanded.iloc[:len(tools_system1)]\n",
    "\n",
    "# # Proceed with the repeat operation\n",
    "# df_expanded = tools_system1.loc[tools_system1.index.repeat(tools_expanded.groupby(level=0).size())].reset_index(drop=True)\n",
    "\n",
    "# # Combine with expanded tools DataFrame\n",
    "# tools_system = pd.concat([df_expanded, tools_expanded.reset_index(drop=True)], axis=1).drop(columns=['tools'])"
   ]
  },
  {
   "cell_type": "code",
   "execution_count": 48,
   "id": "ef67270a",
   "metadata": {},
   "outputs": [],
   "source": [
    "# tools_system['Tool_Name'].unique()"
   ]
  },
  {
   "cell_type": "code",
   "execution_count": 49,
   "id": "c6fe56bf",
   "metadata": {},
   "outputs": [
    {
     "name": "stderr",
     "output_type": "stream",
     "text": [
      "C:\\Users\\Edison New\\AppData\\Local\\Temp\\ipykernel_10192\\2040254355.py:1: FutureWarning: A value is trying to be set on a copy of a DataFrame or Series through chained assignment using an inplace method.\n",
      "The behavior will change in pandas 3.0. This inplace method will never work because the intermediate object on which we are setting values always behaves as a copy.\n",
      "\n",
      "For example, when doing 'df[col].method(value, inplace=True)', try using 'df.method({col: value}, inplace=True)' or df[col] = df[col].method(value) instead, to perform the operation inplace on the original object.\n",
      "\n",
      "\n",
      "  tools_system['tool'].replace('Knapsack Sprayer','Spray Pumps',inplace=True)\n"
     ]
    }
   ],
   "source": [
    "tools_system['tool'].replace('Knapsack Sprayer','Spray Pumps',inplace=True)"
   ]
  },
  {
   "cell_type": "code",
   "execution_count": 50,
   "id": "5bfc037e",
   "metadata": {},
   "outputs": [],
   "source": [
    "tools_distributed=tools_system.groupby(['district_name','cluster_name',\n",
    "                                        'village_name','tool'])['number_of_pieces'].sum()"
   ]
  },
  {
   "cell_type": "code",
   "execution_count": 51,
   "id": "e1d27f7a",
   "metadata": {},
   "outputs": [],
   "source": [
    "tools_distributed=tools_distributed.reset_index()"
   ]
  },
  {
   "cell_type": "code",
   "execution_count": 52,
   "id": "4e4b4aee",
   "metadata": {},
   "outputs": [],
   "source": [
    "# tools_distributed.rename(columns={\"Tool_Name\":\"tool\",\n",
    "#                                   \"Quantity\":'number_of_pieces'},inplace=True)"
   ]
  },
  {
   "cell_type": "code",
   "execution_count": 53,
   "id": "d548e89e",
   "metadata": {},
   "outputs": [],
   "source": [
    "filepath=\"C:\\\\Users\\\\Edison New\\\\Desktop\\\\HWG Q1 Reporting 2025\\\\Quality reports shared\\\\tools distribution clean file.csv\"\n",
    "tools_distributed.to_csv(filepath,index=False)"
   ]
  },
  {
   "cell_type": "code",
   "execution_count": 54,
   "id": "9664b7d9",
   "metadata": {},
   "outputs": [],
   "source": [
    "missing_tools = []"
   ]
  },
  {
   "cell_type": "code",
   "execution_count": 55,
   "id": "bbbb5dca",
   "metadata": {},
   "outputs": [],
   "source": [
    "tools_villages = set(tools_system['village_name'].unique())\n",
    "for row in census_merged.itertuples(index=False):\n",
    "    if row.village not in tools_villages:\n",
    "        missing_tools.append({\n",
    "            \"district_name\": row.district,\n",
    "            \"cluster_name\": row.Cluster,\n",
    "            \"village_name\": row.village,\n",
    "            \"missing_tools\": \", \".join(tool_list)  # Ensure tool_list exists\n",
    "        })"
   ]
  },
  {
   "cell_type": "code",
   "execution_count": 56,
   "id": "2130afc0",
   "metadata": {},
   "outputs": [],
   "source": [
    "grouped=tools_distributed.groupby(['district_name','cluster_name','village_name'])"
   ]
  },
  {
   "cell_type": "code",
   "execution_count": 57,
   "id": "2ca12c44",
   "metadata": {},
   "outputs": [],
   "source": [
    "for (district, cluster,village), group in grouped:\n",
    "    tools_distributed1 = group['tool'].unique().tolist()  \n",
    "    missing = list(set(tool_list) - set(tools_distributed1)) \n",
    "    if missing:\n",
    "        missing_tools.append({\n",
    "            \"district_name\": district,\n",
    "            \"cluster_name\": cluster,\n",
    "            \"village_name\": village,\n",
    "            \"missing_tools\": \", \".join(missing)\n",
    "        })"
   ]
  },
  {
   "cell_type": "code",
   "execution_count": 58,
   "id": "5db89f39",
   "metadata": {},
   "outputs": [],
   "source": [
    "missing_tools_df = pd.DataFrame(missing_tools)\n",
    "missing_tools_df.to_excel(r\"C:\\Users\\Edison New\\Desktop\\HWG Q1 Reporting 2025\\Quality reports shared\\missing tools.xlsx\", index=False)"
   ]
  },
  {
   "cell_type": "markdown",
   "id": "d3354893",
   "metadata": {},
   "source": [
    "###agriculture tools with designs check\n"
   ]
  },
  {
   "cell_type": "code",
   "execution_count": 59,
   "id": "d432b685",
   "metadata": {},
   "outputs": [],
   "source": [
    "tools_designs=pd.read_excel(r'C:\\Users\\RTV-LPT1-233\\Desktop\\edison jupyter\\tools_seed.xlsx',sheet_name='Tools')"
   ]
  },
  {
   "cell_type": "code",
   "execution_count": 60,
   "id": "d82737fd",
   "metadata": {},
   "outputs": [
    {
     "data": {
      "text/html": [
       "<div>\n",
       "<style scoped>\n",
       "    .dataframe tbody tr th:only-of-type {\n",
       "        vertical-align: middle;\n",
       "    }\n",
       "\n",
       "    .dataframe tbody tr th {\n",
       "        vertical-align: top;\n",
       "    }\n",
       "\n",
       "    .dataframe thead th {\n",
       "        text-align: right;\n",
       "    }\n",
       "</style>\n",
       "<table border=\"1\" class=\"dataframe\">\n",
       "  <thead>\n",
       "    <tr style=\"text-align: right;\">\n",
       "      <th></th>\n",
       "      <th>district</th>\n",
       "      <th>cluster</th>\n",
       "      <th>Villages</th>\n",
       "      <th>#HHs</th>\n",
       "      <th>Watering Cans - ( 5 per Agric Champion)\\nNice House of Plastics</th>\n",
       "      <th>Hoes - (2 per Agric Champion)\\nCock</th>\n",
       "      <th>Secateurs (5 per Agric Champion/ Coffee Champion)</th>\n",
       "      <th>Spades - (2 per Agric Champion)\\nMetalic spade &amp; metalic handle</th>\n",
       "      <th>Pick Axe - (1 per Agric Champion)\\nApex/Crocodile</th>\n",
       "      <th>Gloves (2 per Agric Champion/ Coffee Champion)</th>\n",
       "      <th>...</th>\n",
       "      <th>Wheel barrows\\nReliance</th>\n",
       "      <th>Sprayer for Agric - (2 per Agric Champion)\\nBomba Magoba 16 Ltrs</th>\n",
       "      <th>Tarpaulin - (A pack of 5 per Agric Champion)\\nBlue 6*6</th>\n",
       "      <th>Jerrycan - (2 per Agric Champion)\\nNice House of Plastics</th>\n",
       "      <th>Oxplough</th>\n",
       "      <th>plastic_tanks_120_ltrs_liquid_manure</th>\n",
       "      <th>sacks_liquid_manure</th>\n",
       "      <th>sisal_rope_liquid_manure</th>\n",
       "      <th>filter_liquid_manure</th>\n",
       "      <th>mortar_&amp;_pestle_liquid_manure</th>\n",
       "    </tr>\n",
       "  </thead>\n",
       "  <tbody>\n",
       "    <tr>\n",
       "      <th>0</th>\n",
       "      <td>Kitagwenda</td>\n",
       "      <td>Muyenga</td>\n",
       "      <td>Muyenga_Central</td>\n",
       "      <td>42</td>\n",
       "      <td>10</td>\n",
       "      <td>4</td>\n",
       "      <td>10</td>\n",
       "      <td>4</td>\n",
       "      <td>4</td>\n",
       "      <td>4</td>\n",
       "      <td>...</td>\n",
       "      <td>0</td>\n",
       "      <td>4</td>\n",
       "      <td>20</td>\n",
       "      <td>4</td>\n",
       "      <td>0</td>\n",
       "      <td>2</td>\n",
       "      <td>2</td>\n",
       "      <td>2</td>\n",
       "      <td>2</td>\n",
       "      <td>2</td>\n",
       "    </tr>\n",
       "    <tr>\n",
       "      <th>1</th>\n",
       "      <td>Kitagwenda</td>\n",
       "      <td>Muyenga</td>\n",
       "      <td>Muyenga_TC</td>\n",
       "      <td>55</td>\n",
       "      <td>15</td>\n",
       "      <td>6</td>\n",
       "      <td>15</td>\n",
       "      <td>6</td>\n",
       "      <td>6</td>\n",
       "      <td>6</td>\n",
       "      <td>...</td>\n",
       "      <td>0</td>\n",
       "      <td>6</td>\n",
       "      <td>30</td>\n",
       "      <td>6</td>\n",
       "      <td>0</td>\n",
       "      <td>3</td>\n",
       "      <td>3</td>\n",
       "      <td>0</td>\n",
       "      <td>3</td>\n",
       "      <td>3</td>\n",
       "    </tr>\n",
       "    <tr>\n",
       "      <th>2</th>\n",
       "      <td>Kitagwenda</td>\n",
       "      <td>Muyenga</td>\n",
       "      <td>Nganiko_2</td>\n",
       "      <td>66</td>\n",
       "      <td>15</td>\n",
       "      <td>6</td>\n",
       "      <td>15</td>\n",
       "      <td>6</td>\n",
       "      <td>6</td>\n",
       "      <td>6</td>\n",
       "      <td>...</td>\n",
       "      <td>0</td>\n",
       "      <td>6</td>\n",
       "      <td>30</td>\n",
       "      <td>6</td>\n",
       "      <td>0</td>\n",
       "      <td>3</td>\n",
       "      <td>3</td>\n",
       "      <td>0</td>\n",
       "      <td>3</td>\n",
       "      <td>3</td>\n",
       "    </tr>\n",
       "    <tr>\n",
       "      <th>3</th>\n",
       "      <td>Kitagwenda</td>\n",
       "      <td>Muyenga</td>\n",
       "      <td>Nganiko_3</td>\n",
       "      <td>60</td>\n",
       "      <td>15</td>\n",
       "      <td>6</td>\n",
       "      <td>15</td>\n",
       "      <td>6</td>\n",
       "      <td>6</td>\n",
       "      <td>6</td>\n",
       "      <td>...</td>\n",
       "      <td>0</td>\n",
       "      <td>6</td>\n",
       "      <td>30</td>\n",
       "      <td>6</td>\n",
       "      <td>0</td>\n",
       "      <td>3</td>\n",
       "      <td>3</td>\n",
       "      <td>0</td>\n",
       "      <td>3</td>\n",
       "      <td>3</td>\n",
       "    </tr>\n",
       "    <tr>\n",
       "      <th>4</th>\n",
       "      <td>Kitagwenda</td>\n",
       "      <td>Muyenga</td>\n",
       "      <td>Zanzibar</td>\n",
       "      <td>57</td>\n",
       "      <td>15</td>\n",
       "      <td>6</td>\n",
       "      <td>15</td>\n",
       "      <td>6</td>\n",
       "      <td>6</td>\n",
       "      <td>6</td>\n",
       "      <td>...</td>\n",
       "      <td>0</td>\n",
       "      <td>6</td>\n",
       "      <td>30</td>\n",
       "      <td>6</td>\n",
       "      <td>0</td>\n",
       "      <td>3</td>\n",
       "      <td>3</td>\n",
       "      <td>0</td>\n",
       "      <td>3</td>\n",
       "      <td>3</td>\n",
       "    </tr>\n",
       "  </tbody>\n",
       "</table>\n",
       "<p>5 rows × 24 columns</p>\n",
       "</div>"
      ],
      "text/plain": [
       "     district  cluster        Villages   #HHs  \\\n",
       "0  Kitagwenda  Muyenga  Muyenga_Central    42   \n",
       "1  Kitagwenda  Muyenga       Muyenga_TC    55   \n",
       "2  Kitagwenda  Muyenga        Nganiko_2    66   \n",
       "3  Kitagwenda  Muyenga        Nganiko_3    60   \n",
       "4  Kitagwenda  Muyenga         Zanzibar    57   \n",
       "\n",
       "   Watering Cans - ( 5 per Agric Champion)\\nNice House of Plastics  \\\n",
       "0                                                 10                 \n",
       "1                                                 15                 \n",
       "2                                                 15                 \n",
       "3                                                 15                 \n",
       "4                                                 15                 \n",
       "\n",
       "   Hoes - (2 per Agric Champion)\\nCock   \\\n",
       "0                                     4   \n",
       "1                                     6   \n",
       "2                                     6   \n",
       "3                                     6   \n",
       "4                                     6   \n",
       "\n",
       "   Secateurs (5 per Agric Champion/ Coffee Champion)  \\\n",
       "0                                                 10   \n",
       "1                                                 15   \n",
       "2                                                 15   \n",
       "3                                                 15   \n",
       "4                                                 15   \n",
       "\n",
       "   Spades - (2 per Agric Champion)\\nMetalic spade & metalic handle  \\\n",
       "0                                                  4                 \n",
       "1                                                  6                 \n",
       "2                                                  6                 \n",
       "3                                                  6                 \n",
       "4                                                  6                 \n",
       "\n",
       "   Pick Axe - (1 per Agric Champion)\\nApex/Crocodile   \\\n",
       "0                                                  4    \n",
       "1                                                  6    \n",
       "2                                                  6    \n",
       "3                                                  6    \n",
       "4                                                  6    \n",
       "\n",
       "   Gloves (2 per Agric Champion/ Coffee Champion)  ...  \\\n",
       "0                                               4  ...   \n",
       "1                                               6  ...   \n",
       "2                                               6  ...   \n",
       "3                                               6  ...   \n",
       "4                                               6  ...   \n",
       "\n",
       "   Wheel barrows\\nReliance  \\\n",
       "0                        0   \n",
       "1                        0   \n",
       "2                        0   \n",
       "3                        0   \n",
       "4                        0   \n",
       "\n",
       "   Sprayer for Agric - (2 per Agric Champion)\\nBomba Magoba 16 Ltrs  \\\n",
       "0                                                  4                  \n",
       "1                                                  6                  \n",
       "2                                                  6                  \n",
       "3                                                  6                  \n",
       "4                                                  6                  \n",
       "\n",
       "   Tarpaulin - (A pack of 5 per Agric Champion)\\nBlue 6*6  \\\n",
       "0                                                 20        \n",
       "1                                                 30        \n",
       "2                                                 30        \n",
       "3                                                 30        \n",
       "4                                                 30        \n",
       "\n",
       "   Jerrycan - (2 per Agric Champion)\\nNice House of Plastics  Oxplough  \\\n",
       "0                                                  4                 0   \n",
       "1                                                  6                 0   \n",
       "2                                                  6                 0   \n",
       "3                                                  6                 0   \n",
       "4                                                  6                 0   \n",
       "\n",
       "   plastic_tanks_120_ltrs_liquid_manure  sacks_liquid_manure  \\\n",
       "0                                     2                    2   \n",
       "1                                     3                    3   \n",
       "2                                     3                    3   \n",
       "3                                     3                    3   \n",
       "4                                     3                    3   \n",
       "\n",
       "   sisal_rope_liquid_manure  filter_liquid_manure  \\\n",
       "0                         2                     2   \n",
       "1                         0                     3   \n",
       "2                         0                     3   \n",
       "3                         0                     3   \n",
       "4                         0                     3   \n",
       "\n",
       "   mortar_&_pestle_liquid_manure  \n",
       "0                              2  \n",
       "1                              3  \n",
       "2                              3  \n",
       "3                              3  \n",
       "4                              3  \n",
       "\n",
       "[5 rows x 24 columns]"
      ]
     },
     "execution_count": 60,
     "metadata": {},
     "output_type": "execute_result"
    }
   ],
   "source": [
    "tools_designs.head()"
   ]
  },
  {
   "cell_type": "code",
   "execution_count": 61,
   "id": "4653f417",
   "metadata": {},
   "outputs": [
    {
     "data": {
      "text/plain": [
       "Index(['district', 'cluster', 'Villages ', '#HHs',\n",
       "       'Watering Cans - ( 5 per Agric Champion)\\nNice House of Plastics',\n",
       "       'Hoes - (2 per Agric Champion)\\nCock ',\n",
       "       'Secateurs (5 per Agric Champion/ Coffee Champion)',\n",
       "       'Spades - (2 per Agric Champion)\\nMetalic spade & metalic handle',\n",
       "       'Pick Axe - (1 per Agric Champion)\\nApex/Crocodile ',\n",
       "       'Gloves (2 per Agric Champion/ Coffee Champion)',\n",
       "       'Forked Hoes - (1 per Agric Champion)\\nCrocodile', 'Pangas\\nDiamond',\n",
       "       'Trowels\\nGarden Hand Trowel', 'Prunning saws',\n",
       "       'Wheel barrows\\nReliance',\n",
       "       'Sprayer for Agric - (2 per Agric Champion)\\nBomba Magoba 16 Ltrs',\n",
       "       'Tarpaulin - (A pack of 5 per Agric Champion)\\nBlue 6*6',\n",
       "       'Jerrycan - (2 per Agric Champion)\\nNice House of Plastics', 'Oxplough',\n",
       "       'plastic_tanks_120_ltrs_liquid_manure', 'sacks_liquid_manure',\n",
       "       'sisal_rope_liquid_manure', 'filter_liquid_manure',\n",
       "       'mortar_&_pestle_liquid_manure'],\n",
       "      dtype='object')"
      ]
     },
     "execution_count": 61,
     "metadata": {},
     "output_type": "execute_result"
    }
   ],
   "source": [
    "tools_designs.columns"
   ]
  },
  {
   "cell_type": "code",
   "execution_count": 62,
   "id": "b125dc74",
   "metadata": {},
   "outputs": [],
   "source": [
    "tools_designs.rename(columns={'Secateurs (5 per Agric Champion/ Coffee Champion)':'Secateurs',\n",
    "                              'Gloves (2 per Agric Champion/ Coffee Champion)':'Gloves',\n",
    "                              'Watering Cans - ( 5 per Agric Champion)\\nNice House of Plastics':'Watering can',\n",
    "                              'Hoes - (2 per Agric Champion)\\nCock ':\"Hoes\",\n",
    "                              'Pick Axe - (1 per Agric Champion)\\nApex/Crocodile ':'Pick Axe',\n",
    "                              'Spades - (2 per Agric Champion)\\nMetalic spade & metalic handle':\"Spade\",\n",
    "                              \"Forked Hoes - (1 per Agric Champion)\\nCrocodile\":\"Forked Hoe\",\n",
    "                              \"Jerrycan - (2 per Agric Champion)\\nNice House of Plastics\":\"Jerrycans\",\n",
    "                              \"Sprayer for Agric - (2 per Agric Champion)\\nBomba Magoba 16 Ltrs\":\"Spray Pumps\",\n",
    "                              \"Tarpaulin - (A pack of 5 per Agric Champion)\\nBlue 6*6\":\"Tarpaulin\",\n",
    "                              \"Prunning saws\":\"Pruning saw\",\n",
    "                              \"division\":'district',\n",
    "                              \"plastic_tanks_120_ltrs_liquid_manure\":\"Plastic Drums\",\n",
    "                              \"sacks_liquid_manure\":\"Compound Sacks\",\n",
    "                              \"sisal_rope_liquid_manure\":\"Rope\",\n",
    "                              \"filter_liquid_manure\":\"Filters\",\n",
    "                              \"mortar_&_pestle_liquid_manure\":\"Mortar and Pestle\",\n",
    "                              'Villages ':\"village\"},inplace=True)"
   ]
  },
  {
   "cell_type": "code",
   "execution_count": 63,
   "id": "fa8906d6",
   "metadata": {},
   "outputs": [],
   "source": [
    "tools_designs_melted=pd.melt(tools_designs,id_vars=['district','cluster','village'],\n",
    "                             value_vars=['Secateurs','Gloves','Watering can','Hoes','Pick Axe','Spade',\n",
    "                                         'Forked Hoe','Jerrycans','Spray Pumps','Tarpaulin','Pruning saw',\n",
    "                                         \"Plastic Drums\",\"Compound Sacks\",\"Rope\",\"Filters\",\"Mortar and Pestle\"],\n",
    "                             var_name='tool',value_name='number_of_pieces')"
   ]
  },
  {
   "cell_type": "code",
   "execution_count": 64,
   "id": "e6cc7c77",
   "metadata": {},
   "outputs": [
    {
     "data": {
      "text/html": [
       "<div>\n",
       "<style scoped>\n",
       "    .dataframe tbody tr th:only-of-type {\n",
       "        vertical-align: middle;\n",
       "    }\n",
       "\n",
       "    .dataframe tbody tr th {\n",
       "        vertical-align: top;\n",
       "    }\n",
       "\n",
       "    .dataframe thead th {\n",
       "        text-align: right;\n",
       "    }\n",
       "</style>\n",
       "<table border=\"1\" class=\"dataframe\">\n",
       "  <thead>\n",
       "    <tr style=\"text-align: right;\">\n",
       "      <th></th>\n",
       "      <th>district</th>\n",
       "      <th>cluster</th>\n",
       "      <th>village</th>\n",
       "      <th>tool</th>\n",
       "      <th>number_of_pieces</th>\n",
       "    </tr>\n",
       "  </thead>\n",
       "  <tbody>\n",
       "    <tr>\n",
       "      <th>0</th>\n",
       "      <td>Kitagwenda</td>\n",
       "      <td>Muyenga</td>\n",
       "      <td>Muyenga_Central</td>\n",
       "      <td>Secateurs</td>\n",
       "      <td>10</td>\n",
       "    </tr>\n",
       "    <tr>\n",
       "      <th>1</th>\n",
       "      <td>Kitagwenda</td>\n",
       "      <td>Muyenga</td>\n",
       "      <td>Muyenga_TC</td>\n",
       "      <td>Secateurs</td>\n",
       "      <td>15</td>\n",
       "    </tr>\n",
       "    <tr>\n",
       "      <th>2</th>\n",
       "      <td>Kitagwenda</td>\n",
       "      <td>Muyenga</td>\n",
       "      <td>Nganiko_2</td>\n",
       "      <td>Secateurs</td>\n",
       "      <td>15</td>\n",
       "    </tr>\n",
       "    <tr>\n",
       "      <th>3</th>\n",
       "      <td>Kitagwenda</td>\n",
       "      <td>Muyenga</td>\n",
       "      <td>Nganiko_3</td>\n",
       "      <td>Secateurs</td>\n",
       "      <td>15</td>\n",
       "    </tr>\n",
       "    <tr>\n",
       "      <th>4</th>\n",
       "      <td>Kitagwenda</td>\n",
       "      <td>Muyenga</td>\n",
       "      <td>Zanzibar</td>\n",
       "      <td>Secateurs</td>\n",
       "      <td>15</td>\n",
       "    </tr>\n",
       "  </tbody>\n",
       "</table>\n",
       "</div>"
      ],
      "text/plain": [
       "     district  cluster          village       tool  number_of_pieces\n",
       "0  Kitagwenda  Muyenga  Muyenga_Central  Secateurs                10\n",
       "1  Kitagwenda  Muyenga       Muyenga_TC  Secateurs                15\n",
       "2  Kitagwenda  Muyenga        Nganiko_2  Secateurs                15\n",
       "3  Kitagwenda  Muyenga        Nganiko_3  Secateurs                15\n",
       "4  Kitagwenda  Muyenga         Zanzibar  Secateurs                15"
      ]
     },
     "execution_count": 64,
     "metadata": {},
     "output_type": "execute_result"
    }
   ],
   "source": [
    "tools_designs_melted.head()"
   ]
  },
  {
   "cell_type": "code",
   "execution_count": 65,
   "id": "817aaa23",
   "metadata": {},
   "outputs": [],
   "source": [
    "tools_designs_melted.rename(columns={'district':'district_name',\n",
    "                                     'cluster':'cluster_name',\n",
    "                                     'village':'village_name'},inplace=True)\n"
   ]
  },
  {
   "cell_type": "code",
   "execution_count": 66,
   "id": "c5f464ed",
   "metadata": {},
   "outputs": [
    {
     "data": {
      "text/html": [
       "<div>\n",
       "<style scoped>\n",
       "    .dataframe tbody tr th:only-of-type {\n",
       "        vertical-align: middle;\n",
       "    }\n",
       "\n",
       "    .dataframe tbody tr th {\n",
       "        vertical-align: top;\n",
       "    }\n",
       "\n",
       "    .dataframe thead th {\n",
       "        text-align: right;\n",
       "    }\n",
       "</style>\n",
       "<table border=\"1\" class=\"dataframe\">\n",
       "  <thead>\n",
       "    <tr style=\"text-align: right;\">\n",
       "      <th></th>\n",
       "      <th>district_name</th>\n",
       "      <th>cluster_name</th>\n",
       "      <th>village_name</th>\n",
       "      <th>tool</th>\n",
       "      <th>number_of_pieces</th>\n",
       "    </tr>\n",
       "  </thead>\n",
       "  <tbody>\n",
       "    <tr>\n",
       "      <th>0</th>\n",
       "      <td>Kitagwenda</td>\n",
       "      <td>Muyenga</td>\n",
       "      <td>Muyenga_Central</td>\n",
       "      <td>Secateurs</td>\n",
       "      <td>10</td>\n",
       "    </tr>\n",
       "    <tr>\n",
       "      <th>1</th>\n",
       "      <td>Kitagwenda</td>\n",
       "      <td>Muyenga</td>\n",
       "      <td>Muyenga_TC</td>\n",
       "      <td>Secateurs</td>\n",
       "      <td>15</td>\n",
       "    </tr>\n",
       "    <tr>\n",
       "      <th>2</th>\n",
       "      <td>Kitagwenda</td>\n",
       "      <td>Muyenga</td>\n",
       "      <td>Nganiko_2</td>\n",
       "      <td>Secateurs</td>\n",
       "      <td>15</td>\n",
       "    </tr>\n",
       "    <tr>\n",
       "      <th>3</th>\n",
       "      <td>Kitagwenda</td>\n",
       "      <td>Muyenga</td>\n",
       "      <td>Nganiko_3</td>\n",
       "      <td>Secateurs</td>\n",
       "      <td>15</td>\n",
       "    </tr>\n",
       "    <tr>\n",
       "      <th>4</th>\n",
       "      <td>Kitagwenda</td>\n",
       "      <td>Muyenga</td>\n",
       "      <td>Zanzibar</td>\n",
       "      <td>Secateurs</td>\n",
       "      <td>15</td>\n",
       "    </tr>\n",
       "  </tbody>\n",
       "</table>\n",
       "</div>"
      ],
      "text/plain": [
       "  district_name cluster_name     village_name       tool  number_of_pieces\n",
       "0    Kitagwenda      Muyenga  Muyenga_Central  Secateurs                10\n",
       "1    Kitagwenda      Muyenga       Muyenga_TC  Secateurs                15\n",
       "2    Kitagwenda      Muyenga        Nganiko_2  Secateurs                15\n",
       "3    Kitagwenda      Muyenga        Nganiko_3  Secateurs                15\n",
       "4    Kitagwenda      Muyenga         Zanzibar  Secateurs                15"
      ]
     },
     "execution_count": 66,
     "metadata": {},
     "output_type": "execute_result"
    }
   ],
   "source": [
    "tools_designs_melted.head()\n"
   ]
  },
  {
   "cell_type": "code",
   "execution_count": 67,
   "id": "10fc9f6c",
   "metadata": {},
   "outputs": [],
   "source": [
    "tools_designs_melted.to_csv(\"Tool list designed to be distributed.csv\")"
   ]
  },
  {
   "cell_type": "code",
   "execution_count": 68,
   "id": "6ecf8915",
   "metadata": {},
   "outputs": [],
   "source": [
    "merged = tools_distributed.merge(\n",
    "    tools_designs_melted,\n",
    "    on=['district_name', 'cluster_name', 'village_name', 'tool'],\n",
    "    suffixes=('_system', '_designs'),\n",
    "    how='outer'\n",
    ")\n",
    "\n",
    "differences = merged[merged['number_of_pieces_system'] != merged['number_of_pieces_designs']][['district_name', 'cluster_name', 'village_name',\n",
    "                                                                                                'tool', 'number_of_pieces_system', \n",
    "                                                                                                'number_of_pieces_designs']]"
   ]
  },
  {
   "cell_type": "code",
   "execution_count": 69,
   "id": "d1502f0b",
   "metadata": {},
   "outputs": [],
   "source": [
    "differences.to_excel(r\"C:\\Users\\Edison New\\Desktop\\HWG Q1 Reporting 2025\\Quality reports shared\\tools difference.xlsx\", index=False)\n"
   ]
  },
  {
   "cell_type": "markdown",
   "id": "7ed1bc28",
   "metadata": {},
   "source": [
    "### nurserybed checks"
   ]
  },
  {
   "cell_type": "code",
   "execution_count": 70,
   "id": "272d1106",
   "metadata": {},
   "outputs": [],
   "source": [
    "data_system = pd.read_csv(r\"C:\\Users\\Edison New\\Desktop\\HWG Q1 Reporting 2025\\Raw data sets from the app\\check2 hWG Q1 files\\nurserybed seed distribution Check#3.csv\")"
   ]
  },
  {
   "cell_type": "code",
   "execution_count": 71,
   "id": "b447d871",
   "metadata": {},
   "outputs": [],
   "source": [
    "data_system=data_system[data_system['household_id'].isin(census_merged['household_id'])]"
   ]
  },
  {
   "cell_type": "code",
   "execution_count": 72,
   "id": "8349d5eb",
   "metadata": {},
   "outputs": [
    {
     "data": {
      "text/html": [
       "<div>\n",
       "<style scoped>\n",
       "    .dataframe tbody tr th:only-of-type {\n",
       "        vertical-align: middle;\n",
       "    }\n",
       "\n",
       "    .dataframe tbody tr th {\n",
       "        vertical-align: top;\n",
       "    }\n",
       "\n",
       "    .dataframe thead th {\n",
       "        text-align: right;\n",
       "    }\n",
       "</style>\n",
       "<table border=\"1\" class=\"dataframe\">\n",
       "  <thead>\n",
       "    <tr style=\"text-align: right;\">\n",
       "      <th></th>\n",
       "      <th>guid</th>\n",
       "      <th>region_name</th>\n",
       "      <th>district_name</th>\n",
       "      <th>cluster_name</th>\n",
       "      <th>village_name</th>\n",
       "      <th>cohort</th>\n",
       "      <th>cycle</th>\n",
       "      <th>reporter</th>\n",
       "      <th>reporter_email</th>\n",
       "      <th>name</th>\n",
       "      <th>...</th>\n",
       "      <th>total_quantity</th>\n",
       "      <th>variety</th>\n",
       "      <th>hours_to_complete</th>\n",
       "      <th>officials</th>\n",
       "      <th>other_officials</th>\n",
       "      <th>challenges</th>\n",
       "      <th>other_challenges</th>\n",
       "      <th>latitude</th>\n",
       "      <th>longitude</th>\n",
       "      <th>created_at</th>\n",
       "    </tr>\n",
       "  </thead>\n",
       "  <tbody>\n",
       "    <tr>\n",
       "      <th>0</th>\n",
       "      <td>E107A042-7A8A-89A2-9187-8C1351DFF6D2</td>\n",
       "      <td>South West</td>\n",
       "      <td>Kitagwenda</td>\n",
       "      <td>Nyakacwamba</td>\n",
       "      <td>Nyakacwamba_2</td>\n",
       "      <td>2025</td>\n",
       "      <td>A</td>\n",
       "      <td>Charles</td>\n",
       "      <td>charles.tweteise@raisingthevillage.org</td>\n",
       "      <td>Tumukurate Ignitias</td>\n",
       "      <td>...</td>\n",
       "      <td>1</td>\n",
       "      <td>Amaranths</td>\n",
       "      <td>4</td>\n",
       "      <td>NaN</td>\n",
       "      <td>NaN</td>\n",
       "      <td>NaN</td>\n",
       "      <td>NaN</td>\n",
       "      <td>0.006664</td>\n",
       "      <td>30.368231</td>\n",
       "      <td>16/02/2025 18:57</td>\n",
       "    </tr>\n",
       "    <tr>\n",
       "      <th>1</th>\n",
       "      <td>6E1DDA09-2AF6-8D90-43DA-482AC1209B2A</td>\n",
       "      <td>South West</td>\n",
       "      <td>Kitagwenda</td>\n",
       "      <td>Nyakacwamba</td>\n",
       "      <td>Nyakacwamba_2</td>\n",
       "      <td>2025</td>\n",
       "      <td>A</td>\n",
       "      <td>Charles</td>\n",
       "      <td>charles.tweteise@raisingthevillage.org</td>\n",
       "      <td>Tumukurate Ignitias</td>\n",
       "      <td>...</td>\n",
       "      <td>1</td>\n",
       "      <td>Black night shade</td>\n",
       "      <td>4</td>\n",
       "      <td>NaN</td>\n",
       "      <td>NaN</td>\n",
       "      <td>NaN</td>\n",
       "      <td>NaN</td>\n",
       "      <td>0.006664</td>\n",
       "      <td>30.368231</td>\n",
       "      <td>16/02/2025 18:57</td>\n",
       "    </tr>\n",
       "    <tr>\n",
       "      <th>2</th>\n",
       "      <td>DFD6F1A5-E49B-004D-2C08-98065600308B</td>\n",
       "      <td>South West</td>\n",
       "      <td>Kitagwenda</td>\n",
       "      <td>Nyakacwamba</td>\n",
       "      <td>Nyakacwamba_2</td>\n",
       "      <td>2025</td>\n",
       "      <td>A</td>\n",
       "      <td>Charles</td>\n",
       "      <td>charles.tweteise@raisingthevillage.org</td>\n",
       "      <td>Tumukurate Ignitias</td>\n",
       "      <td>...</td>\n",
       "      <td>1</td>\n",
       "      <td>Cabbage</td>\n",
       "      <td>4</td>\n",
       "      <td>NaN</td>\n",
       "      <td>NaN</td>\n",
       "      <td>NaN</td>\n",
       "      <td>NaN</td>\n",
       "      <td>0.006664</td>\n",
       "      <td>30.368231</td>\n",
       "      <td>16/02/2025 18:57</td>\n",
       "    </tr>\n",
       "    <tr>\n",
       "      <th>3</th>\n",
       "      <td>D4BF349A-CA70-8DEF-7546-EF12DC3716DE</td>\n",
       "      <td>South West</td>\n",
       "      <td>Kitagwenda</td>\n",
       "      <td>Nyakacwamba</td>\n",
       "      <td>Nyakacwamba_2</td>\n",
       "      <td>2025</td>\n",
       "      <td>A</td>\n",
       "      <td>Charles</td>\n",
       "      <td>charles.tweteise@raisingthevillage.org</td>\n",
       "      <td>Tumukurate Ignitias</td>\n",
       "      <td>...</td>\n",
       "      <td>1</td>\n",
       "      <td>Green Pepper</td>\n",
       "      <td>4</td>\n",
       "      <td>NaN</td>\n",
       "      <td>NaN</td>\n",
       "      <td>NaN</td>\n",
       "      <td>NaN</td>\n",
       "      <td>0.006664</td>\n",
       "      <td>30.368231</td>\n",
       "      <td>16/02/2025 18:57</td>\n",
       "    </tr>\n",
       "    <tr>\n",
       "      <th>4</th>\n",
       "      <td>D4507CF4-76DB-4053-84AC-E76C44439EF5</td>\n",
       "      <td>South West</td>\n",
       "      <td>Kitagwenda</td>\n",
       "      <td>Nyakacwamba</td>\n",
       "      <td>Nyakacwamba_2</td>\n",
       "      <td>2025</td>\n",
       "      <td>A</td>\n",
       "      <td>Charles</td>\n",
       "      <td>charles.tweteise@raisingthevillage.org</td>\n",
       "      <td>Tumukurate Ignitias</td>\n",
       "      <td>...</td>\n",
       "      <td>1</td>\n",
       "      <td>Nakati</td>\n",
       "      <td>4</td>\n",
       "      <td>NaN</td>\n",
       "      <td>NaN</td>\n",
       "      <td>NaN</td>\n",
       "      <td>NaN</td>\n",
       "      <td>0.006664</td>\n",
       "      <td>30.368231</td>\n",
       "      <td>16/02/2025 18:57</td>\n",
       "    </tr>\n",
       "  </tbody>\n",
       "</table>\n",
       "<p>5 rows × 25 columns</p>\n",
       "</div>"
      ],
      "text/plain": [
       "                                   guid region_name district_name  \\\n",
       "0  E107A042-7A8A-89A2-9187-8C1351DFF6D2  South West    Kitagwenda   \n",
       "1  6E1DDA09-2AF6-8D90-43DA-482AC1209B2A  South West    Kitagwenda   \n",
       "2  DFD6F1A5-E49B-004D-2C08-98065600308B  South West    Kitagwenda   \n",
       "3  D4BF349A-CA70-8DEF-7546-EF12DC3716DE  South West    Kitagwenda   \n",
       "4  D4507CF4-76DB-4053-84AC-E76C44439EF5  South West    Kitagwenda   \n",
       "\n",
       "  cluster_name   village_name  cohort cycle reporter  \\\n",
       "0  Nyakacwamba  Nyakacwamba_2    2025     A  Charles   \n",
       "1  Nyakacwamba  Nyakacwamba_2    2025     A  Charles   \n",
       "2  Nyakacwamba  Nyakacwamba_2    2025     A  Charles   \n",
       "3  Nyakacwamba  Nyakacwamba_2    2025     A  Charles   \n",
       "4  Nyakacwamba  Nyakacwamba_2    2025     A  Charles   \n",
       "\n",
       "                           reporter_email                 name  ...  \\\n",
       "0  charles.tweteise@raisingthevillage.org  Tumukurate Ignitias  ...   \n",
       "1  charles.tweteise@raisingthevillage.org  Tumukurate Ignitias  ...   \n",
       "2  charles.tweteise@raisingthevillage.org  Tumukurate Ignitias  ...   \n",
       "3  charles.tweteise@raisingthevillage.org  Tumukurate Ignitias  ...   \n",
       "4  charles.tweteise@raisingthevillage.org  Tumukurate Ignitias  ...   \n",
       "\n",
       "  total_quantity            variety  hours_to_complete officials  \\\n",
       "0              1          Amaranths                  4       NaN   \n",
       "1              1  Black night shade                  4       NaN   \n",
       "2              1            Cabbage                  4       NaN   \n",
       "3              1       Green Pepper                  4       NaN   \n",
       "4              1             Nakati                  4       NaN   \n",
       "\n",
       "   other_officials  challenges other_challenges  latitude  longitude  \\\n",
       "0              NaN         NaN              NaN  0.006664  30.368231   \n",
       "1              NaN         NaN              NaN  0.006664  30.368231   \n",
       "2              NaN         NaN              NaN  0.006664  30.368231   \n",
       "3              NaN         NaN              NaN  0.006664  30.368231   \n",
       "4              NaN         NaN              NaN  0.006664  30.368231   \n",
       "\n",
       "         created_at  \n",
       "0  16/02/2025 18:57  \n",
       "1  16/02/2025 18:57  \n",
       "2  16/02/2025 18:57  \n",
       "3  16/02/2025 18:57  \n",
       "4  16/02/2025 18:57  \n",
       "\n",
       "[5 rows x 25 columns]"
      ]
     },
     "execution_count": 72,
     "metadata": {},
     "output_type": "execute_result"
    }
   ],
   "source": [
    "data_system.head()"
   ]
  },
  {
   "cell_type": "code",
   "execution_count": 73,
   "id": "52981d40",
   "metadata": {},
   "outputs": [],
   "source": [
    "data_system_analysis=data_system.groupby(['district_name','cluster_name',\n",
    "                                          'village_name','variety'])['total_quantity'].sum().reset_index()"
   ]
  },
  {
   "cell_type": "code",
   "execution_count": 74,
   "id": "facd9b0a",
   "metadata": {},
   "outputs": [
    {
     "data": {
      "text/html": [
       "<div>\n",
       "<style scoped>\n",
       "    .dataframe tbody tr th:only-of-type {\n",
       "        vertical-align: middle;\n",
       "    }\n",
       "\n",
       "    .dataframe tbody tr th {\n",
       "        vertical-align: top;\n",
       "    }\n",
       "\n",
       "    .dataframe thead th {\n",
       "        text-align: right;\n",
       "    }\n",
       "</style>\n",
       "<table border=\"1\" class=\"dataframe\">\n",
       "  <thead>\n",
       "    <tr style=\"text-align: right;\">\n",
       "      <th></th>\n",
       "      <th>district_name</th>\n",
       "      <th>cluster_name</th>\n",
       "      <th>village_name</th>\n",
       "      <th>variety</th>\n",
       "      <th>total_quantity</th>\n",
       "    </tr>\n",
       "  </thead>\n",
       "  <tbody>\n",
       "    <tr>\n",
       "      <th>0</th>\n",
       "      <td>Kitagwenda</td>\n",
       "      <td>Bujumiro</td>\n",
       "      <td>Bujumiro_A</td>\n",
       "      <td>Amaranths</td>\n",
       "      <td>1</td>\n",
       "    </tr>\n",
       "    <tr>\n",
       "      <th>1</th>\n",
       "      <td>Kitagwenda</td>\n",
       "      <td>Bujumiro</td>\n",
       "      <td>Bujumiro_A</td>\n",
       "      <td>Black night shade</td>\n",
       "      <td>1</td>\n",
       "    </tr>\n",
       "    <tr>\n",
       "      <th>2</th>\n",
       "      <td>Kitagwenda</td>\n",
       "      <td>Bujumiro</td>\n",
       "      <td>Bujumiro_A</td>\n",
       "      <td>Cabbage</td>\n",
       "      <td>1</td>\n",
       "    </tr>\n",
       "    <tr>\n",
       "      <th>3</th>\n",
       "      <td>Kitagwenda</td>\n",
       "      <td>Bujumiro</td>\n",
       "      <td>Bujumiro_A</td>\n",
       "      <td>Green Pepper</td>\n",
       "      <td>1</td>\n",
       "    </tr>\n",
       "    <tr>\n",
       "      <th>4</th>\n",
       "      <td>Kitagwenda</td>\n",
       "      <td>Bujumiro</td>\n",
       "      <td>Bujumiro_A</td>\n",
       "      <td>Nakati</td>\n",
       "      <td>1</td>\n",
       "    </tr>\n",
       "    <tr>\n",
       "      <th>...</th>\n",
       "      <td>...</td>\n",
       "      <td>...</td>\n",
       "      <td>...</td>\n",
       "      <td>...</td>\n",
       "      <td>...</td>\n",
       "    </tr>\n",
       "    <tr>\n",
       "      <th>389</th>\n",
       "      <td>Rakai</td>\n",
       "      <td>Kyamakanaga</td>\n",
       "      <td>Nnongo_A</td>\n",
       "      <td>Green Pepper</td>\n",
       "      <td>1</td>\n",
       "    </tr>\n",
       "    <tr>\n",
       "      <th>390</th>\n",
       "      <td>Rakai</td>\n",
       "      <td>Kyamakanaga</td>\n",
       "      <td>Nnongo_A</td>\n",
       "      <td>Purple Eggplants</td>\n",
       "      <td>1</td>\n",
       "    </tr>\n",
       "    <tr>\n",
       "      <th>391</th>\n",
       "      <td>Rakai</td>\n",
       "      <td>Kyamakanaga</td>\n",
       "      <td>Nnongo_A</td>\n",
       "      <td>Spinach</td>\n",
       "      <td>2</td>\n",
       "    </tr>\n",
       "    <tr>\n",
       "      <th>392</th>\n",
       "      <td>Rakai</td>\n",
       "      <td>Kyamakanaga</td>\n",
       "      <td>Nnongo_A</td>\n",
       "      <td>Sukuma Wiki</td>\n",
       "      <td>1</td>\n",
       "    </tr>\n",
       "    <tr>\n",
       "      <th>393</th>\n",
       "      <td>Rakai</td>\n",
       "      <td>Kyamakanaga</td>\n",
       "      <td>Nnongo_A</td>\n",
       "      <td>White Eggplants</td>\n",
       "      <td>1</td>\n",
       "    </tr>\n",
       "  </tbody>\n",
       "</table>\n",
       "<p>394 rows × 5 columns</p>\n",
       "</div>"
      ],
      "text/plain": [
       "    district_name cluster_name village_name            variety  total_quantity\n",
       "0      Kitagwenda     Bujumiro   Bujumiro_A          Amaranths               1\n",
       "1      Kitagwenda     Bujumiro   Bujumiro_A  Black night shade               1\n",
       "2      Kitagwenda     Bujumiro   Bujumiro_A            Cabbage               1\n",
       "3      Kitagwenda     Bujumiro   Bujumiro_A       Green Pepper               1\n",
       "4      Kitagwenda     Bujumiro   Bujumiro_A             Nakati               1\n",
       "..            ...          ...          ...                ...             ...\n",
       "389         Rakai  Kyamakanaga     Nnongo_A       Green Pepper               1\n",
       "390         Rakai  Kyamakanaga     Nnongo_A   Purple Eggplants               1\n",
       "391         Rakai  Kyamakanaga     Nnongo_A            Spinach               2\n",
       "392         Rakai  Kyamakanaga     Nnongo_A        Sukuma Wiki               1\n",
       "393         Rakai  Kyamakanaga     Nnongo_A    White Eggplants               1\n",
       "\n",
       "[394 rows x 5 columns]"
      ]
     },
     "execution_count": 74,
     "metadata": {},
     "output_type": "execute_result"
    }
   ],
   "source": [
    "data_system_analysis"
   ]
  },
  {
   "cell_type": "code",
   "execution_count": 75,
   "id": "4688eeb0",
   "metadata": {},
   "outputs": [],
   "source": [
    "data_system_analysis['variety']=data_system_analysis['variety'].str.strip().str.upper()"
   ]
  },
  {
   "cell_type": "code",
   "execution_count": 76,
   "id": "73538abb",
   "metadata": {},
   "outputs": [],
   "source": [
    "data_nur_design=pd.read_excel(r'C:\\Users\\RTV-LPT1-233\\Desktop\\edison jupyter\\design_nurserybed.xlsx')"
   ]
  },
  {
   "cell_type": "code",
   "execution_count": 77,
   "id": "99ddd75e",
   "metadata": {},
   "outputs": [],
   "source": [
    "data_nur_design.rename(columns={'division':'district_name',\n",
    "                                'cluster':'cluster_name',\n",
    "                                'village':'village_name',\n",
    "                                'amaranths_tins_nursery':'Amaranths',\n",
    "                                'tomatoes _tins_nursery':'Tomatoes',\n",
    "                                'black_nightshade_tins_nursery':'BLACK NIGHT SHADE',\n",
    "                                'purple_graffiti_eggplants_tins_nursery':'Purple Eggplants',\n",
    "                                'green_pepper_tins_nursery':'Green Pepper',\n",
    "                                'white_eggplants_tins_nursery':'White Eggplants',\n",
    "                                'cabbage_tins_nursery':'Cabbage',\n",
    "                                'nakati_nursery':'Nakati',\n",
    "                                'spinach_tin_nursery':'Spinach',\n",
    "                                'sukuma_wiki_tins_nursery':'Sukuma Wiki',\n",
    "                                'african_spider_plant_tins_nursery':'AFRICAN SPIDER PLANT'},inplace=True)\n"
   ]
  },
  {
   "cell_type": "code",
   "execution_count": 78,
   "id": "076c7c38",
   "metadata": {},
   "outputs": [
    {
     "data": {
      "text/plain": [
       "Index(['Country ', 'district_name', 'work_streams', 'category', 'cluster_name',\n",
       "       'village_name', 'cohort', 'cycle', 'hot_pepper_tins_organic_pesticides',\n",
       "       'onions_bags_organic_pesticides', 'Spinach', 'AFRICAN SPIDER PLANT',\n",
       "       'Amaranths', 'Tomatoes', 'BLACK NIGHT SHADE', 'Purple Eggplants',\n",
       "       'Green Pepper', 'White Eggplants', 'Cabbage', 'Nakati', 'Sukuma Wiki'],\n",
       "      dtype='object')"
      ]
     },
     "execution_count": 78,
     "metadata": {},
     "output_type": "execute_result"
    }
   ],
   "source": [
    "data_nur_design.columns"
   ]
  },
  {
   "cell_type": "code",
   "execution_count": 79,
   "id": "b076ff70",
   "metadata": {},
   "outputs": [],
   "source": [
    "data_nur_design.to_csv('design nurserybed summary.csv')"
   ]
  },
  {
   "cell_type": "code",
   "execution_count": 80,
   "id": "4c3cc06f",
   "metadata": {},
   "outputs": [],
   "source": [
    "data_nur_design_melted=pd.melt(data_nur_design,id_vars=['district_name','cluster_name','village_name'],\n",
    "                               value_vars=['Amaranths','Tomatoes','BLACK NIGHT SHADE','Purple Eggplants',\n",
    "                                           'Green Pepper','White Eggplants','Cabbage','Nakati','Spinach','Sukuma Wiki','AFRICAN SPIDER PLANT'],\n",
    "                               var_name='variety',value_name='total_quantity')"
   ]
  },
  {
   "cell_type": "code",
   "execution_count": 81,
   "id": "71e824fd",
   "metadata": {},
   "outputs": [],
   "source": [
    "data_nur_design_melted['variety']=data_nur_design_melted['variety'].str.strip().str.upper()"
   ]
  },
  {
   "cell_type": "code",
   "execution_count": 82,
   "id": "7514aec0",
   "metadata": {},
   "outputs": [],
   "source": [
    "merged_nurbed=data_system_analysis.merge(data_nur_design_melted,\n",
    "                                       on=['district_name','cluster_name','village_name','variety'],\n",
    "                                       suffixes=('_system','_designs'),\n",
    "                                       how='outer')\n",
    "differences_nurbed = merged_nurbed[merged_nurbed['total_quantity_system'] != merged_nurbed['total_quantity_designs']][['district_name', 'cluster_name', 'village_name',\n",
    "                                                                                                'variety', 'total_quantity_system', \n",
    "                                                                                                'total_quantity_designs']]"
   ]
  },
  {
   "cell_type": "code",
   "execution_count": 83,
   "id": "030fd664",
   "metadata": {},
   "outputs": [],
   "source": [
    "differences_nurbed.to_excel(r\"C:\\Users\\Edison New\\Desktop\\HWG Q1 Reporting 2025\\Quality reports shared\\nurserybed difference.xlsx\", index=False)"
   ]
  },
  {
   "cell_type": "markdown",
   "id": "1abe8435",
   "metadata": {},
   "source": [
    "# checking for seed return and seed disribution"
   ]
  },
  {
   "cell_type": "code",
   "execution_count": 84,
   "id": "7d544edd",
   "metadata": {},
   "outputs": [],
   "source": [
    "seed_return=pd.read_csv(r\"C:\\Users\\Edison New\\Desktop\\HWG Q1 Reporting 2025\\Raw data sets from the app\\check2 hWG Q1 files\\Seed return 2024B check#3.csv\")"
   ]
  },
  {
   "cell_type": "code",
   "execution_count": 85,
   "id": "57065ac1",
   "metadata": {},
   "outputs": [
    {
     "data": {
      "text/plain": [
       "Index(['guid', 'region_name', 'district_name', 'cluster_name', 'village_name',\n",
       "       'cohort', 'cycle', 'reporter', 'reporter_email', 'name', 'household_id',\n",
       "       'gender', 'age', 'contact', 'marital_status', 'quantity', 'seed',\n",
       "       'unit', 'hours_to_complete', 'officials', 'other_officials',\n",
       "       'challenges', 'other_challenges', 'latitude', 'longitude',\n",
       "       'created_at'],\n",
       "      dtype='object')"
      ]
     },
     "execution_count": 85,
     "metadata": {},
     "output_type": "execute_result"
    }
   ],
   "source": [
    "seed_return.columns"
   ]
  },
  {
   "cell_type": "code",
   "execution_count": 86,
   "id": "ba3ea1f9",
   "metadata": {},
   "outputs": [],
   "source": [
    "seed_return['household_id']=seed_return['household_id'].str.strip().str.upper()"
   ]
  },
  {
   "cell_type": "code",
   "execution_count": 87,
   "id": "46140abd",
   "metadata": {},
   "outputs": [],
   "source": [
    "seed_return.rename(columns={'quantity':'quantity_returned'},inplace=True)"
   ]
  },
  {
   "cell_type": "code",
   "execution_count": 88,
   "id": "f02e79b7",
   "metadata": {},
   "outputs": [
    {
     "data": {
      "text/plain": [
       "Index(['guid', 'region_name', 'district_name', 'cluster_name', 'village_name',\n",
       "       'cohort', 'cycle', 'reporter', 'reporter_email', 'name', 'household_id',\n",
       "       'gender', 'age', 'contact', 'marital_status', 'quantity_returned',\n",
       "       'seed', 'unit', 'hours_to_complete', 'officials', 'other_officials',\n",
       "       'challenges', 'other_challenges', 'latitude', 'longitude',\n",
       "       'created_at'],\n",
       "      dtype='object')"
      ]
     },
     "execution_count": 88,
     "metadata": {},
     "output_type": "execute_result"
    }
   ],
   "source": [
    "seed_return.columns"
   ]
  },
  {
   "cell_type": "code",
   "execution_count": 89,
   "id": "55cfbdec",
   "metadata": {},
   "outputs": [
    {
     "data": {
      "text/html": [
       "<div>\n",
       "<style scoped>\n",
       "    .dataframe tbody tr th:only-of-type {\n",
       "        vertical-align: middle;\n",
       "    }\n",
       "\n",
       "    .dataframe tbody tr th {\n",
       "        vertical-align: top;\n",
       "    }\n",
       "\n",
       "    .dataframe thead th {\n",
       "        text-align: right;\n",
       "    }\n",
       "</style>\n",
       "<table border=\"1\" class=\"dataframe\">\n",
       "  <thead>\n",
       "    <tr style=\"text-align: right;\">\n",
       "      <th></th>\n",
       "      <th></th>\n",
       "      <th>quantity_returned</th>\n",
       "    </tr>\n",
       "    <tr>\n",
       "      <th>district_name</th>\n",
       "      <th>seed</th>\n",
       "      <th></th>\n",
       "    </tr>\n",
       "  </thead>\n",
       "  <tbody>\n",
       "    <tr>\n",
       "      <th rowspan=\"3\" valign=\"top\">Kitagwenda</th>\n",
       "      <th>Beans</th>\n",
       "      <td>8150.25</td>\n",
       "    </tr>\n",
       "    <tr>\n",
       "      <th>Irish Potatoes</th>\n",
       "      <td>518.65</td>\n",
       "    </tr>\n",
       "    <tr>\n",
       "      <th>Maize</th>\n",
       "      <td>6121.25</td>\n",
       "    </tr>\n",
       "    <tr>\n",
       "      <th rowspan=\"2\" valign=\"top\">Rakai</th>\n",
       "      <th>Beans</th>\n",
       "      <td>18958.40</td>\n",
       "    </tr>\n",
       "    <tr>\n",
       "      <th>Irish Potatoes</th>\n",
       "      <td>1493.50</td>\n",
       "    </tr>\n",
       "  </tbody>\n",
       "</table>\n",
       "</div>"
      ],
      "text/plain": [
       "                              quantity_returned\n",
       "district_name seed                             \n",
       "Kitagwenda    Beans                     8150.25\n",
       "              Irish Potatoes             518.65\n",
       "              Maize                     6121.25\n",
       "Rakai         Beans                    18958.40\n",
       "              Irish Potatoes            1493.50"
      ]
     },
     "execution_count": 89,
     "metadata": {},
     "output_type": "execute_result"
    }
   ],
   "source": [
    "seed_return.pivot_table(index=['district_name','seed'],\n",
    "                        values='quantity_returned',\n",
    "                        aggfunc='sum')\n"
   ]
  },
  {
   "cell_type": "code",
   "execution_count": 90,
   "id": "5724c41c",
   "metadata": {},
   "outputs": [],
   "source": [
    "seed_dist_cycelB=pd.read_excel(r\"C:\\Users\\RTV-LPT1-233\\Desktop\\edison jupyter\\distributionlist.xlsx\")"
   ]
  },
  {
   "cell_type": "code",
   "execution_count": 91,
   "id": "7fcda115",
   "metadata": {},
   "outputs": [],
   "source": [
    "seed_dist_cycelB=seed_dist_cycelB[seed_dist_cycelB['seed']!='Onions']"
   ]
  },
  {
   "cell_type": "code",
   "execution_count": 92,
   "id": "f08ce271",
   "metadata": {},
   "outputs": [
    {
     "data": {
      "text/plain": [
       "Index(['district_name', 'cluster_name', 'village_name', 'cohort', 'cycle',\n",
       "       'household_id', 'quantity_per_household', 'seed', 'unit'],\n",
       "      dtype='object')"
      ]
     },
     "execution_count": 92,
     "metadata": {},
     "output_type": "execute_result"
    }
   ],
   "source": [
    "seed_dist_cycelB.columns"
   ]
  },
  {
   "cell_type": "code",
   "execution_count": 93,
   "id": "f01057a7",
   "metadata": {},
   "outputs": [],
   "source": [
    "seed_dist_cycelB['household_id']=seed_dist_cycelB['household_id'].str.strip().str.upper()\n"
   ]
  },
  {
   "cell_type": "code",
   "execution_count": 94,
   "id": "4b887ff0",
   "metadata": {},
   "outputs": [],
   "source": [
    "seed_dist_cycelB.rename(columns={'quantity_per_household':'quantity_distributed'},inplace=True)"
   ]
  },
  {
   "cell_type": "code",
   "execution_count": 95,
   "id": "2a18f26d",
   "metadata": {},
   "outputs": [
    {
     "name": "stdout",
     "output_type": "stream",
     "text": [
      "Index(['district_name', 'cluster_name', 'village_name', 'cohort', 'cycle',\n",
      "       'household_id', 'quantity_distributed', 'seed', 'unit'],\n",
      "      dtype='object')\n"
     ]
    },
    {
     "data": {
      "text/html": [
       "<div>\n",
       "<style scoped>\n",
       "    .dataframe tbody tr th:only-of-type {\n",
       "        vertical-align: middle;\n",
       "    }\n",
       "\n",
       "    .dataframe tbody tr th {\n",
       "        vertical-align: top;\n",
       "    }\n",
       "\n",
       "    .dataframe thead th {\n",
       "        text-align: right;\n",
       "    }\n",
       "</style>\n",
       "<table border=\"1\" class=\"dataframe\">\n",
       "  <thead>\n",
       "    <tr style=\"text-align: right;\">\n",
       "      <th></th>\n",
       "      <th></th>\n",
       "      <th>quantity_distributed</th>\n",
       "    </tr>\n",
       "    <tr>\n",
       "      <th>district_name</th>\n",
       "      <th>seed</th>\n",
       "      <th></th>\n",
       "    </tr>\n",
       "  </thead>\n",
       "  <tbody>\n",
       "    <tr>\n",
       "      <th rowspan=\"3\" valign=\"top\">Kitagwenda</th>\n",
       "      <th>Beans</th>\n",
       "      <td>8156.000</td>\n",
       "    </tr>\n",
       "    <tr>\n",
       "      <th>Irish Potatoes</th>\n",
       "      <td>509.750</td>\n",
       "    </tr>\n",
       "    <tr>\n",
       "      <th>Maize</th>\n",
       "      <td>6117.000</td>\n",
       "    </tr>\n",
       "    <tr>\n",
       "      <th rowspan=\"2\" valign=\"top\">Rakai</th>\n",
       "      <th>Beans</th>\n",
       "      <td>19224.000</td>\n",
       "    </tr>\n",
       "    <tr>\n",
       "      <th>Irish Potatoes</th>\n",
       "      <td>1671.264</td>\n",
       "    </tr>\n",
       "  </tbody>\n",
       "</table>\n",
       "</div>"
      ],
      "text/plain": [
       "                              quantity_distributed\n",
       "district_name seed                                \n",
       "Kitagwenda    Beans                       8156.000\n",
       "              Irish Potatoes               509.750\n",
       "              Maize                       6117.000\n",
       "Rakai         Beans                      19224.000\n",
       "              Irish Potatoes              1671.264"
      ]
     },
     "execution_count": 95,
     "metadata": {},
     "output_type": "execute_result"
    }
   ],
   "source": [
    "# Check the column names to ensure 'quantity_distributed' exists\n",
    "print(seed_dist_cycelB.columns)\n",
    "\n",
    "# Perform the pivot operation\n",
    "seed_dist_cycelB.pivot_table(index=['district_name','seed'],\n",
    "                        values='quantity_distributed',\n",
    "                        aggfunc='sum')\n"
   ]
  },
  {
   "cell_type": "code",
   "execution_count": 96,
   "id": "03bbc226",
   "metadata": {},
   "outputs": [],
   "source": [
    "merged_seed_return=seed_dist_cycelB.merge(seed_return,\n",
    "                                            on=['district_name','cluster_name','village_name','household_id','seed'],\n",
    "                                            suffixes=('_distributed','_returned'),\n",
    "                                            how='outer')\n",
    "differences_seed_analysis=merged_seed_return[merged_seed_return['quantity_distributed']!=merged_seed_return['quantity_returned']][['district_name','cluster_name','village_name',\n",
    "                                                                                                                                   'household_id','seed', \n",
    "                                                                                                                                    'quantity_distributed','quantity_returned']]"
   ]
  },
  {
   "cell_type": "code",
   "execution_count": 97,
   "id": "4e02a496",
   "metadata": {},
   "outputs": [],
   "source": [
    "differences_seed_analysis.to_excel(r\"C:\\Users\\Edison New\\Desktop\\HWG Q1 Reporting 2025\\Quality reports shared\\seed return analysis24.xlsx\", index=False)"
   ]
  },
  {
   "cell_type": "markdown",
   "id": "3ec282da",
   "metadata": {},
   "source": [
    "# seed distribution 2025 cycle A"
   ]
  },
  {
   "cell_type": "code",
   "execution_count": 98,
   "id": "50970efc",
   "metadata": {},
   "outputs": [],
   "source": [
    "data_distribution=pd.read_csv(r\"C:\\Users\\Edison New\\Desktop\\HWG Q1 Reporting 2025\\Raw data sets from the app\\seed distribution 2025 check#4.csv\")"
   ]
  },
  {
   "cell_type": "code",
   "execution_count": 99,
   "id": "0f1756e0",
   "metadata": {},
   "outputs": [],
   "source": [
    "design_hh_seed_df=pd.read_excel(r\"C:\\Users\\Edison New\\Desktop\\HWG Q1 Reporting 2025\\Raw data sets from the app\\check2 hWG Q1 files\\seed designed to be distributed at HH level.xlsx\")"
   ]
  },
  {
   "cell_type": "code",
   "execution_count": 100,
   "id": "14c19a9a",
   "metadata": {},
   "outputs": [
    {
     "data": {
      "text/plain": [
       "Index(['guid', 'region_name', 'district_name', 'cluster_name', 'village_name',\n",
       "       'cohort', 'cycle', 'reporter', 'reporter_email', 'name', 'household_id',\n",
       "       'gender', 'age', 'contact', 'marital_status', 'quantity_per_household',\n",
       "       'seed', 'unit', 'hours_to_complete', 'officials', 'other_officials',\n",
       "       'challenges', 'other_challenges', 'latitude', 'longitude',\n",
       "       'created_at'],\n",
       "      dtype='object')"
      ]
     },
     "execution_count": 100,
     "metadata": {},
     "output_type": "execute_result"
    }
   ],
   "source": [
    "data_distribution.columns"
   ]
  },
  {
   "cell_type": "code",
   "execution_count": 101,
   "id": "874084da",
   "metadata": {},
   "outputs": [],
   "source": [
    "Cluster=data_distribution['cluster_name'].unique()"
   ]
  },
  {
   "cell_type": "code",
   "execution_count": 102,
   "id": "37df491e",
   "metadata": {},
   "outputs": [
    {
     "data": {
      "text/plain": [
       "array(['Beans', 'Maize', 'Irish Potatoes', 'Onions - Local'], dtype=object)"
      ]
     },
     "execution_count": 102,
     "metadata": {},
     "output_type": "execute_result"
    }
   ],
   "source": [
    "data_distribution['seed'].unique()"
   ]
  },
  {
   "cell_type": "code",
   "execution_count": 103,
   "id": "c0e14c8c",
   "metadata": {},
   "outputs": [],
   "source": [
    "# # beans checking if quantity distributed matches with what is designed\n",
    "# for cluster in cluster:\n",
    "#     if (cluster=='Nyakacwamba') |(cluster=='Bujumiro'):\n",
    "#         data_distribution['check_beans']=np.where((data_distribution['seed']==\"Beans\") & \n",
    "#                                                   (data_distribution['quantity_per_household']==4),0,1)\n",
    "#     elif (cluster=='Nganiko') | (cluster=='Muyenga'):\n",
    "#         data_distribution['check_beans']=np.where((data_distribution['seed']==\"Beans\") & \n",
    "#                                                   (data_distribution['quantity_per_household']==3),0,1)\n",
    "#     elif cluster in ['Kyamakanaga','Kanoni','Kasensero']:\n",
    "#         data_distribution['check_beans']=np.where((data_distribution['seed']==\"Beans\") & \n",
    "#                                                   (data_distribution['quantity_per_household']==5),0,1)"
   ]
  },
  {
   "cell_type": "code",
   "execution_count": 104,
   "id": "b2f7857f",
   "metadata": {},
   "outputs": [],
   "source": [
    "def seed_check(data):\n",
    "    data['check'] = 'Pass'  # Initialize the 'check' column\n",
    "    if data['seed'] == \"Beans\":\n",
    "        if ((data['cluster_name'] in ['Nyakacwamba', 'Bujumiro'] and data['quantity_per_household']!=4) or\n",
    "            (data['cluster_name'] == 'Nganiko' and data['quantity_per_household']!=3) or\n",
    "            (data['cluster_name'] in ['Kyamakanaga', 'Kanoni', 'Kasensero'] and data['quantity_per_household']!=5)):\n",
    "            data['check'] = 'Fail'\n",
    "    elif data['seed'] == \"Maize\" and data['district_name'] == \"Kitagwenda\":\n",
    "        if data['quantity_per_household']!=3:\n",
    "            data['check'] = 'Fail'\n",
    "    elif data['seed'] == \"Irish Potatoes\":\n",
    "        if ((data['district_name'] == \"Rakai\" and data['quantity_per_household']!=0.4) or\n",
    "            (data['district_name'] == \"Kitagwenda\" and data['quantity_per_household']!=0.25)):\n",
    "            data['check'] = 'Fail'\n",
    "    return data"
   ]
  },
  {
   "cell_type": "code",
   "execution_count": 105,
   "id": "e5beea04",
   "metadata": {},
   "outputs": [],
   "source": [
    "seed_system = data_distribution.apply(seed_check, axis=1)"
   ]
  },
  {
   "cell_type": "code",
   "execution_count": 106,
   "id": "a607d33b",
   "metadata": {},
   "outputs": [],
   "source": [
    "def HH_missed_seed(data, census_2025):\n",
    "    # Identify households in the distribution list\n",
    "    households_in_data = set(data['household_id'])\n",
    "\n",
    "    # Beans: Households that DID NOT receive beans\n",
    "    beans_missed = census_2025[~census_2025['household_id'].isin(data[data['seed'] == 'Beans']['household_id'])][['household_id']].copy()\n",
    "    beans_missed['seed'] = 'Beans'\n",
    "\n",
    "    # Maize: Households in Kitagwenda that DID NOT receive maize\n",
    "    maize_missed = census_2025[(census_2025['district'] == 'Kitagwenda') & \n",
    "                               ~census_2025['household_id'].isin(data[data['seed'] == 'Maize']['household_id'])][['household_id']].copy()\n",
    "    maize_missed['seed'] = 'Maize'\n",
    "\n",
    "    # Irish Potatoes: Households that DID NOT receive Irish Potatoes\n",
    "    irish_missed = census_2025[~census_2025['household_id'].isin(data[data['seed'] == 'Irish Potatoes']['household_id'])][['household_id']].copy()\n",
    "    irish_missed['seed'] = 'Irish Potatoes'\n",
    "    onion_missed = census_2025[(census_2025['district'] == 'Kitagwenda') & \n",
    "                               ~census_2025['household_id'].isin(data[data['seed'] == 'Onions - Local']['household_id'])][['household_id']].copy()\n",
    "    onion_missed['seed'] = 'Onions - Local'\n",
    "\n",
    "    # Combine the missing seed records\n",
    "    df = pd.concat([beans_missed, maize_missed, irish_missed,onion_missed], ignore_index=True)\n",
    "\n",
    "    # Merge with census_2025 to get additional details\n",
    "    df = df.merge(census_2025[['household_id', 'district', 'Cluster', 'village', 'Cycle']], \n",
    "                  on='household_id', how='left')\n",
    "\n",
    "    return df\n"
   ]
  },
  {
   "cell_type": "code",
   "execution_count": 107,
   "id": "49209813",
   "metadata": {},
   "outputs": [],
   "source": [
    "data_missed=HH_missed_seed(data_distribution, census_2025)"
   ]
  },
  {
   "cell_type": "code",
   "execution_count": 108,
   "id": "1603f813",
   "metadata": {},
   "outputs": [],
   "source": [
    "filepath=\"C:\\\\Users\\\\Edison New\\\\Desktop\\\\HWG Q1 Reporting 2025\\\\Quality reports shared\\\\HH missed seed 2025.csv\"\n",
    "data_missed.to_csv(filepath,index=False)"
   ]
  },
  {
   "cell_type": "code",
   "execution_count": 109,
   "id": "2e06c2e4",
   "metadata": {},
   "outputs": [],
   "source": [
    "filepath=\"C:\\\\Users\\\\Edison New\\\\Desktop\\\\HWG Q1 Reporting 2025\\\\Quality reports shared\\\\seed_system_check.csv\"\n",
    "seed_system.to_csv(filepath,index=False)  "
   ]
  },
  {
   "cell_type": "code",
   "execution_count": 110,
   "id": "3a7e50fe",
   "metadata": {},
   "outputs": [],
   "source": [
    "# #check for maize distributed vs designs at HH level\n",
    "# data_distribution['check_maize'] = np.where(\n",
    "#     (data_distribution['seed'] == \"Maize\") & (data_distribution['district_name'] == \"Kitagwenda\") & (data_distribution['quantity_per_household'] == 3),\n",
    "#     0,\n",
    "#     np.where(data_distribution['district_name']==\"Rakai\",np.nan,1))\n"
   ]
  },
  {
   "cell_type": "code",
   "execution_count": 111,
   "id": "5f9d3b78",
   "metadata": {},
   "outputs": [],
   "source": [
    "# # check for lirsh vs designs\n",
    "# data_distribution['irish_check'] = np.where(\n",
    "#     (data_distribution['seed'] == \"Irish Potatoes\") & \n",
    "#     (\n",
    "#         ((data_distribution['district_name'] == \"Rakai\") & (data_distribution['quantity_per_household'] == 0.4)) |\n",
    "#         ((data_distribution['district_name'] == 'Kitagwenda') & (data_distribution['quantity_per_household'] == 0.25))\n",
    "#     ),\n",
    "#     0,\n",
    "#     1\n",
    "# )"
   ]
  },
  {
   "cell_type": "code",
   "execution_count": 112,
   "id": "7d1de061",
   "metadata": {},
   "outputs": [
    {
     "data": {
      "text/html": [
       "<div>\n",
       "<style scoped>\n",
       "    .dataframe tbody tr th:only-of-type {\n",
       "        vertical-align: middle;\n",
       "    }\n",
       "\n",
       "    .dataframe tbody tr th {\n",
       "        vertical-align: top;\n",
       "    }\n",
       "\n",
       "    .dataframe thead th {\n",
       "        text-align: right;\n",
       "    }\n",
       "</style>\n",
       "<table border=\"1\" class=\"dataframe\">\n",
       "  <thead>\n",
       "    <tr style=\"text-align: right;\">\n",
       "      <th></th>\n",
       "      <th>Country</th>\n",
       "      <th>division</th>\n",
       "      <th>work_streams</th>\n",
       "      <th>category</th>\n",
       "      <th>cluster</th>\n",
       "      <th>village</th>\n",
       "      <th>cohort</th>\n",
       "      <th>cycle</th>\n",
       "      <th>hhs</th>\n",
       "      <th>total_population</th>\n",
       "      <th>males</th>\n",
       "      <th>females</th>\n",
       "      <th>youth</th>\n",
       "      <th>villages</th>\n",
       "      <th>beans_kgs_hh_seed</th>\n",
       "      <th>maize_kgs_hh_seed</th>\n",
       "      <th>rice_kgs_hh_seed</th>\n",
       "      <th>irish_potatoes_bags_hh_seed</th>\n",
       "    </tr>\n",
       "  </thead>\n",
       "  <tbody>\n",
       "    <tr>\n",
       "      <th>0</th>\n",
       "      <td>Uganda</td>\n",
       "      <td>Kitagwenda</td>\n",
       "      <td>Standard</td>\n",
       "      <td>HWG</td>\n",
       "      <td>Bujumiro</td>\n",
       "      <td>Bujumiro_A</td>\n",
       "      <td>2025</td>\n",
       "      <td>1</td>\n",
       "      <td>117</td>\n",
       "      <td>421</td>\n",
       "      <td>181</td>\n",
       "      <td>240</td>\n",
       "      <td>64</td>\n",
       "      <td>5</td>\n",
       "      <td>468</td>\n",
       "      <td>351</td>\n",
       "      <td>0</td>\n",
       "      <td>30</td>\n",
       "    </tr>\n",
       "    <tr>\n",
       "      <th>1</th>\n",
       "      <td>Uganda</td>\n",
       "      <td>Kitagwenda</td>\n",
       "      <td>Standard</td>\n",
       "      <td>HWG</td>\n",
       "      <td>Bujumiro</td>\n",
       "      <td>Bujumiro_B</td>\n",
       "      <td>2025</td>\n",
       "      <td>1</td>\n",
       "      <td>77</td>\n",
       "      <td>339</td>\n",
       "      <td>165</td>\n",
       "      <td>174</td>\n",
       "      <td>69</td>\n",
       "      <td>0</td>\n",
       "      <td>300</td>\n",
       "      <td>225</td>\n",
       "      <td>0</td>\n",
       "      <td>18</td>\n",
       "    </tr>\n",
       "    <tr>\n",
       "      <th>2</th>\n",
       "      <td>Uganda</td>\n",
       "      <td>Kitagwenda</td>\n",
       "      <td>Standard</td>\n",
       "      <td>HWG</td>\n",
       "      <td>Bujumiro</td>\n",
       "      <td>Kanyamburara</td>\n",
       "      <td>2025</td>\n",
       "      <td>1</td>\n",
       "      <td>159</td>\n",
       "      <td>781</td>\n",
       "      <td>390</td>\n",
       "      <td>391</td>\n",
       "      <td>159</td>\n",
       "      <td>0</td>\n",
       "      <td>636</td>\n",
       "      <td>477</td>\n",
       "      <td>0</td>\n",
       "      <td>40</td>\n",
       "    </tr>\n",
       "    <tr>\n",
       "      <th>3</th>\n",
       "      <td>Uganda</td>\n",
       "      <td>Kitagwenda</td>\n",
       "      <td>Standard</td>\n",
       "      <td>HWG</td>\n",
       "      <td>Bujumiro</td>\n",
       "      <td>Kyarubingo</td>\n",
       "      <td>2025</td>\n",
       "      <td>1</td>\n",
       "      <td>97</td>\n",
       "      <td>477</td>\n",
       "      <td>220</td>\n",
       "      <td>257</td>\n",
       "      <td>71</td>\n",
       "      <td>0</td>\n",
       "      <td>388</td>\n",
       "      <td>291</td>\n",
       "      <td>0</td>\n",
       "      <td>24</td>\n",
       "    </tr>\n",
       "    <tr>\n",
       "      <th>4</th>\n",
       "      <td>Uganda</td>\n",
       "      <td>Kitagwenda</td>\n",
       "      <td>Standard</td>\n",
       "      <td>HWG</td>\n",
       "      <td>Bujumiro</td>\n",
       "      <td>Nyabwina_Buhanda</td>\n",
       "      <td>2025</td>\n",
       "      <td>1</td>\n",
       "      <td>58</td>\n",
       "      <td>265</td>\n",
       "      <td>120</td>\n",
       "      <td>145</td>\n",
       "      <td>60</td>\n",
       "      <td>0</td>\n",
       "      <td>232</td>\n",
       "      <td>174</td>\n",
       "      <td>0</td>\n",
       "      <td>15</td>\n",
       "    </tr>\n",
       "  </tbody>\n",
       "</table>\n",
       "</div>"
      ],
      "text/plain": [
       "  Country     division work_streams category   cluster           village  \\\n",
       "0   Uganda  Kitagwenda     Standard      HWG  Bujumiro        Bujumiro_A   \n",
       "1   Uganda  Kitagwenda     Standard      HWG  Bujumiro        Bujumiro_B   \n",
       "2   Uganda  Kitagwenda     Standard      HWG  Bujumiro      Kanyamburara   \n",
       "3   Uganda  Kitagwenda     Standard      HWG  Bujumiro        Kyarubingo   \n",
       "4   Uganda  Kitagwenda     Standard      HWG  Bujumiro  Nyabwina_Buhanda   \n",
       "\n",
       "   cohort  cycle  hhs  total_population  males  females  youth  villages  \\\n",
       "0    2025      1  117               421    181      240     64         5   \n",
       "1    2025      1   77               339    165      174     69         0   \n",
       "2    2025      1  159               781    390      391    159         0   \n",
       "3    2025      1   97               477    220      257     71         0   \n",
       "4    2025      1   58               265    120      145     60         0   \n",
       "\n",
       "   beans_kgs_hh_seed  maize_kgs_hh_seed  rice_kgs_hh_seed  \\\n",
       "0                468                351                 0   \n",
       "1                300                225                 0   \n",
       "2                636                477                 0   \n",
       "3                388                291                 0   \n",
       "4                232                174                 0   \n",
       "\n",
       "   irish_potatoes_bags_hh_seed  \n",
       "0                           30  \n",
       "1                           18  \n",
       "2                           40  \n",
       "3                           24  \n",
       "4                           15  "
      ]
     },
     "execution_count": 112,
     "metadata": {},
     "output_type": "execute_result"
    }
   ],
   "source": [
    "# general check at top line level\n",
    "design_hh_seed_df.head()"
   ]
  },
  {
   "cell_type": "code",
   "execution_count": 113,
   "id": "9946fe7a",
   "metadata": {},
   "outputs": [],
   "source": [
    "summary_analyis_design=design_hh_seed_df.melt(value_vars=['beans_kgs_hh_seed','maize_kgs_hh_seed','irish_potatoes_bags_hh_seed'],\n",
    "                       value_name=\"Total quantity\",\n",
    "                       var_name=\"seed\",\n",
    "                       id_vars=['division','cluster','village','cohort','cycle'])"
   ]
  },
  {
   "cell_type": "code",
   "execution_count": 114,
   "id": "46afc84b",
   "metadata": {},
   "outputs": [],
   "source": [
    "summary_analyis_design.rename(columns={'division':'district_name',\n",
    "                                       'cluster':'cluster_name',\n",
    "                                       'village':'village_name',\n",
    "                                       },inplace=True)"
   ]
  },
  {
   "cell_type": "code",
   "execution_count": 115,
   "id": "2c3609a5",
   "metadata": {},
   "outputs": [
    {
     "name": "stderr",
     "output_type": "stream",
     "text": [
      "C:\\Users\\Edison New\\AppData\\Local\\Temp\\ipykernel_10192\\2456915691.py:1: FutureWarning: A value is trying to be set on a copy of a DataFrame or Series through chained assignment using an inplace method.\n",
      "The behavior will change in pandas 3.0. This inplace method will never work because the intermediate object on which we are setting values always behaves as a copy.\n",
      "\n",
      "For example, when doing 'df[col].method(value, inplace=True)', try using 'df.method({col: value}, inplace=True)' or df[col] = df[col].method(value) instead, to perform the operation inplace on the original object.\n",
      "\n",
      "\n",
      "  summary_analyis_design['cycle'].replace(1,\"A\",inplace=True)\n"
     ]
    }
   ],
   "source": [
    "summary_analyis_design['cycle'].replace(1,\"A\",inplace=True)"
   ]
  },
  {
   "cell_type": "code",
   "execution_count": 116,
   "id": "3e54743a",
   "metadata": {},
   "outputs": [
    {
     "name": "stderr",
     "output_type": "stream",
     "text": [
      "C:\\Users\\Edison New\\AppData\\Local\\Temp\\ipykernel_10192\\3487006151.py:1: FutureWarning: A value is trying to be set on a copy of a DataFrame or Series through chained assignment using an inplace method.\n",
      "The behavior will change in pandas 3.0. This inplace method will never work because the intermediate object on which we are setting values always behaves as a copy.\n",
      "\n",
      "For example, when doing 'df[col].method(value, inplace=True)', try using 'df.method({col: value}, inplace=True)' or df[col] = df[col].method(value) instead, to perform the operation inplace on the original object.\n",
      "\n",
      "\n",
      "  summary_analyis_design['seed'].replace({'beans_kgs_hh_seed':'Beans',\n"
     ]
    }
   ],
   "source": [
    "summary_analyis_design['seed'].replace({'beans_kgs_hh_seed':'Beans',\n",
    "                                        \"irish_potatoes_bags_hh_seed\":\"Irish potatoes\",\n",
    "                                        'maize_kgs_hh_seed':\"Maize\"},inplace=True)"
   ]
  },
  {
   "cell_type": "code",
   "execution_count": 117,
   "id": "37d28fc9",
   "metadata": {},
   "outputs": [
    {
     "data": {
      "text/html": [
       "<div>\n",
       "<style scoped>\n",
       "    .dataframe tbody tr th:only-of-type {\n",
       "        vertical-align: middle;\n",
       "    }\n",
       "\n",
       "    .dataframe tbody tr th {\n",
       "        vertical-align: top;\n",
       "    }\n",
       "\n",
       "    .dataframe thead th {\n",
       "        text-align: right;\n",
       "    }\n",
       "</style>\n",
       "<table border=\"1\" class=\"dataframe\">\n",
       "  <thead>\n",
       "    <tr style=\"text-align: right;\">\n",
       "      <th></th>\n",
       "      <th>district_name</th>\n",
       "      <th>cluster_name</th>\n",
       "      <th>village_name</th>\n",
       "      <th>cohort</th>\n",
       "      <th>cycle</th>\n",
       "      <th>seed</th>\n",
       "      <th>Total quantity</th>\n",
       "    </tr>\n",
       "  </thead>\n",
       "  <tbody>\n",
       "    <tr>\n",
       "      <th>0</th>\n",
       "      <td>Kitagwenda</td>\n",
       "      <td>Bujumiro</td>\n",
       "      <td>Bujumiro_A</td>\n",
       "      <td>2025</td>\n",
       "      <td>A</td>\n",
       "      <td>Beans</td>\n",
       "      <td>468</td>\n",
       "    </tr>\n",
       "    <tr>\n",
       "      <th>1</th>\n",
       "      <td>Kitagwenda</td>\n",
       "      <td>Bujumiro</td>\n",
       "      <td>Bujumiro_B</td>\n",
       "      <td>2025</td>\n",
       "      <td>A</td>\n",
       "      <td>Beans</td>\n",
       "      <td>300</td>\n",
       "    </tr>\n",
       "    <tr>\n",
       "      <th>2</th>\n",
       "      <td>Kitagwenda</td>\n",
       "      <td>Bujumiro</td>\n",
       "      <td>Kanyamburara</td>\n",
       "      <td>2025</td>\n",
       "      <td>A</td>\n",
       "      <td>Beans</td>\n",
       "      <td>636</td>\n",
       "    </tr>\n",
       "    <tr>\n",
       "      <th>3</th>\n",
       "      <td>Kitagwenda</td>\n",
       "      <td>Bujumiro</td>\n",
       "      <td>Kyarubingo</td>\n",
       "      <td>2025</td>\n",
       "      <td>A</td>\n",
       "      <td>Beans</td>\n",
       "      <td>388</td>\n",
       "    </tr>\n",
       "    <tr>\n",
       "      <th>4</th>\n",
       "      <td>Kitagwenda</td>\n",
       "      <td>Bujumiro</td>\n",
       "      <td>Nyabwina_Buhanda</td>\n",
       "      <td>2025</td>\n",
       "      <td>A</td>\n",
       "      <td>Beans</td>\n",
       "      <td>232</td>\n",
       "    </tr>\n",
       "    <tr>\n",
       "      <th>...</th>\n",
       "      <td>...</td>\n",
       "      <td>...</td>\n",
       "      <td>...</td>\n",
       "      <td>...</td>\n",
       "      <td>...</td>\n",
       "      <td>...</td>\n",
       "      <td>...</td>\n",
       "    </tr>\n",
       "    <tr>\n",
       "      <th>124</th>\n",
       "      <td>Rakai</td>\n",
       "      <td>Kasensero</td>\n",
       "      <td>Nabyala</td>\n",
       "      <td>2025</td>\n",
       "      <td>A</td>\n",
       "      <td>Irish potatoes</td>\n",
       "      <td>28</td>\n",
       "    </tr>\n",
       "    <tr>\n",
       "      <th>125</th>\n",
       "      <td>Rakai</td>\n",
       "      <td>Kasensero</td>\n",
       "      <td>Nakitokolo</td>\n",
       "      <td>2025</td>\n",
       "      <td>A</td>\n",
       "      <td>Irish potatoes</td>\n",
       "      <td>47</td>\n",
       "    </tr>\n",
       "    <tr>\n",
       "      <th>126</th>\n",
       "      <td>Rakai</td>\n",
       "      <td>Kyamakanaga</td>\n",
       "      <td>Kyamakanaga_A</td>\n",
       "      <td>2025</td>\n",
       "      <td>A</td>\n",
       "      <td>Irish potatoes</td>\n",
       "      <td>58</td>\n",
       "    </tr>\n",
       "    <tr>\n",
       "      <th>127</th>\n",
       "      <td>Rakai</td>\n",
       "      <td>Kyamakanaga</td>\n",
       "      <td>Kyamakanaga_B</td>\n",
       "      <td>2025</td>\n",
       "      <td>A</td>\n",
       "      <td>Irish potatoes</td>\n",
       "      <td>27</td>\n",
       "    </tr>\n",
       "    <tr>\n",
       "      <th>128</th>\n",
       "      <td>Rakai</td>\n",
       "      <td>Kyamakanaga</td>\n",
       "      <td>Nnongo_A</td>\n",
       "      <td>2025</td>\n",
       "      <td>A</td>\n",
       "      <td>Irish potatoes</td>\n",
       "      <td>73</td>\n",
       "    </tr>\n",
       "  </tbody>\n",
       "</table>\n",
       "<p>129 rows × 7 columns</p>\n",
       "</div>"
      ],
      "text/plain": [
       "    district_name cluster_name      village_name  cohort cycle  \\\n",
       "0      Kitagwenda     Bujumiro        Bujumiro_A    2025     A   \n",
       "1      Kitagwenda     Bujumiro        Bujumiro_B    2025     A   \n",
       "2      Kitagwenda     Bujumiro      Kanyamburara    2025     A   \n",
       "3      Kitagwenda     Bujumiro        Kyarubingo    2025     A   \n",
       "4      Kitagwenda     Bujumiro  Nyabwina_Buhanda    2025     A   \n",
       "..            ...          ...               ...     ...   ...   \n",
       "124         Rakai    Kasensero           Nabyala    2025     A   \n",
       "125         Rakai    Kasensero        Nakitokolo    2025     A   \n",
       "126         Rakai  Kyamakanaga     Kyamakanaga_A    2025     A   \n",
       "127         Rakai  Kyamakanaga     Kyamakanaga_B    2025     A   \n",
       "128         Rakai  Kyamakanaga          Nnongo_A    2025     A   \n",
       "\n",
       "               seed  Total quantity  \n",
       "0             Beans             468  \n",
       "1             Beans             300  \n",
       "2             Beans             636  \n",
       "3             Beans             388  \n",
       "4             Beans             232  \n",
       "..              ...             ...  \n",
       "124  Irish potatoes              28  \n",
       "125  Irish potatoes              47  \n",
       "126  Irish potatoes              58  \n",
       "127  Irish potatoes              27  \n",
       "128  Irish potatoes              73  \n",
       "\n",
       "[129 rows x 7 columns]"
      ]
     },
     "execution_count": 117,
     "metadata": {},
     "output_type": "execute_result"
    }
   ],
   "source": [
    "summary_analyis_design"
   ]
  },
  {
   "cell_type": "code",
   "execution_count": 118,
   "id": "948fc552",
   "metadata": {},
   "outputs": [],
   "source": [
    "summary_analyis_imp= data_distribution.pivot_table(index=['district_name', 'cluster_name', 'village_name',\n",
    "       'cohort', 'cycle','seed'],values=['quantity_per_household'],aggfunc='sum')"
   ]
  },
  {
   "cell_type": "code",
   "execution_count": 119,
   "id": "09331146",
   "metadata": {},
   "outputs": [],
   "source": [
    "summary_analyis_imp=summary_analyis_imp.reset_index()"
   ]
  },
  {
   "cell_type": "code",
   "execution_count": 120,
   "id": "4f3d5775",
   "metadata": {},
   "outputs": [],
   "source": [
    "summary_analyis_imp.rename(columns={\"quantity_per_household\":\"Total quantity\"},inplace=True)"
   ]
  },
  {
   "cell_type": "code",
   "execution_count": 121,
   "id": "18feb757",
   "metadata": {},
   "outputs": [
    {
     "data": {
      "text/plain": [
       "Index(['district_name', 'cluster_name', 'village_name', 'cohort', 'cycle',\n",
       "       'seed', 'Total quantity'],\n",
       "      dtype='object')"
      ]
     },
     "execution_count": 121,
     "metadata": {},
     "output_type": "execute_result"
    }
   ],
   "source": [
    "summary_analyis_design.columns"
   ]
  },
  {
   "cell_type": "code",
   "execution_count": 122,
   "id": "59f32823",
   "metadata": {},
   "outputs": [],
   "source": [
    "seed_dist_merg=summary_analyis_design.merge(summary_analyis_imp,on=['district_name', 'cluster_name', 'village_name', 'cohort', 'cycle',\n",
    "       'seed'],\n",
    "       suffixes=('_design','_imp'),\n",
    "       how='outer')"
   ]
  },
  {
   "cell_type": "code",
   "execution_count": 123,
   "id": "11e22bf2",
   "metadata": {},
   "outputs": [],
   "source": [
    "seed_dist_merg.to_excel(r'C:\\Users\\Edison New\\Desktop\\HWG Q1 Reporting 2025\\Quality reports shared\\seed distribution.xlsx')"
   ]
  }
 ],
 "metadata": {
  "kernelspec": {
   "display_name": "Python 3",
   "language": "python",
   "name": "python3"
  },
  "language_info": {
   "codemirror_mode": {
    "name": "ipython",
    "version": 3
   },
   "file_extension": ".py",
   "mimetype": "text/x-python",
   "name": "python",
   "nbconvert_exporter": "python",
   "pygments_lexer": "ipython3",
   "version": "3.12.4"
  }
 },
 "nbformat": 4,
 "nbformat_minor": 5
}
