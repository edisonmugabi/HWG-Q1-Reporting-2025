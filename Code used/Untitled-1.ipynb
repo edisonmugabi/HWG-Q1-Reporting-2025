{
 "cells": [
  {
   "cell_type": "code",
   "execution_count": 1,
   "id": "75ce240b",
   "metadata": {},
   "outputs": [],
   "source": [
    "import pandas as pd\n",
    "import numpy as np"
   ]
  },
  {
   "cell_type": "code",
   "execution_count": 2,
   "id": "02ff077b",
   "metadata": {},
   "outputs": [
    {
     "name": "stderr",
     "output_type": "stream",
     "text": [
      "C:\\Users\\Edison New\\AppData\\Local\\Temp\\ipykernel_20496\\56461163.py:1: DtypeWarning: Columns (57,105,108,179,186,207,214,221,234,240,329,374,554,565,572,581,602,627,686,724,737,749,792,808,882,885) have mixed types. Specify dtype option on import or set low_memory=False.\n",
      "  se_data = pd.read_csv(\"C:\\\\Users\\\\Edison New\\\\Desktop\\\\HWG Q1 Reporting 2025\\\\Raw data sets from the app\\\\check2 hWG Q1 files\\\\PEAL - Standards Evaluation - Household_WIDE.csv\")\n"
     ]
    }
   ],
   "source": [
    "se_data = pd.read_csv(\"C:\\\\Users\\\\Edison New\\\\Desktop\\\\HWG Q1 Reporting 2025\\\\Raw data sets from the app\\\\check2 hWG Q1 files\\\\PEAL - Standards Evaluation - Household_WIDE.csv\")"
   ]
  },
  {
   "cell_type": "code",
   "execution_count": 3,
   "id": "ea8385ae",
   "metadata": {},
   "outputs": [],
   "source": [
    "se_data['pre_hhid'] = np.where(pd.isna(se_data['pre_hhid']), se_data['caseid'], se_data['pre_hhid'])"
   ]
  },
  {
   "cell_type": "code",
   "execution_count": 4,
   "id": "bf874d9d",
   "metadata": {},
   "outputs": [],
   "source": [
    "k = [i for i in se_data.columns if 'img' in i or \"gps\" in i or \"device\" in i or \"enumerator\" in i or \"ev_date\" in i or \"coordinates\" in i or \"card\"in i or \"hhid_24\" in i or \"hhid_n\" in i or \"contact\" in i or \"comment\" in i or \"instance\" in i or \"case\" in i or \"audit\" in i or \"pre_vid\" in i or \"scan\" in i or \"_check\" in i or \"_trainings_\" in i or \"training\" in i]"
   ]
  },
  {
   "cell_type": "code",
   "execution_count": 5,
   "id": "83b38da8",
   "metadata": {},
   "outputs": [
    {
     "data": {
      "text/plain": [
       "['text_audit',\n",
       " 'deviceid',\n",
       " 'deviceinfo',\n",
       " 'ev_date',\n",
       " 'caseid',\n",
       " 'intro_gps-Latitude',\n",
       " 'intro_gps-Longitude',\n",
       " 'intro_gps-Altitude',\n",
       " 'intro_gps-Accuracy',\n",
       " 'enumerator',\n",
       " 'enumerator_id',\n",
       " 'enumerator_name',\n",
       " 'pre_homegps',\n",
       " 'pre_vid',\n",
       " 'pre_check',\n",
       " 'card_available',\n",
       " 'scan_hhid',\n",
       " 'card_status',\n",
       " 'card_num',\n",
       " 'hhid_24',\n",
       " 'hhid_n',\n",
       " 'no_card_available',\n",
       " 'hh_coordinates-Latitude',\n",
       " 'hh_coordinates-Longitude',\n",
       " 'hh_coordinates-Altitude',\n",
       " 'hh_coordinates-Accuracy',\n",
       " 'hh_contact',\n",
       " 'hhs_gps-Latitude',\n",
       " 'hhs_gps-Longitude',\n",
       " 'hhs_gps-Altitude',\n",
       " 'hhs_gps-Accuracy',\n",
       " 'sanitation_gps-Latitude',\n",
       " 'sanitation_gps-Longitude',\n",
       " 'sanitation_gps-Altitude',\n",
       " 'sanitation_gps-Accuracy',\n",
       " 'tippy_img',\n",
       " 'water_consumed_daily_check',\n",
       " 'water_collect_time_check',\n",
       " 'water_collect_distance_check',\n",
       " 'farming_gps-Latitude',\n",
       " 'farming_gps-Longitude',\n",
       " 'farming_gps-Altitude',\n",
       " 'farming_gps-Accuracy',\n",
       " 'cm_gps-Latitude',\n",
       " 'cm_gps-Longitude',\n",
       " 'cm_gps-Altitude',\n",
       " 'cm_gps-Accuracy',\n",
       " 'manuremaking_gps-Latitude',\n",
       " 'manuremaking_gps-Longitude',\n",
       " 'manuremaking_gps-Altitude',\n",
       " 'manuremaking_gps-Accuracy',\n",
       " 'compost_img',\n",
       " 'organic_farming_gps-Latitude',\n",
       " 'organic_farming_gps-Longitude',\n",
       " 'organic_farming_gps-Altitude',\n",
       " 'organic_farming_gps-Accuracy',\n",
       " 'coffee_farming_gps-Latitude',\n",
       " 'coffee_farming_gps-Longitude',\n",
       " 'coffee_farming_gps-Altitude',\n",
       " 'coffee_farming_gps-Accuracy',\n",
       " 'livestock_gps-Latitude',\n",
       " 'livestock_gps-Longitude',\n",
       " 'livestock_gps-Altitude',\n",
       " 'livestock_gps-Accuracy',\n",
       " 'goat_sheep_img',\n",
       " 'pigsty_img',\n",
       " 'cow_kraal_img',\n",
       " 'poultry_shelter_img',\n",
       " 'agric_trainings',\n",
       " 'agric_trainings_1',\n",
       " 'agric_trainings_2',\n",
       " 'agric_trainings_3',\n",
       " 'agric_trainings_4',\n",
       " 'agric_trainings_5',\n",
       " 'agric_trainings_99',\n",
       " 'wash_trainings',\n",
       " 'wash_trainings_1',\n",
       " 'wash_trainings_2',\n",
       " 'wash_trainings_99',\n",
       " 'ht_trainings',\n",
       " 'ht_trainings_1',\n",
       " 'ht_trainings_2',\n",
       " 'ht_trainings_3',\n",
       " 'ht_trainings_4',\n",
       " 'ht_trainings_99',\n",
       " 'hort_trainings',\n",
       " 'hort_trainings_1',\n",
       " 'hort_trainings_2',\n",
       " 'hort_trainings_3',\n",
       " 'hort_trainings_4',\n",
       " 'hort_trainings_99',\n",
       " 'ccdt_trainings',\n",
       " 'ccdt_trainings_1',\n",
       " 'ccdt_trainings_2',\n",
       " 'ccdt_trainings_3',\n",
       " 'ccdt_trainings_4',\n",
       " 'ccdt_trainings_98',\n",
       " 'ccdt_trainings_99',\n",
       " 'livestock_trainings',\n",
       " 'livestock_trainings_1',\n",
       " 'livestock_trainings_2',\n",
       " 'livestock_trainings_3',\n",
       " 'livestock_trainings_4',\n",
       " 'livestock_trainings_5',\n",
       " 'livestock_trainings_6',\n",
       " 'livestock_trainings_7',\n",
       " 'livestock_trainings_99',\n",
       " 'trainings_attendance_gps-Latitude',\n",
       " 'trainings_attendance_gps-Longitude',\n",
       " 'trainings_attendance_gps-Altitude',\n",
       " 'trainings_attendance_gps-Accuracy',\n",
       " 'training_dist',\n",
       " 'evaluators_comment',\n",
       " 'hh_comment',\n",
       " 'nps_gps-Latitude',\n",
       " 'nps_gps-Longitude',\n",
       " 'nps_gps-Altitude',\n",
       " 'nps_gps-Accuracy',\n",
       " 'instanceID',\n",
       " 'instanceName']"
      ]
     },
     "execution_count": 5,
     "metadata": {},
     "output_type": "execute_result"
    }
   ],
   "source": [
    "k"
   ]
  },
  {
   "cell_type": "code",
   "execution_count": 6,
   "id": "42ef96ec",
   "metadata": {},
   "outputs": [],
   "source": [
    "col =[\"refusing_other\",\"hhs_dist\",\"san_dist\",\"hhid_comp_hhid\",\"intro_dist\",\"hhh_educ_level\",\"hh_sex\",\"hh_age\",\n",
    "      \"farm_dist\",\"cm_dist\",\"vegs_inputs_num\",\"coffee_dist\",\"livestock_dist\",\"chart_info\",\"chart_learn\",\n",
    "      \"chart_practice\",\"kap_livestock_num\",\"nps_dist\",\"survey_end\",\"survey_dur\",\"formdef_version\",\"KEY\",\"duration\",\"survey_start\",\n",
    "      \"SubmissionDate\",\"starttime\",\"endtime\",\"pre_name\",\"track_status\",\"hh_dist\",\"person_present\",\"status_1\",\n",
    "      \"overall_nps_reason\",\"high_program_rating\",\"high_rated_program\",\"high_program_rating_reason\",\"low_program_rating\",\n",
    "      \"low_rated_program\",\"low_program_rating_reason\",\"overall_nps\"\n",
    "\n",
    "\n",
    "]"
   ]
  },
  {
   "cell_type": "code",
   "execution_count": 7,
   "id": "2eddcd0a",
   "metadata": {},
   "outputs": [],
   "source": [
    "p = k+col"
   ]
  },
  {
   "cell_type": "code",
   "execution_count": 8,
   "id": "9a42be6b",
   "metadata": {},
   "outputs": [],
   "source": [
    "clean_se_data = se_data.drop(columns=p)"
   ]
  },
  {
   "cell_type": "code",
   "execution_count": 9,
   "id": "9a6cf3e6",
   "metadata": {},
   "outputs": [
    {
     "data": {
      "text/plain": [
       "Index(['pre_region', 'pre_district', 'pre_subcounty', 'pre_parish',\n",
       "       'pre_project', 'pre_cluster', 'pre_village', 'pre_cohort', 'pre_cycle',\n",
       "       'pre_hhid',\n",
       "       ...\n",
       "       'vlsa_membership', 'access_loan', 'vlsa_committee_support',\n",
       "       'vlsa_committee_score', 'agric_champion_satisfication',\n",
       "       'agric_champion_score', 'wash_champion_satisfication',\n",
       "       'wash_champion_score', 'village_champion_satisfication',\n",
       "       'village_champion_score'],\n",
       "      dtype='object', length=741)"
      ]
     },
     "execution_count": 9,
     "metadata": {},
     "output_type": "execute_result"
    }
   ],
   "source": [
    "clean_se_data.columns"
   ]
  },
  {
   "cell_type": "code",
   "execution_count": 10,
   "id": "b5077d93",
   "metadata": {},
   "outputs": [],
   "source": [
    "clean_se_data = clean_se_data[(clean_se_data['pre_district']).isin([\"Rakai\",\"Kitagwenda\"])]"
   ]
  },
  {
   "cell_type": "code",
   "execution_count": 11,
   "id": "00d81573",
   "metadata": {},
   "outputs": [],
   "source": [
    "clean_se_data.to_csv(\"C:\\\\Users\\\\Edison New\\\\Desktop\\\\HWG Q1 Reporting 2025\\\\Datasetsets shared\\\\clean_se_data.csv\", index=False)"
   ]
  }
 ],
 "metadata": {
  "kernelspec": {
   "display_name": "Python 3",
   "language": "python",
   "name": "python3"
  },
  "language_info": {
   "codemirror_mode": {
    "name": "ipython",
    "version": 3
   },
   "file_extension": ".py",
   "mimetype": "text/x-python",
   "name": "python",
   "nbconvert_exporter": "python",
   "pygments_lexer": "ipython3",
   "version": "3.12.4"
  }
 },
 "nbformat": 4,
 "nbformat_minor": 5
}
