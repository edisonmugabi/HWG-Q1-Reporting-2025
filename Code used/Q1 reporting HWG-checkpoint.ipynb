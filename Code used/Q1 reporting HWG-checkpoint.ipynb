{
 "cells": [
  {
   "cell_type": "code",
   "execution_count": 1,
   "id": "86dbe8c4-6476-4d83-8737-65a9cc628556",
   "metadata": {},
   "outputs": [],
   "source": [
    "import pandas as pd\n",
    "import numpy as np\n"
   ]
  },
  {
   "cell_type": "code",
   "execution_count": 2,
   "id": "6fafea05",
   "metadata": {},
   "outputs": [],
   "source": [
    "# importing the census data\n",
    "census = pd.read_excel(r'C:\\Users\\RTV-LPT1-233\\Desktop\\edison jupyter\\HWG Data request1.xlsx',\n",
    "                        sheet_name='CensusMapped HH')"
   ]
  },
  {
   "cell_type": "code",
   "execution_count": 3,
   "id": "2675f222",
   "metadata": {},
   "outputs": [],
   "source": [
    "#creating a cohort column in the census data\n",
    "census['cohort']=2024"
   ]
  },
  {
   "cell_type": "code",
   "execution_count": 4,
   "id": "5a984131-6085-49d3-a6f1-b3916ccfebcc",
   "metadata": {},
   "outputs": [
    {
     "data": {
      "text/html": [
       "<div>\n",
       "<style scoped>\n",
       "    .dataframe tbody tr th:only-of-type {\n",
       "        vertical-align: middle;\n",
       "    }\n",
       "\n",
       "    .dataframe tbody tr th {\n",
       "        vertical-align: top;\n",
       "    }\n",
       "\n",
       "    .dataframe thead th {\n",
       "        text-align: right;\n",
       "    }\n",
       "</style>\n",
       "<table border=\"1\" class=\"dataframe\">\n",
       "  <thead>\n",
       "    <tr style=\"text-align: right;\">\n",
       "      <th></th>\n",
       "      <th>district</th>\n",
       "      <th>subcounty</th>\n",
       "      <th>parish_t</th>\n",
       "      <th>village</th>\n",
       "      <th>Cluster</th>\n",
       "      <th>Cycle</th>\n",
       "      <th>household_id</th>\n",
       "      <th>cohort</th>\n",
       "    </tr>\n",
       "  </thead>\n",
       "  <tbody>\n",
       "    <tr>\n",
       "      <th>0</th>\n",
       "      <td>Kitagwenda</td>\n",
       "      <td>Ruhunga</td>\n",
       "      <td>Kyarwera</td>\n",
       "      <td>Rweya</td>\n",
       "      <td>Ruhunga</td>\n",
       "      <td>A</td>\n",
       "      <td>KIT-RWE-VIO-F-202715</td>\n",
       "      <td>2024</td>\n",
       "    </tr>\n",
       "    <tr>\n",
       "      <th>1</th>\n",
       "      <td>Kitagwenda</td>\n",
       "      <td>Ruhunga</td>\n",
       "      <td>Kyarwera</td>\n",
       "      <td>Rweya</td>\n",
       "      <td>Ruhunga</td>\n",
       "      <td>A</td>\n",
       "      <td>KIT-RWE-SUL-M-091715</td>\n",
       "      <td>2024</td>\n",
       "    </tr>\n",
       "    <tr>\n",
       "      <th>2</th>\n",
       "      <td>Kitagwenda</td>\n",
       "      <td>Ruhunga</td>\n",
       "      <td>Kyarwera</td>\n",
       "      <td>Rweya</td>\n",
       "      <td>Ruhunga</td>\n",
       "      <td>A</td>\n",
       "      <td>KIT-RWE-DID-M-093637</td>\n",
       "      <td>2024</td>\n",
       "    </tr>\n",
       "    <tr>\n",
       "      <th>3</th>\n",
       "      <td>Kitagwenda</td>\n",
       "      <td>Ruhunga</td>\n",
       "      <td>Kyarwera</td>\n",
       "      <td>Rweya</td>\n",
       "      <td>Ruhunga</td>\n",
       "      <td>A</td>\n",
       "      <td>KIT-RWE-JOY-F-095504</td>\n",
       "      <td>2024</td>\n",
       "    </tr>\n",
       "    <tr>\n",
       "      <th>4</th>\n",
       "      <td>Kitagwenda</td>\n",
       "      <td>Ruhunga</td>\n",
       "      <td>Kyarwera</td>\n",
       "      <td>Rweya</td>\n",
       "      <td>Ruhunga</td>\n",
       "      <td>A</td>\n",
       "      <td>KIT-RWE-PAT-M-101050</td>\n",
       "      <td>2024</td>\n",
       "    </tr>\n",
       "  </tbody>\n",
       "</table>\n",
       "</div>"
      ],
      "text/plain": [
       "     district subcounty  parish_t village  Cluster Cycle  \\\n",
       "0  Kitagwenda   Ruhunga  Kyarwera   Rweya  Ruhunga     A   \n",
       "1  Kitagwenda   Ruhunga  Kyarwera   Rweya  Ruhunga     A   \n",
       "2  Kitagwenda   Ruhunga  Kyarwera   Rweya  Ruhunga     A   \n",
       "3  Kitagwenda   Ruhunga  Kyarwera   Rweya  Ruhunga     A   \n",
       "4  Kitagwenda   Ruhunga  Kyarwera   Rweya  Ruhunga     A   \n",
       "\n",
       "           household_id  cohort  \n",
       "0  KIT-RWE-VIO-F-202715    2024  \n",
       "1  KIT-RWE-SUL-M-091715    2024  \n",
       "2  KIT-RWE-DID-M-093637    2024  \n",
       "3  KIT-RWE-JOY-F-095504    2024  \n",
       "4  KIT-RWE-PAT-M-101050    2024  "
      ]
     },
     "execution_count": 4,
     "metadata": {},
     "output_type": "execute_result"
    }
   ],
   "source": [
    "#lookinhg at the census data\n",
    "census.head()"
   ]
  },
  {
   "cell_type": "code",
   "execution_count": 5,
   "id": "258d01b6-8a7e-4e22-a88c-37311b8a3ed3",
   "metadata": {},
   "outputs": [],
   "source": [
    "# importing the census data for 2025\n",
    "census_2025=pd.read_excel(r\"C:\\Users\\RTV-LPT1-233\\Desktop\\edison jupyter\\2025cycle A census.xlsx\")"
   ]
  },
  {
   "cell_type": "code",
   "execution_count": 6,
   "id": "3da8cd5f-8c54-4840-9c5b-f839984f02d5",
   "metadata": {},
   "outputs": [],
   "source": [
    "# merging the two census dataframes\n",
    "census_merged=pd.concat([census,census_2025], \n",
    "                       join='inner')"
   ]
  },
  {
   "cell_type": "code",
   "execution_count": 7,
   "id": "a9693b2a-97db-444a-bebf-c758775a2581",
   "metadata": {},
   "outputs": [
    {
     "data": {
      "text/html": [
       "<div>\n",
       "<style scoped>\n",
       "    .dataframe tbody tr th:only-of-type {\n",
       "        vertical-align: middle;\n",
       "    }\n",
       "\n",
       "    .dataframe tbody tr th {\n",
       "        vertical-align: top;\n",
       "    }\n",
       "\n",
       "    .dataframe thead th {\n",
       "        text-align: right;\n",
       "    }\n",
       "</style>\n",
       "<table border=\"1\" class=\"dataframe\">\n",
       "  <thead>\n",
       "    <tr style=\"text-align: right;\">\n",
       "      <th></th>\n",
       "      <th>district</th>\n",
       "      <th>subcounty</th>\n",
       "      <th>parish_t</th>\n",
       "      <th>village</th>\n",
       "      <th>Cluster</th>\n",
       "      <th>Cycle</th>\n",
       "      <th>household_id</th>\n",
       "      <th>cohort</th>\n",
       "    </tr>\n",
       "  </thead>\n",
       "  <tbody>\n",
       "    <tr>\n",
       "      <th>0</th>\n",
       "      <td>Kitagwenda</td>\n",
       "      <td>Ruhunga</td>\n",
       "      <td>Kyarwera</td>\n",
       "      <td>Rweya</td>\n",
       "      <td>Ruhunga</td>\n",
       "      <td>A</td>\n",
       "      <td>KIT-RWE-VIO-F-202715</td>\n",
       "      <td>2024</td>\n",
       "    </tr>\n",
       "    <tr>\n",
       "      <th>1</th>\n",
       "      <td>Kitagwenda</td>\n",
       "      <td>Ruhunga</td>\n",
       "      <td>Kyarwera</td>\n",
       "      <td>Rweya</td>\n",
       "      <td>Ruhunga</td>\n",
       "      <td>A</td>\n",
       "      <td>KIT-RWE-SUL-M-091715</td>\n",
       "      <td>2024</td>\n",
       "    </tr>\n",
       "    <tr>\n",
       "      <th>2</th>\n",
       "      <td>Kitagwenda</td>\n",
       "      <td>Ruhunga</td>\n",
       "      <td>Kyarwera</td>\n",
       "      <td>Rweya</td>\n",
       "      <td>Ruhunga</td>\n",
       "      <td>A</td>\n",
       "      <td>KIT-RWE-DID-M-093637</td>\n",
       "      <td>2024</td>\n",
       "    </tr>\n",
       "    <tr>\n",
       "      <th>3</th>\n",
       "      <td>Kitagwenda</td>\n",
       "      <td>Ruhunga</td>\n",
       "      <td>Kyarwera</td>\n",
       "      <td>Rweya</td>\n",
       "      <td>Ruhunga</td>\n",
       "      <td>A</td>\n",
       "      <td>KIT-RWE-JOY-F-095504</td>\n",
       "      <td>2024</td>\n",
       "    </tr>\n",
       "    <tr>\n",
       "      <th>4</th>\n",
       "      <td>Kitagwenda</td>\n",
       "      <td>Ruhunga</td>\n",
       "      <td>Kyarwera</td>\n",
       "      <td>Rweya</td>\n",
       "      <td>Ruhunga</td>\n",
       "      <td>A</td>\n",
       "      <td>KIT-RWE-PAT-M-101050</td>\n",
       "      <td>2024</td>\n",
       "    </tr>\n",
       "  </tbody>\n",
       "</table>\n",
       "</div>"
      ],
      "text/plain": [
       "     district subcounty  parish_t village  Cluster Cycle  \\\n",
       "0  Kitagwenda   Ruhunga  Kyarwera   Rweya  Ruhunga     A   \n",
       "1  Kitagwenda   Ruhunga  Kyarwera   Rweya  Ruhunga     A   \n",
       "2  Kitagwenda   Ruhunga  Kyarwera   Rweya  Ruhunga     A   \n",
       "3  Kitagwenda   Ruhunga  Kyarwera   Rweya  Ruhunga     A   \n",
       "4  Kitagwenda   Ruhunga  Kyarwera   Rweya  Ruhunga     A   \n",
       "\n",
       "           household_id  cohort  \n",
       "0  KIT-RWE-VIO-F-202715    2024  \n",
       "1  KIT-RWE-SUL-M-091715    2024  \n",
       "2  KIT-RWE-DID-M-093637    2024  \n",
       "3  KIT-RWE-JOY-F-095504    2024  \n",
       "4  KIT-RWE-PAT-M-101050    2024  "
      ]
     },
     "execution_count": 7,
     "metadata": {},
     "output_type": "execute_result"
    }
   ],
   "source": [
    "#checking the merged data\n",
    "census_merged.head()"
   ]
  },
  {
   "cell_type": "markdown",
   "id": "643233e7-1edb-4e0c-93e4-6d2eccbcdc4f",
   "metadata": {},
   "source": [
    "## Training data checks"
   ]
  },
  {
   "cell_type": "code",
   "execution_count": 8,
   "id": "7fb27c09-0229-4e63-a51c-482145d3a133",
   "metadata": {},
   "outputs": [
    {
     "name": "stderr",
     "output_type": "stream",
     "text": [
      "C:\\Users\\Edison New\\AppData\\Local\\Temp\\ipykernel_10236\\1246389641.py:2: DtypeWarning: Columns (29) have mixed types. Specify dtype option on import or set low_memory=False.\n",
      "  training_data=pd.read_csv(r\"C:\\\\Users\\\\Edison New\\\\Desktop\\\\HWG Q1 Reporting 2025\\\\Raw data sets from the app\\\\check2 hWG Q1 files\\\\training data check#13.csv\")\n"
     ]
    }
   ],
   "source": [
    "# importing and reading training dataset\n",
    "training_data=pd.read_csv(r\"C:\\\\Users\\\\Edison New\\\\Desktop\\\\HWG Q1 Reporting 2025\\\\Raw data sets from the app\\\\check2 hWG Q1 files\\\\training data check#13.csv\")"
   ]
  },
  {
   "cell_type": "code",
   "execution_count": 9,
   "id": "d7c2b9a3",
   "metadata": {},
   "outputs": [],
   "source": [
    "# filtering the training data for 2025 cohort\n",
    "training_data=training_data[training_data['cohort']==2025]"
   ]
  },
  {
   "cell_type": "code",
   "execution_count": 10,
   "id": "d71d2be9-974f-4bcb-9948-72f6b558d60f",
   "metadata": {},
   "outputs": [],
   "source": [
    "#checking for households IDs in Census data\n",
    "checked_data=training_data[training_data['household_id'].isin(census_merged['household_id'])]"
   ]
  },
  {
   "cell_type": "code",
   "execution_count": 11,
   "id": "0d171911-3d73-42d9-9ed9-4318e0874ca7",
   "metadata": {},
   "outputs": [],
   "source": [
    "#droping the duplicates by training types\n",
    "clean_data = (\n",
    "    checked_data\n",
    "    .sort_values(by='type')  \n",
    "    .drop_duplicates(subset=['type', 'household_id'])  \n",
    ")"
   ]
  },
  {
   "cell_type": "code",
   "execution_count": 12,
   "id": "1835d098-5d87-44c7-848e-8ea513ae99ec",
   "metadata": {},
   "outputs": [],
   "source": [
    "# summarizing the training data for 2025 cohort\n",
    "training_analysis=clean_data.pivot_table(index=['district_name','village_name','cohort','cycle','type'],\n",
    "                                         values='household_id',\n",
    "                                         aggfunc='count')"
   ]
  },
  {
   "cell_type": "code",
   "execution_count": 13,
   "id": "f165f8e3-6dc3-4210-b13b-c0d855308e26",
   "metadata": {},
   "outputs": [],
   "source": [
    "# resetting the index of the training analysis dataframe\n",
    "training_analysis = training_analysis.reset_index()"
   ]
  },
  {
   "cell_type": "code",
   "execution_count": 14,
   "id": "40f2b745",
   "metadata": {},
   "outputs": [],
   "source": [
    "# filtering the training analysis for 2025 cohort\n",
    "training_analysis1=training_analysis[training_analysis['cohort']==2025]"
   ]
  },
  {
   "cell_type": "code",
   "execution_count": 15,
   "id": "326015cf-6f82-4cb9-83ec-8ab75f3ab9d1",
   "metadata": {},
   "outputs": [],
   "source": [
    "# exporting the training analysis to an excel file\n",
    "training_analysis1.to_excel(r\"C:\\Users\\Edison New\\Desktop\\HWG Q1 Reporting 2025\\Quality reports shared\\training_analysis.xlsx\", index=False)\n"
   ]
  },
  {
   "cell_type": "code",
   "execution_count": 16,
   "id": "3eaf9ce4-99db-4d9d-93c7-883efa6dd191",
   "metadata": {},
   "outputs": [],
   "source": [
    "# list of trainings expected to be done\n",
    "trainings = [\n",
    "    \"Agriculture 1 - Organics Farming & Keyhole gardening\",\n",
    "    \"Agriculture 2 - Preparation & Preplanting (Day 1)\",\n",
    "    \"Agriculture 2 - Preparation & Preplanting (Day 2)\",\n",
    "    \"CATs / Agriculture Champions\",\n",
    "    \"Coffee Champions - ToT 1\",\n",
    "    \"HHT 1 - Day 2 - VSLAs\",\n",
    "    \"HHT 1 - Mindset and behavioral change\",\n",
    "    \"HHT 2 - Financial Literacy and VSLA and and Business Enterprise Selection\",\n",
    "    \"HOR 1\",\n",
    "    \"Village Champions\",\n",
    "    \"WASH - Training 1\",\n",
    "    \"WASH Champions Training\",\n",
    "    # \"Water User Committee\"\n",
    "]\n"
   ]
  },
  {
   "cell_type": "code",
   "execution_count": 17,
   "id": "21ba9515-0930-4c48-aef3-1bcf30140b5f",
   "metadata": {},
   "outputs": [],
   "source": [
    "# creating the empty list to store the missing trainings\n",
    "missing_trainings = []"
   ]
  },
  {
   "cell_type": "code",
   "execution_count": 18,
   "id": "c6614ae8-52ea-4fff-8ace-d8a29c6496f6",
   "metadata": {},
   "outputs": [],
   "source": [
    "# Group by district, village, cohort, and cycle\n",
    "grouped = training_analysis.groupby(['district_name', 'village_name', 'cohort', 'cycle'])"
   ]
  },
  {
   "cell_type": "code",
   "execution_count": 19,
   "id": "93fde04d-da5c-4d37-b88e-e055a0820930",
   "metadata": {},
   "outputs": [],
   "source": [
    "# checking for missing trainings\n",
    "for (district, village, cohort, cycle), group in grouped:\n",
    "    attended_trainings = group['type'].unique().tolist()  \n",
    "    missing = list(set(trainings) - set(attended_trainings)) \n",
    "    if missing:\n",
    "        missing_trainings.append({\n",
    "            \"district_name\": district,\n",
    "            \"village\": village,\n",
    "            \"cohort\": cohort,\n",
    "            \"cycle\": cycle,\n",
    "            \"missing_trainings\": \", \".join(missing)\n",
    "        })\n",
    "\n",
    "# Convert to DataFrame\n",
    "missing_trainings_df = pd.DataFrame(missing_trainings)\n"
   ]
  },
  {
   "cell_type": "code",
   "execution_count": 20,
   "id": "e1de0123",
   "metadata": {},
   "outputs": [],
   "source": [
    "# importing the agriculture training data\n",
    "agric_training=pd.read_csv(r\"C:\\Users\\Edison New\\Desktop\\HWG Q1 Reporting 2025\\Raw data sets from the app\\agriculture trainings check#4.csv\")"
   ]
  },
  {
   "cell_type": "code",
   "execution_count": 21,
   "id": "16d27c2c",
   "metadata": {},
   "outputs": [
    {
     "data": {
      "text/plain": [
       "(11585, 50)"
      ]
     },
     "execution_count": 21,
     "metadata": {},
     "output_type": "execute_result"
    }
   ],
   "source": [
    "# checking for Household IDs in the agriculture training data if they are in the census data\n",
    "clean_agric_file=agric_training[agric_training['household_id'].str.upper().isin(census_merged['household_id'].str.upper())]\n",
    "clean_agric_file.shape"
   ]
  },
  {
   "cell_type": "code",
   "execution_count": 22,
   "id": "f8f6216d",
   "metadata": {},
   "outputs": [],
   "source": [
    "# exporting clean agriculture training data to a CSV file\n",
    "filepath = r\"C:\\Users\\Edison New\\Desktop\\HWG Q1 Reporting 2025\\Quality reports shared\\Agriculture_clean_data.csv\"\n",
    "clean_agric_file.to_csv(filepath, index=False)"
   ]
  },
  {
   "cell_type": "code",
   "execution_count": 23,
   "id": "6505b37c",
   "metadata": {},
   "outputs": [],
   "source": [
    "# filter trainining data for washing training,HHT day 1, HOR1,village champions, wash champions, agric champions\n",
    "trainings=[# \"Agriculture Perennial Crops\",\n",
    "    \"CATs / Agriculture Champions\",\n",
    "    \"Coffee Champions - ToT 1\",\n",
    "    \"HHT 1 - Day 2 - VSLAs\",\n",
    "    \"HHT 1 - Mindset and behavioral change\",\n",
    "    \"HHT 2 - Financial Literacy and VSLA and and Business Enterprise Selection\",\n",
    "    \"HOR 1\",\n",
    "    \"Village Champions\",\n",
    "    \"WASH - Training 1\",\n",
    "    \"WASH Champions Training\"]\n",
    "training_data_filtered=clean_data[clean_data['type'].isin(trainings)]\n",
    "\n",
    "# exporting the filtered data to a csv file\n",
    "filepath=\"C:\\\\Users\\\\Edison New\\\\Desktop\\\\HWG Q1 Reporting 2025\\\\Datasetsets shared\\\\Filtered_training_data.csv\"\n",
    "training_data_filtered.to_csv(filepath,index=False)"
   ]
  },
  {
   "cell_type": "markdown",
   "id": "fcb9f9e7",
   "metadata": {},
   "source": [
    "### Value addition training 2024 cycle A"
   ]
  },
  {
   "cell_type": "code",
   "execution_count": 24,
   "id": "f62dc784",
   "metadata": {},
   "outputs": [],
   "source": [
    "# checking for training of coffee value addition training\n",
    "data_value=pd.read_csv(r\"C:\\Users\\Edison New\\Desktop\\HWG Q1 Reporting 2025\\Raw data sets from the app\\check2 hWG Q1 files\\coffee value addition training.csv\")"
   ]
  },
  {
   "cell_type": "code",
   "execution_count": 25,
   "id": "bdead05e",
   "metadata": {},
   "outputs": [],
   "source": [
    "#filtering the census data for cycle A 2024 since the coffee value addition training is for cycle A\n",
    "census_A=census[census['Cycle']=='A']\n",
    "census_A.shape\n",
    "census_A_villages=census_A['village'].unique()"
   ]
  },
  {
   "cell_type": "code",
   "execution_count": 26,
   "id": "3d3dfeed",
   "metadata": {},
   "outputs": [
    {
     "name": "stdout",
     "output_type": "stream",
     "text": [
      "[]\n"
     ]
    }
   ],
   "source": [
    "# checking for the villages in the census data that are not in the coffee value addition training data\n",
    "missing_coffee=[]\n",
    "coffee_villages=data_value['village_name'].unique()\n",
    "for village in census_A_villages:\n",
    "    if village not in coffee_villages:\n",
    "       village.append(missing_coffee)\n",
    "print(missing_coffee)"
   ]
  },
  {
   "cell_type": "markdown",
   "id": "8bec5a3d",
   "metadata": {},
   "source": [
    "## coffee pests control and disease management"
   ]
  },
  {
   "cell_type": "code",
   "execution_count": 27,
   "id": "b1c658a4",
   "metadata": {},
   "outputs": [],
   "source": [
    "pests = pd.read_csv(\"C:\\\\Users\\\\Edison New\\\\Desktop\\\\HWG Q1 Reporting 2025\\\\Raw data sets from the app\\\\check2 hWG Q1 files\\\\coffee pests and diseases mgt.csv\")"
   ]
  },
  {
   "cell_type": "code",
   "execution_count": 28,
   "id": "34dedd4e",
   "metadata": {},
   "outputs": [],
   "source": [
    "pests= pests.drop_duplicates(subset=['household_id'])"
   ]
  },
  {
   "cell_type": "code",
   "execution_count": 29,
   "id": "a8cdb63f",
   "metadata": {},
   "outputs": [],
   "source": [
    "pest_analysis=pests.groupby(['district_name']).size().reset_index(name='counts')"
   ]
  },
  {
   "cell_type": "code",
   "execution_count": 30,
   "id": "a3acf796",
   "metadata": {},
   "outputs": [],
   "source": [
    "pest_analysis[\"total_hh\"]=np.where(pest_analysis['district_name']==\"Kitagwenda\",2057,4906\n",
    "                                   )"
   ]
  },
  {
   "cell_type": "code",
   "execution_count": 31,
   "id": "204b4121",
   "metadata": {},
   "outputs": [],
   "source": [
    "pest_analysis['pecentage'] =pest_analysis['counts'] / pest_analysis['total_hh']"
   ]
  },
  {
   "cell_type": "code",
   "execution_count": 32,
   "id": "3d1cd18a",
   "metadata": {},
   "outputs": [
    {
     "data": {
      "text/html": [
       "<div>\n",
       "<style scoped>\n",
       "    .dataframe tbody tr th:only-of-type {\n",
       "        vertical-align: middle;\n",
       "    }\n",
       "\n",
       "    .dataframe tbody tr th {\n",
       "        vertical-align: top;\n",
       "    }\n",
       "\n",
       "    .dataframe thead th {\n",
       "        text-align: right;\n",
       "    }\n",
       "</style>\n",
       "<table border=\"1\" class=\"dataframe\">\n",
       "  <thead>\n",
       "    <tr style=\"text-align: right;\">\n",
       "      <th></th>\n",
       "      <th>district_name</th>\n",
       "      <th>counts</th>\n",
       "      <th>total_hh</th>\n",
       "      <th>pecentage</th>\n",
       "    </tr>\n",
       "  </thead>\n",
       "  <tbody>\n",
       "    <tr>\n",
       "      <th>0</th>\n",
       "      <td>Kitagwenda</td>\n",
       "      <td>1961</td>\n",
       "      <td>2057</td>\n",
       "      <td>0.953330</td>\n",
       "    </tr>\n",
       "    <tr>\n",
       "      <th>1</th>\n",
       "      <td>Rakai</td>\n",
       "      <td>4573</td>\n",
       "      <td>4906</td>\n",
       "      <td>0.932124</td>\n",
       "    </tr>\n",
       "  </tbody>\n",
       "</table>\n",
       "</div>"
      ],
      "text/plain": [
       "  district_name  counts  total_hh  pecentage\n",
       "0    Kitagwenda    1961      2057   0.953330\n",
       "1         Rakai    4573      4906   0.932124"
      ]
     },
     "execution_count": 32,
     "metadata": {},
     "output_type": "execute_result"
    }
   ],
   "source": [
    "pest_analysis"
   ]
  },
  {
   "cell_type": "code",
   "execution_count": 33,
   "id": "7c777d08",
   "metadata": {},
   "outputs": [],
   "source": [
    "# exporting the pest analysis to an excel file\n",
    "pest_analysis.to_csv(r\"C:/Users/Edison New/Desktop/HWG Q1 Reporting 2025/pest_ disease_training_analysis.csv\", index=False)"
   ]
  },
  {
   "cell_type": "code",
   "execution_count": 34,
   "id": "1d8a5e02",
   "metadata": {},
   "outputs": [],
   "source": [
    "# exporting the coffee pests and diseases management data to a csv file\n",
    "filepath=\"C:\\\\Users\\\\Edison New\\\\Desktop\\\\HWG Q1 Reporting 2025\\\\Datasetsets shared\\\\coffee_pests_diseases_mgt.csv\"\n",
    "pests.to_csv(filepath,index=False)"
   ]
  },
  {
   "cell_type": "code",
   "execution_count": 35,
   "id": "22bb075e",
   "metadata": {},
   "outputs": [],
   "source": [
    "# exporting the clean coffee value addition training data to a CSV file\n",
    "filepath=\"C:\\\\Users\\\\Edison New\\\\Desktop\\\\HWG Q1 Reporting 2025\\\\Datasetsets shared\\\\coffee value addition training clean.csv\"\n",
    "data_value_addition_clean_file=data_value[data_value['household_id'].str.upper().isin(census['household_id'].str.upper())]\n",
    "data_value_addition_clean_file.to_csv(filepath,index=False)"
   ]
  },
  {
   "cell_type": "markdown",
   "id": "26d2c717",
   "metadata": {},
   "source": [
    "### HOR#3 for 2024 cycle B"
   ]
  },
  {
   "cell_type": "code",
   "execution_count": 36,
   "id": "e24b3a8f",
   "metadata": {},
   "outputs": [],
   "source": [
    "# importing the HOR#3 training data for 2024 cycle B clusters\n",
    "data_hor3=pd.read_csv(r\"C:\\\\Users\\\\Edison New\\\\Desktop\\\\HWG Q1 Reporting 2025\\\\Raw data sets from the app\\\\HOR#3 2024 check#11.csv\")"
   ]
  },
  {
   "cell_type": "code",
   "execution_count": 37,
   "id": "dfac94ef",
   "metadata": {},
   "outputs": [
    {
     "data": {
      "text/plain": [
       "(6963, 8)"
      ]
     },
     "execution_count": 37,
     "metadata": {},
     "output_type": "execute_result"
    }
   ],
   "source": [
    "# filtering the census data for cycle B 2024 since the HOR#3 training is for cycle B\n",
    "census_b=census[census['Cycle']==\"B\"]\n",
    "census_b.shape"
   ]
  },
  {
   "cell_type": "code",
   "execution_count": 38,
   "id": "92519656",
   "metadata": {},
   "outputs": [],
   "source": [
    "# checking for the villages in the census data that are not in the HOR#3 training data\n",
    "census_b_villages = census_b['village'].unique()\n",
    "data_hor3_villages = data_hor3['village_name'].unique()\n",
    "missing_hor3 = []\n",
    "for village in census_b_villages:\n",
    "    if village not in data_hor3_villages:\n",
    "        missing_hor3.append(village)"
   ]
  },
  {
   "cell_type": "code",
   "execution_count": 39,
   "id": "c029ab4c",
   "metadata": {},
   "outputs": [
    {
     "name": "stdout",
     "output_type": "stream",
     "text": [
      "Empty DataFrame\n",
      "Columns: [village_name, type]\n",
      "Index: []\n"
     ]
    }
   ],
   "source": [
    "# creating a DataFrame for the missing HOR#3 villages\n",
    "df = pd.DataFrame(missing_hor3, columns=['village_name'])\n",
    "df['type'] = \"HOR 3\"\n",
    "print(df)\n",
    "    "
   ]
  },
  {
   "cell_type": "code",
   "execution_count": 40,
   "id": "0a62741a",
   "metadata": {},
   "outputs": [],
   "source": [
    "# groupping the census data for 2024 cycle B\n",
    "summary_census_b=census_b.groupby(['district','village','Cluster','Cycle','cohort'])['household_id'].count()"
   ]
  },
  {
   "cell_type": "code",
   "execution_count": 41,
   "id": "17058426",
   "metadata": {},
   "outputs": [],
   "source": [
    "# resetting the index\n",
    "summary_census_b = summary_census_b.reset_index().rename(columns={'village': 'village_name'})\n"
   ]
  },
  {
   "cell_type": "code",
   "execution_count": 42,
   "id": "4b7ace41",
   "metadata": {},
   "outputs": [],
   "source": [
    "# merging census data for B and missing_hor3 datasets \n",
    "missing_hor3 = pd.merge(summary_census_b, df, on='village_name', how='outer')"
   ]
  },
  {
   "cell_type": "code",
   "execution_count": 43,
   "id": "cebb92f3",
   "metadata": {},
   "outputs": [],
   "source": [
    "#removing Rakai districts\n",
    "missing_hor3 = missing_hor3[missing_hor3['district'] != \"Rakai\"]"
   ]
  },
  {
   "cell_type": "code",
   "execution_count": 44,
   "id": "b6d654bc",
   "metadata": {},
   "outputs": [],
   "source": [
    "# Renaming the columns in the above merged data\n",
    "missing_hor3.rename(columns={'district':'district_name',\n",
    "                             'village_name':'village',\n",
    "                             'Cycle':'cycle',\n",
    "                             'cohort':'cohort',\n",
    "                             'type':'missing_trainings'},inplace=True)"
   ]
  },
  {
   "cell_type": "code",
   "execution_count": 45,
   "id": "038d724f",
   "metadata": {},
   "outputs": [],
   "source": [
    "# merging all df with missing training reports into one report\n",
    "merged_missing_training = pd.concat([missing_trainings_df, missing_hor3], ignore_index=True)"
   ]
  },
  {
   "cell_type": "code",
   "execution_count": 46,
   "id": "3bde8009",
   "metadata": {},
   "outputs": [],
   "source": [
    "#exporting the missing training reports to quality checks report \n",
    "merged_missing_training.to_excel(r\"C:\\Users\\Edison New\\Desktop\\HWG Q1 Reporting 2025\\Quality reports shared\\missing training reports.xlsx\", index=False)"
   ]
  },
  {
   "cell_type": "code",
   "execution_count": 47,
   "id": "b573525e",
   "metadata": {},
   "outputs": [],
   "source": [
    "# exporting clean HOR#3 for further analysis\n",
    "filepath=\"C:\\\\Users\\\\Edison New\\\\Desktop\\\\HWG Q1 Reporting 2025\\\\Datasetsets shared\\\\HOR#3 training clean.csv\"\n",
    "Clean_HOR=data_hor3[data_hor3['household_id'].isin(census['household_id'])]\n",
    "Clean_HOR.to_csv(filepath,index=False)"
   ]
  },
  {
   "cell_type": "code",
   "execution_count": 48,
   "id": "0920bd68",
   "metadata": {},
   "outputs": [],
   "source": [
    "# Importing and reading the leadership data\n",
    "champions=pd.read_csv(r\"C:\\\\Users\\\\Edison New\\\\Desktop\\\\HWG Q1 Reporting 2025\\\\Raw data sets from the app\\\\check2 hWG Q1 files\\\\final champions leadership.csv\")"
   ]
  },
  {
   "cell_type": "code",
   "execution_count": 49,
   "id": "1b42c19b",
   "metadata": {},
   "outputs": [],
   "source": [
    "# dropping duplicates in champions reports\n",
    "champions = champions.drop_duplicates(subset=['name','household_id'])"
   ]
  },
  {
   "cell_type": "code",
   "execution_count": 50,
   "id": "113eac27",
   "metadata": {},
   "outputs": [],
   "source": [
    "# dropping some columns in champions dataset\n",
    "columns = [\n",
    "    \"age\", \"gender\", \"telephone\", \"marital_status\", \"hh_relationship\", \"household_name\",\n",
    "    \"household\", \"date\",\n",
    "    \"household_gender\", \"household_age\", \"household_headship\", \"household_headship_full\", \n",
    "    \"household_contact\", \"household_marital_status\", \"household_latitude\", \"household_longitude\", \"date\",\n",
    "    \"guid\", \"region_name\", \"village_id\"\n",
    "]\n",
    "champions = champions.drop(columns=champions.columns[champions.columns.isin(columns)])"
   ]
  },
  {
   "cell_type": "code",
   "execution_count": 51,
   "id": "5d07d228",
   "metadata": {},
   "outputs": [],
   "source": [
    "\n",
    "\n",
    "# Exporting the clean champions list\n",
    "filepath = \"C:\\\\Users\\\\Edison New\\\\Desktop\\\\HWG Q1 Reporting 2025\\\\Final outputs\\\\clean champions list.csv\"\n",
    "champions.to_csv(filepath, index=False)"
   ]
  },
  {
   "cell_type": "code",
   "execution_count": 52,
   "id": "c7846261",
   "metadata": {},
   "outputs": [],
   "source": [
    "#importing list of expected champions per designs\n",
    "designed_champions =pd.read_csv(\"C:\\\\Users\\\\Edison New\\\\Desktop\\\\HWG Q1 Reporting 2025\\\\Raw data sets from the app\\\\check2 hWG Q1 files\\\\summarized champion.csv\")"
   ]
  },
  {
   "cell_type": "code",
   "execution_count": 53,
   "id": "aa72e634",
   "metadata": {},
   "outputs": [
    {
     "data": {
      "text/html": [
       "<div>\n",
       "<style scoped>\n",
       "    .dataframe tbody tr th:only-of-type {\n",
       "        vertical-align: middle;\n",
       "    }\n",
       "\n",
       "    .dataframe tbody tr th {\n",
       "        vertical-align: top;\n",
       "    }\n",
       "\n",
       "    .dataframe thead th {\n",
       "        text-align: right;\n",
       "    }\n",
       "</style>\n",
       "<table border=\"1\" class=\"dataframe\">\n",
       "  <thead>\n",
       "    <tr style=\"text-align: right;\">\n",
       "      <th></th>\n",
       "      <th>district</th>\n",
       "      <th>cluster</th>\n",
       "      <th>Village</th>\n",
       "      <th>champions</th>\n",
       "      <th>designed_champions</th>\n",
       "    </tr>\n",
       "  </thead>\n",
       "  <tbody>\n",
       "    <tr>\n",
       "      <th>0</th>\n",
       "      <td>Rakai</td>\n",
       "      <td>Kansensero</td>\n",
       "      <td>Kammengo</td>\n",
       "      <td>Village.Champion...Representatives</td>\n",
       "      <td>1</td>\n",
       "    </tr>\n",
       "    <tr>\n",
       "      <th>1</th>\n",
       "      <td>Rakai</td>\n",
       "      <td>Kansensero</td>\n",
       "      <td>Kammengo</td>\n",
       "      <td>Agriculture.Champions...Representatives</td>\n",
       "      <td>4</td>\n",
       "    </tr>\n",
       "    <tr>\n",
       "      <th>2</th>\n",
       "      <td>Rakai</td>\n",
       "      <td>Kansensero</td>\n",
       "      <td>Kammengo</td>\n",
       "      <td>Wash.Champions...Representatives</td>\n",
       "      <td>4</td>\n",
       "    </tr>\n",
       "    <tr>\n",
       "      <th>3</th>\n",
       "      <td>Rakai</td>\n",
       "      <td>Kansensero</td>\n",
       "      <td>Kammengo</td>\n",
       "      <td>Coffee.Champions...Representatives</td>\n",
       "      <td>4</td>\n",
       "    </tr>\n",
       "    <tr>\n",
       "      <th>4</th>\n",
       "      <td>Rakai</td>\n",
       "      <td>Kansensero</td>\n",
       "      <td>Kisimbanyiriri</td>\n",
       "      <td>Village.Champion...Representatives</td>\n",
       "      <td>1</td>\n",
       "    </tr>\n",
       "  </tbody>\n",
       "</table>\n",
       "</div>"
      ],
      "text/plain": [
       "  district     cluster         Village  \\\n",
       "0    Rakai  Kansensero        Kammengo   \n",
       "1    Rakai  Kansensero        Kammengo   \n",
       "2    Rakai  Kansensero        Kammengo   \n",
       "3    Rakai  Kansensero        Kammengo   \n",
       "4    Rakai  Kansensero  Kisimbanyiriri   \n",
       "\n",
       "                                 champions  designed_champions  \n",
       "0       Village.Champion...Representatives                   1  \n",
       "1  Agriculture.Champions...Representatives                   4  \n",
       "2         Wash.Champions...Representatives                   4  \n",
       "3       Coffee.Champions...Representatives                   4  \n",
       "4       Village.Champion...Representatives                   1  "
      ]
     },
     "execution_count": 53,
     "metadata": {},
     "output_type": "execute_result"
    }
   ],
   "source": [
    "#checking the data of the champions\n",
    "designed_champions.head()"
   ]
  },
  {
   "cell_type": "code",
   "execution_count": 54,
   "id": "cc67102a",
   "metadata": {},
   "outputs": [],
   "source": [
    "# renaming some columns in the designed champions dataset\n",
    "designed_champions.rename(columns={\n",
    "                                   'Village':'village_name',\n",
    "                                   'champions':'champion_type',\n",
    "                                   'designed_champions':'Total_champions',\n",
    "                                   'district':'district_name',\n",
    "                                   'cluster':'cluster_name'\n",
    "},inplace = True)"
   ]
  },
  {
   "cell_type": "code",
   "execution_count": 55,
   "id": "c0e53752",
   "metadata": {},
   "outputs": [
    {
     "name": "stderr",
     "output_type": "stream",
     "text": [
      "C:\\Users\\Edison New\\AppData\\Local\\Temp\\ipykernel_10236\\1278268575.py:2: FutureWarning: A value is trying to be set on a copy of a DataFrame or Series through chained assignment using an inplace method.\n",
      "The behavior will change in pandas 3.0. This inplace method will never work because the intermediate object on which we are setting values always behaves as a copy.\n",
      "\n",
      "For example, when doing 'df[col].method(value, inplace=True)', try using 'df.method({col: value}, inplace=True)' or df[col] = df[col].method(value) instead, to perform the operation inplace on the original object.\n",
      "\n",
      "\n",
      "  designed_champions['champion_type'].replace({'Village.Champion...Representatives':'village champion',\n"
     ]
    }
   ],
   "source": [
    "# replacing some rows in designs to match the names in the system reports\n",
    "designed_champions['champion_type'].replace({'Village.Champion...Representatives':'village champion',\n",
    "                                    'Agriculture.Champions...Representatives':'agric champion',\n",
    "                                    'Wash.Champions...Representatives':'wash champion',\n",
    "                                    'Coffee.Champions...Representatives':'coffee champion'\n",
    "                                    },inplace=True)\n"
   ]
  },
  {
   "cell_type": "code",
   "execution_count": 56,
   "id": "72e3cd17",
   "metadata": {},
   "outputs": [
    {
     "name": "stderr",
     "output_type": "stream",
     "text": [
      "C:\\Users\\Edison New\\AppData\\Local\\Temp\\ipykernel_10236\\3389179259.py:2: FutureWarning: A value is trying to be set on a copy of a DataFrame or Series through chained assignment using an inplace method.\n",
      "The behavior will change in pandas 3.0. This inplace method will never work because the intermediate object on which we are setting values always behaves as a copy.\n",
      "\n",
      "For example, when doing 'df[col].method(value, inplace=True)', try using 'df.method({col: value}, inplace=True)' or df[col] = df[col].method(value) instead, to perform the operation inplace on the original object.\n",
      "\n",
      "\n",
      "  designed_champions['cluster_name'].replace({'Kansensero':'Kasensero'\n"
     ]
    }
   ],
   "source": [
    "#replacing Kansensero to Kasensero to match that in the system names under cluster column\n",
    "designed_champions['cluster_name'].replace({'Kansensero':'Kasensero'\n",
    "                                    },inplace=True)"
   ]
  },
  {
   "cell_type": "code",
   "execution_count": 57,
   "id": "0faad58e",
   "metadata": {},
   "outputs": [],
   "source": [
    "# exporting clean file of the champions\n",
    "filepath=\"C:\\\\Users\\\\Edison New\\\\Desktop\\\\HWG Q1 Reporting 2025\\\\Datasetsets shared\\\\designed champions_clean.csv\"\n",
    "designed_champions.to_csv(filepath,index=False)"
   ]
  },
  {
   "cell_type": "code",
   "execution_count": 58,
   "id": "3bc7f87c",
   "metadata": {},
   "outputs": [],
   "source": [
    "# pivoting the champions\n",
    "champions_summary = champions.pivot_table(\n",
    "    index=['district_name', 'village_name','cluster_name', 'champion_type'],\n",
    "    values='household_id',\n",
    "    aggfunc='count'\n",
    ").rename(columns={'household_id': 'Total_champions'})\n",
    "champions_summary = champions_summary.reset_index()"
   ]
  },
  {
   "cell_type": "code",
   "execution_count": 59,
   "id": "fcad5ef4",
   "metadata": {},
   "outputs": [],
   "source": [
    "# matching the champions in both system vs designed champions\n",
    "champions_merged = designed_champions.merge(\n",
    "    champions_summary,\n",
    "    on=['district_name', 'cluster_name','village_name', 'champion_type'],\n",
    "    suffixes=('_designed', '_reported'),\n",
    "    how='outer'  \n",
    ")"
   ]
  },
  {
   "cell_type": "code",
   "execution_count": 60,
   "id": "cb45a6da",
   "metadata": {},
   "outputs": [
    {
     "ename": "PermissionError",
     "evalue": "[Errno 13] Permission denied: 'C:\\\\Users\\\\Edison New\\\\Desktop\\\\HWG Q1 Reporting 2025\\\\Final outputs\\\\champions_summary.csv'",
     "output_type": "error",
     "traceback": [
      "\u001b[31m---------------------------------------------------------------------------\u001b[39m",
      "\u001b[31mPermissionError\u001b[39m                           Traceback (most recent call last)",
      "\u001b[36mCell\u001b[39m\u001b[36m \u001b[39m\u001b[32mIn[60]\u001b[39m\u001b[32m, line 3\u001b[39m\n\u001b[32m      1\u001b[39m \u001b[38;5;66;03m#exporting the summary of champions\u001b[39;00m\n\u001b[32m      2\u001b[39m filepath =\u001b[33m\"\u001b[39m\u001b[33mC:\u001b[39m\u001b[38;5;130;01m\\\\\u001b[39;00m\u001b[33mUsers\u001b[39m\u001b[38;5;130;01m\\\\\u001b[39;00m\u001b[33mEdison New\u001b[39m\u001b[38;5;130;01m\\\\\u001b[39;00m\u001b[33mDesktop\u001b[39m\u001b[38;5;130;01m\\\\\u001b[39;00m\u001b[33mHWG Q1 Reporting 2025\u001b[39m\u001b[38;5;130;01m\\\\\u001b[39;00m\u001b[33mFinal outputs\u001b[39m\u001b[38;5;130;01m\\\\\u001b[39;00m\u001b[33mchampions_summary.csv\u001b[39m\u001b[33m\"\u001b[39m\n\u001b[32m----> \u001b[39m\u001b[32m3\u001b[39m \u001b[43mchampions_merged\u001b[49m\u001b[43m.\u001b[49m\u001b[43mto_csv\u001b[49m\u001b[43m(\u001b[49m\u001b[43mfilepath\u001b[49m\u001b[43m)\u001b[49m\n",
      "\u001b[36mFile \u001b[39m\u001b[32mc:\\Users\\Edison New\\AppData\\Local\\Programs\\Python\\Python312\\Lib\\site-packages\\pandas\\util\\_decorators.py:333\u001b[39m, in \u001b[36mdeprecate_nonkeyword_arguments.<locals>.decorate.<locals>.wrapper\u001b[39m\u001b[34m(*args, **kwargs)\u001b[39m\n\u001b[32m    327\u001b[39m \u001b[38;5;28;01mif\u001b[39;00m \u001b[38;5;28mlen\u001b[39m(args) > num_allow_args:\n\u001b[32m    328\u001b[39m     warnings.warn(\n\u001b[32m    329\u001b[39m         msg.format(arguments=_format_argument_list(allow_args)),\n\u001b[32m    330\u001b[39m         \u001b[38;5;167;01mFutureWarning\u001b[39;00m,\n\u001b[32m    331\u001b[39m         stacklevel=find_stack_level(),\n\u001b[32m    332\u001b[39m     )\n\u001b[32m--> \u001b[39m\u001b[32m333\u001b[39m \u001b[38;5;28;01mreturn\u001b[39;00m \u001b[43mfunc\u001b[49m\u001b[43m(\u001b[49m\u001b[43m*\u001b[49m\u001b[43margs\u001b[49m\u001b[43m,\u001b[49m\u001b[43m \u001b[49m\u001b[43m*\u001b[49m\u001b[43m*\u001b[49m\u001b[43mkwargs\u001b[49m\u001b[43m)\u001b[49m\n",
      "\u001b[36mFile \u001b[39m\u001b[32mc:\\Users\\Edison New\\AppData\\Local\\Programs\\Python\\Python312\\Lib\\site-packages\\pandas\\core\\generic.py:3967\u001b[39m, in \u001b[36mNDFrame.to_csv\u001b[39m\u001b[34m(self, path_or_buf, sep, na_rep, float_format, columns, header, index, index_label, mode, encoding, compression, quoting, quotechar, lineterminator, chunksize, date_format, doublequote, escapechar, decimal, errors, storage_options)\u001b[39m\n\u001b[32m   3956\u001b[39m df = \u001b[38;5;28mself\u001b[39m \u001b[38;5;28;01mif\u001b[39;00m \u001b[38;5;28misinstance\u001b[39m(\u001b[38;5;28mself\u001b[39m, ABCDataFrame) \u001b[38;5;28;01melse\u001b[39;00m \u001b[38;5;28mself\u001b[39m.to_frame()\n\u001b[32m   3958\u001b[39m formatter = DataFrameFormatter(\n\u001b[32m   3959\u001b[39m     frame=df,\n\u001b[32m   3960\u001b[39m     header=header,\n\u001b[32m   (...)\u001b[39m\u001b[32m   3964\u001b[39m     decimal=decimal,\n\u001b[32m   3965\u001b[39m )\n\u001b[32m-> \u001b[39m\u001b[32m3967\u001b[39m \u001b[38;5;28;01mreturn\u001b[39;00m \u001b[43mDataFrameRenderer\u001b[49m\u001b[43m(\u001b[49m\u001b[43mformatter\u001b[49m\u001b[43m)\u001b[49m\u001b[43m.\u001b[49m\u001b[43mto_csv\u001b[49m\u001b[43m(\u001b[49m\n\u001b[32m   3968\u001b[39m \u001b[43m    \u001b[49m\u001b[43mpath_or_buf\u001b[49m\u001b[43m,\u001b[49m\n\u001b[32m   3969\u001b[39m \u001b[43m    \u001b[49m\u001b[43mlineterminator\u001b[49m\u001b[43m=\u001b[49m\u001b[43mlineterminator\u001b[49m\u001b[43m,\u001b[49m\n\u001b[32m   3970\u001b[39m \u001b[43m    \u001b[49m\u001b[43msep\u001b[49m\u001b[43m=\u001b[49m\u001b[43msep\u001b[49m\u001b[43m,\u001b[49m\n\u001b[32m   3971\u001b[39m \u001b[43m    \u001b[49m\u001b[43mencoding\u001b[49m\u001b[43m=\u001b[49m\u001b[43mencoding\u001b[49m\u001b[43m,\u001b[49m\n\u001b[32m   3972\u001b[39m \u001b[43m    \u001b[49m\u001b[43merrors\u001b[49m\u001b[43m=\u001b[49m\u001b[43merrors\u001b[49m\u001b[43m,\u001b[49m\n\u001b[32m   3973\u001b[39m \u001b[43m    \u001b[49m\u001b[43mcompression\u001b[49m\u001b[43m=\u001b[49m\u001b[43mcompression\u001b[49m\u001b[43m,\u001b[49m\n\u001b[32m   3974\u001b[39m \u001b[43m    \u001b[49m\u001b[43mquoting\u001b[49m\u001b[43m=\u001b[49m\u001b[43mquoting\u001b[49m\u001b[43m,\u001b[49m\n\u001b[32m   3975\u001b[39m \u001b[43m    \u001b[49m\u001b[43mcolumns\u001b[49m\u001b[43m=\u001b[49m\u001b[43mcolumns\u001b[49m\u001b[43m,\u001b[49m\n\u001b[32m   3976\u001b[39m \u001b[43m    \u001b[49m\u001b[43mindex_label\u001b[49m\u001b[43m=\u001b[49m\u001b[43mindex_label\u001b[49m\u001b[43m,\u001b[49m\n\u001b[32m   3977\u001b[39m \u001b[43m    \u001b[49m\u001b[43mmode\u001b[49m\u001b[43m=\u001b[49m\u001b[43mmode\u001b[49m\u001b[43m,\u001b[49m\n\u001b[32m   3978\u001b[39m \u001b[43m    \u001b[49m\u001b[43mchunksize\u001b[49m\u001b[43m=\u001b[49m\u001b[43mchunksize\u001b[49m\u001b[43m,\u001b[49m\n\u001b[32m   3979\u001b[39m \u001b[43m    \u001b[49m\u001b[43mquotechar\u001b[49m\u001b[43m=\u001b[49m\u001b[43mquotechar\u001b[49m\u001b[43m,\u001b[49m\n\u001b[32m   3980\u001b[39m \u001b[43m    \u001b[49m\u001b[43mdate_format\u001b[49m\u001b[43m=\u001b[49m\u001b[43mdate_format\u001b[49m\u001b[43m,\u001b[49m\n\u001b[32m   3981\u001b[39m \u001b[43m    \u001b[49m\u001b[43mdoublequote\u001b[49m\u001b[43m=\u001b[49m\u001b[43mdoublequote\u001b[49m\u001b[43m,\u001b[49m\n\u001b[32m   3982\u001b[39m \u001b[43m    \u001b[49m\u001b[43mescapechar\u001b[49m\u001b[43m=\u001b[49m\u001b[43mescapechar\u001b[49m\u001b[43m,\u001b[49m\n\u001b[32m   3983\u001b[39m \u001b[43m    \u001b[49m\u001b[43mstorage_options\u001b[49m\u001b[43m=\u001b[49m\u001b[43mstorage_options\u001b[49m\u001b[43m,\u001b[49m\n\u001b[32m   3984\u001b[39m \u001b[43m\u001b[49m\u001b[43m)\u001b[49m\n",
      "\u001b[36mFile \u001b[39m\u001b[32mc:\\Users\\Edison New\\AppData\\Local\\Programs\\Python\\Python312\\Lib\\site-packages\\pandas\\io\\formats\\format.py:1014\u001b[39m, in \u001b[36mDataFrameRenderer.to_csv\u001b[39m\u001b[34m(self, path_or_buf, encoding, sep, columns, index_label, mode, compression, quoting, quotechar, lineterminator, chunksize, date_format, doublequote, escapechar, errors, storage_options)\u001b[39m\n\u001b[32m    993\u001b[39m     created_buffer = \u001b[38;5;28;01mFalse\u001b[39;00m\n\u001b[32m    995\u001b[39m csv_formatter = CSVFormatter(\n\u001b[32m    996\u001b[39m     path_or_buf=path_or_buf,\n\u001b[32m    997\u001b[39m     lineterminator=lineterminator,\n\u001b[32m   (...)\u001b[39m\u001b[32m   1012\u001b[39m     formatter=\u001b[38;5;28mself\u001b[39m.fmt,\n\u001b[32m   1013\u001b[39m )\n\u001b[32m-> \u001b[39m\u001b[32m1014\u001b[39m \u001b[43mcsv_formatter\u001b[49m\u001b[43m.\u001b[49m\u001b[43msave\u001b[49m\u001b[43m(\u001b[49m\u001b[43m)\u001b[49m\n\u001b[32m   1016\u001b[39m \u001b[38;5;28;01mif\u001b[39;00m created_buffer:\n\u001b[32m   1017\u001b[39m     \u001b[38;5;28;01massert\u001b[39;00m \u001b[38;5;28misinstance\u001b[39m(path_or_buf, StringIO)\n",
      "\u001b[36mFile \u001b[39m\u001b[32mc:\\Users\\Edison New\\AppData\\Local\\Programs\\Python\\Python312\\Lib\\site-packages\\pandas\\io\\formats\\csvs.py:251\u001b[39m, in \u001b[36mCSVFormatter.save\u001b[39m\u001b[34m(self)\u001b[39m\n\u001b[32m    247\u001b[39m \u001b[38;5;250m\u001b[39m\u001b[33;03m\"\"\"\u001b[39;00m\n\u001b[32m    248\u001b[39m \u001b[33;03mCreate the writer & save.\u001b[39;00m\n\u001b[32m    249\u001b[39m \u001b[33;03m\"\"\"\u001b[39;00m\n\u001b[32m    250\u001b[39m \u001b[38;5;66;03m# apply compression and byte/text conversion\u001b[39;00m\n\u001b[32m--> \u001b[39m\u001b[32m251\u001b[39m \u001b[38;5;28;01mwith\u001b[39;00m \u001b[43mget_handle\u001b[49m\u001b[43m(\u001b[49m\n\u001b[32m    252\u001b[39m \u001b[43m    \u001b[49m\u001b[38;5;28;43mself\u001b[39;49m\u001b[43m.\u001b[49m\u001b[43mfilepath_or_buffer\u001b[49m\u001b[43m,\u001b[49m\n\u001b[32m    253\u001b[39m \u001b[43m    \u001b[49m\u001b[38;5;28;43mself\u001b[39;49m\u001b[43m.\u001b[49m\u001b[43mmode\u001b[49m\u001b[43m,\u001b[49m\n\u001b[32m    254\u001b[39m \u001b[43m    \u001b[49m\u001b[43mencoding\u001b[49m\u001b[43m=\u001b[49m\u001b[38;5;28;43mself\u001b[39;49m\u001b[43m.\u001b[49m\u001b[43mencoding\u001b[49m\u001b[43m,\u001b[49m\n\u001b[32m    255\u001b[39m \u001b[43m    \u001b[49m\u001b[43merrors\u001b[49m\u001b[43m=\u001b[49m\u001b[38;5;28;43mself\u001b[39;49m\u001b[43m.\u001b[49m\u001b[43merrors\u001b[49m\u001b[43m,\u001b[49m\n\u001b[32m    256\u001b[39m \u001b[43m    \u001b[49m\u001b[43mcompression\u001b[49m\u001b[43m=\u001b[49m\u001b[38;5;28;43mself\u001b[39;49m\u001b[43m.\u001b[49m\u001b[43mcompression\u001b[49m\u001b[43m,\u001b[49m\n\u001b[32m    257\u001b[39m \u001b[43m    \u001b[49m\u001b[43mstorage_options\u001b[49m\u001b[43m=\u001b[49m\u001b[38;5;28;43mself\u001b[39;49m\u001b[43m.\u001b[49m\u001b[43mstorage_options\u001b[49m\u001b[43m,\u001b[49m\n\u001b[32m    258\u001b[39m \u001b[43m\u001b[49m\u001b[43m)\u001b[49m \u001b[38;5;28;01mas\u001b[39;00m handles:\n\u001b[32m    259\u001b[39m     \u001b[38;5;66;03m# Note: self.encoding is irrelevant here\u001b[39;00m\n\u001b[32m    260\u001b[39m     \u001b[38;5;28mself\u001b[39m.writer = csvlib.writer(\n\u001b[32m    261\u001b[39m         handles.handle,\n\u001b[32m    262\u001b[39m         lineterminator=\u001b[38;5;28mself\u001b[39m.lineterminator,\n\u001b[32m   (...)\u001b[39m\u001b[32m    267\u001b[39m         quotechar=\u001b[38;5;28mself\u001b[39m.quotechar,\n\u001b[32m    268\u001b[39m     )\n\u001b[32m    270\u001b[39m     \u001b[38;5;28mself\u001b[39m._save()\n",
      "\u001b[36mFile \u001b[39m\u001b[32mc:\\Users\\Edison New\\AppData\\Local\\Programs\\Python\\Python312\\Lib\\site-packages\\pandas\\io\\common.py:873\u001b[39m, in \u001b[36mget_handle\u001b[39m\u001b[34m(path_or_buf, mode, encoding, compression, memory_map, is_text, errors, storage_options)\u001b[39m\n\u001b[32m    868\u001b[39m \u001b[38;5;28;01melif\u001b[39;00m \u001b[38;5;28misinstance\u001b[39m(handle, \u001b[38;5;28mstr\u001b[39m):\n\u001b[32m    869\u001b[39m     \u001b[38;5;66;03m# Check whether the filename is to be opened in binary mode.\u001b[39;00m\n\u001b[32m    870\u001b[39m     \u001b[38;5;66;03m# Binary mode does not support 'encoding' and 'newline'.\u001b[39;00m\n\u001b[32m    871\u001b[39m     \u001b[38;5;28;01mif\u001b[39;00m ioargs.encoding \u001b[38;5;129;01mand\u001b[39;00m \u001b[33m\"\u001b[39m\u001b[33mb\u001b[39m\u001b[33m\"\u001b[39m \u001b[38;5;129;01mnot\u001b[39;00m \u001b[38;5;129;01min\u001b[39;00m ioargs.mode:\n\u001b[32m    872\u001b[39m         \u001b[38;5;66;03m# Encoding\u001b[39;00m\n\u001b[32m--> \u001b[39m\u001b[32m873\u001b[39m         handle = \u001b[38;5;28;43mopen\u001b[39;49m\u001b[43m(\u001b[49m\n\u001b[32m    874\u001b[39m \u001b[43m            \u001b[49m\u001b[43mhandle\u001b[49m\u001b[43m,\u001b[49m\n\u001b[32m    875\u001b[39m \u001b[43m            \u001b[49m\u001b[43mioargs\u001b[49m\u001b[43m.\u001b[49m\u001b[43mmode\u001b[49m\u001b[43m,\u001b[49m\n\u001b[32m    876\u001b[39m \u001b[43m            \u001b[49m\u001b[43mencoding\u001b[49m\u001b[43m=\u001b[49m\u001b[43mioargs\u001b[49m\u001b[43m.\u001b[49m\u001b[43mencoding\u001b[49m\u001b[43m,\u001b[49m\n\u001b[32m    877\u001b[39m \u001b[43m            \u001b[49m\u001b[43merrors\u001b[49m\u001b[43m=\u001b[49m\u001b[43merrors\u001b[49m\u001b[43m,\u001b[49m\n\u001b[32m    878\u001b[39m \u001b[43m            \u001b[49m\u001b[43mnewline\u001b[49m\u001b[43m=\u001b[49m\u001b[33;43m\"\u001b[39;49m\u001b[33;43m\"\u001b[39;49m\u001b[43m,\u001b[49m\n\u001b[32m    879\u001b[39m \u001b[43m        \u001b[49m\u001b[43m)\u001b[49m\n\u001b[32m    880\u001b[39m     \u001b[38;5;28;01melse\u001b[39;00m:\n\u001b[32m    881\u001b[39m         \u001b[38;5;66;03m# Binary mode\u001b[39;00m\n\u001b[32m    882\u001b[39m         handle = \u001b[38;5;28mopen\u001b[39m(handle, ioargs.mode)\n",
      "\u001b[31mPermissionError\u001b[39m: [Errno 13] Permission denied: 'C:\\\\Users\\\\Edison New\\\\Desktop\\\\HWG Q1 Reporting 2025\\\\Final outputs\\\\champions_summary.csv'"
     ]
    }
   ],
   "source": [
    "#exporting the summary of champions\n",
    "filepath =\"C:\\\\Users\\\\Edison New\\\\Desktop\\\\HWG Q1 Reporting 2025\\\\Final outputs\\\\champions_summary.csv\"\n",
    "champions_merged.to_csv(filepath)"
   ]
  },
  {
   "cell_type": "markdown",
   "id": "d03f527b",
   "metadata": {},
   "source": [
    "## Agriculuture tools analysis"
   ]
  },
  {
   "cell_type": "code",
   "execution_count": null,
   "id": "e4f0cfb0",
   "metadata": {},
   "outputs": [],
   "source": [
    "# list of expected tools to be distributed as per designs\n",
    "tool_list=['Hoes','Spade','Pick Axe','Forked Hoe','Secateurs','Gloves',\n",
    "           'Watering can','Jerrycans','Spray Pumps','Tarpaulin','Pruning saw',\n",
    "           'Filters','Mortar and Pestle','Plastic Drums']"
   ]
  },
  {
   "cell_type": "code",
   "execution_count": null,
   "id": "ce9ea621",
   "metadata": {},
   "outputs": [],
   "source": [
    "# importing the tool distribution reports from the system\n",
    "tools_system=pd.read_csv(r\"C:\\\\Users\\\\Edison New\\\\Desktop\\\\HWG Q1 Reporting 2025\\\\Raw data sets from the app\\\\check2 hWG Q1 files\\\\Agric tools last.csv\")"
   ]
  },
  {
   "cell_type": "code",
   "execution_count": null,
   "id": "c6fe56bf",
   "metadata": {},
   "outputs": [],
   "source": [
    "# replacing the knapsack sprayer to spray pumps in tool column\n",
    "tools_system['tool'].replace('Knapsack Sprayer','Spray Pumps',inplace=True)"
   ]
  },
  {
   "cell_type": "code",
   "execution_count": null,
   "id": "5bfc037e",
   "metadata": {},
   "outputs": [],
   "source": [
    "# Grouping the tools distribution data from system\n",
    "tools_distributed=tools_system.groupby(['district_name','cluster_name',\n",
    "                                        'village_name','tool'])['number_of_pieces'].sum()"
   ]
  },
  {
   "cell_type": "code",
   "execution_count": null,
   "id": "e1d27f7a",
   "metadata": {},
   "outputs": [],
   "source": [
    "# Resetting the data\n",
    "tools_distributed=tools_distributed.reset_index()"
   ]
  },
  {
   "cell_type": "code",
   "execution_count": null,
   "id": "d548e89e",
   "metadata": {},
   "outputs": [],
   "source": [
    "#exporting the clean tools distribution\n",
    "filepath=\"C:\\\\Users\\\\Edison New\\\\Desktop\\\\HWG Q1 Reporting 2025\\\\Quality reports shared\\\\tools distribution clean file.csv\"\n",
    "tools_distributed.to_csv(filepath,index=False)"
   ]
  },
  {
   "cell_type": "code",
   "execution_count": null,
   "id": "9664b7d9",
   "metadata": {},
   "outputs": [],
   "source": [
    "#creating an empty missing_tools column\n",
    "missing_tools = []"
   ]
  },
  {
   "cell_type": "code",
   "execution_count": null,
   "id": "bbbb5dca",
   "metadata": {},
   "outputs": [],
   "source": [
    "# checking whether villages lack any of the tools\n",
    "tools_villages = set(tools_system['village_name'].unique())\n",
    "for row in census_merged.itertuples(index=False):\n",
    "    if row.village not in tools_villages:\n",
    "        missing_tools.append({\n",
    "            \"district_name\": row.district,\n",
    "            \"cluster_name\": row.Cluster,\n",
    "            \"village_name\": row.village,\n",
    "            \"missing_tools\": \", \".join(tool_list)  # Ensure tool_list exists\n",
    "        })"
   ]
  },
  {
   "cell_type": "code",
   "execution_count": null,
   "id": "2130afc0",
   "metadata": {},
   "outputs": [],
   "source": [
    "# grouping the tool distributed at district cluster and village \n",
    "grouped=tools_distributed.groupby(['district_name','cluster_name','village_name'])"
   ]
  },
  {
   "cell_type": "code",
   "execution_count": null,
   "id": "2ca12c44",
   "metadata": {},
   "outputs": [],
   "source": [
    "#checking for missing tools and creating \n",
    "for (district, cluster,village), group in grouped:\n",
    "    tools_distributed1 = group['tool'].unique().tolist()  \n",
    "    missing = list(set(tool_list) - set(tools_distributed1)) \n",
    "    if missing:\n",
    "        missing_tools.append({\n",
    "            \"district_name\": district,\n",
    "            \"cluster_name\": cluster,\n",
    "            \"village_name\": village,\n",
    "            \"missing_tools\": \", \".join(missing)\n",
    "        })"
   ]
  },
  {
   "cell_type": "code",
   "execution_count": null,
   "id": "5db89f39",
   "metadata": {},
   "outputs": [],
   "source": [
    "missing_tools_df = pd.DataFrame(missing_tools)\n",
    "missing_tools_df.to_excel(r\"C:\\Users\\Edison New\\Desktop\\HWG Q1 Reporting 2025\\Quality reports shared\\missing tools.xlsx\", index=False)"
   ]
  },
  {
   "cell_type": "markdown",
   "id": "d3354893",
   "metadata": {},
   "source": [
    "###agriculture tools with designs check\n"
   ]
  },
  {
   "cell_type": "code",
   "execution_count": null,
   "id": "d432b685",
   "metadata": {},
   "outputs": [],
   "source": [
    "tools_designs=pd.read_excel(r'C:\\Users\\RTV-LPT1-233\\Desktop\\edison jupyter\\tools_seed.xlsx',sheet_name='Tools')"
   ]
  },
  {
   "cell_type": "code",
   "execution_count": null,
   "id": "d82737fd",
   "metadata": {},
   "outputs": [],
   "source": [
    "tools_designs.head()"
   ]
  },
  {
   "cell_type": "code",
   "execution_count": null,
   "id": "4653f417",
   "metadata": {},
   "outputs": [],
   "source": [
    "tools_designs.columns"
   ]
  },
  {
   "cell_type": "code",
   "execution_count": null,
   "id": "b125dc74",
   "metadata": {},
   "outputs": [],
   "source": [
    "tools_designs.rename(columns={'Secateurs (5 per Agric Champion/ Coffee Champion)':'Secateurs',\n",
    "                              'Gloves (2 per Agric Champion/ Coffee Champion)':'Gloves',\n",
    "                              'Watering Cans - ( 5 per Agric Champion)\\nNice House of Plastics':'Watering can',\n",
    "                              'Hoes - (2 per Agric Champion)\\nCock ':\"Hoes\",\n",
    "                              'Pick Axe - (1 per Agric Champion)\\nApex/Crocodile ':'Pick Axe',\n",
    "                              'Spades - (2 per Agric Champion)\\nMetalic spade & metalic handle':\"Spade\",\n",
    "                              \"Forked Hoes - (1 per Agric Champion)\\nCrocodile\":\"Forked Hoe\",\n",
    "                              \"Jerrycan - (2 per Agric Champion)\\nNice House of Plastics\":\"Jerrycans\",\n",
    "                              \"Sprayer for Agric - (2 per Agric Champion)\\nBomba Magoba 16 Ltrs\":\"Spray Pumps\",\n",
    "                              \"Tarpaulin - (A pack of 5 per Agric Champion)\\nBlue 6*6\":\"Tarpaulin\",\n",
    "                              \"Prunning saws\":\"Pruning saw\",\n",
    "                              \"division\":'district',\n",
    "                              \"plastic_tanks_120_ltrs_liquid_manure\":\"Plastic Drums\",\n",
    "                              \"sacks_liquid_manure\":\"Compound Sacks\",\n",
    "                              \"sisal_rope_liquid_manure\":\"Rope\",\n",
    "                              \"filter_liquid_manure\":\"Filters\",\n",
    "                              \"mortar_&_pestle_liquid_manure\":\"Mortar and Pestle\",\n",
    "                              'Villages ':\"village\"},inplace=True)"
   ]
  },
  {
   "cell_type": "code",
   "execution_count": null,
   "id": "fa8906d6",
   "metadata": {},
   "outputs": [],
   "source": [
    "tools_designs_melted=pd.melt(tools_designs,id_vars=['district','cluster','village'],\n",
    "                             value_vars=['Secateurs','Gloves','Watering can','Hoes','Pick Axe','Spade',\n",
    "                                         'Forked Hoe','Jerrycans','Spray Pumps','Tarpaulin','Pruning saw',\n",
    "                                         \"Plastic Drums\",\"Compound Sacks\",\"Rope\",\"Filters\",\"Mortar and Pestle\"],\n",
    "                             var_name='tool',value_name='number_of_pieces')"
   ]
  },
  {
   "cell_type": "code",
   "execution_count": null,
   "id": "e6cc7c77",
   "metadata": {},
   "outputs": [],
   "source": [
    "tools_designs_melted.head()"
   ]
  },
  {
   "cell_type": "code",
   "execution_count": null,
   "id": "817aaa23",
   "metadata": {},
   "outputs": [],
   "source": [
    "tools_designs_melted.rename(columns={'district':'district_name',\n",
    "                                     'cluster':'cluster_name',\n",
    "                                     'village':'village_name'},inplace=True)\n"
   ]
  },
  {
   "cell_type": "code",
   "execution_count": null,
   "id": "c5f464ed",
   "metadata": {},
   "outputs": [],
   "source": [
    "tools_designs_melted.head()\n"
   ]
  },
  {
   "cell_type": "code",
   "execution_count": null,
   "id": "10fc9f6c",
   "metadata": {},
   "outputs": [],
   "source": [
    "tools_designs_melted.to_csv(\"Tool list designed to be distributed.csv\")"
   ]
  },
  {
   "cell_type": "code",
   "execution_count": null,
   "id": "6ecf8915",
   "metadata": {},
   "outputs": [],
   "source": [
    "merged = tools_distributed.merge(\n",
    "    tools_designs_melted,\n",
    "    on=['district_name', 'cluster_name', 'village_name', 'tool'],\n",
    "    suffixes=('_system', '_designs'),\n",
    "    how='outer'\n",
    ")\n",
    "\n",
    "differences = merged[merged['number_of_pieces_system'] != merged['number_of_pieces_designs']][['district_name', 'cluster_name', 'village_name',\n",
    "                                                                                                'tool', 'number_of_pieces_system', \n",
    "                                                                                                'number_of_pieces_designs']]"
   ]
  },
  {
   "cell_type": "code",
   "execution_count": null,
   "id": "d1502f0b",
   "metadata": {},
   "outputs": [],
   "source": [
    "differences.to_excel(r\"C:\\Users\\Edison New\\Desktop\\HWG Q1 Reporting 2025\\Quality reports shared\\tools difference.xlsx\", index=False)\n"
   ]
  },
  {
   "cell_type": "code",
   "execution_count": null,
   "id": "17b56874",
   "metadata": {},
   "outputs": [],
   "source": [
    "# Removing personal identifiers from the trainings data\n",
    "columns_to_remove = ['guid','reporter','reporter_email','name',\n",
    "                     'gender','age','contact','marital_status','hours_to_complete',\n",
    "                     'officials','other_officials','challenges','other_challenges',\n",
    "                     'latitude','longitude', 'created_at']\n",
    "\n",
    "\n",
    "tools_system = tools_system.drop(columns=[col for col in columns_to_remove if col in tools_system.columns])"
   ]
  },
  {
   "cell_type": "code",
   "execution_count": null,
   "id": "7faf7f04",
   "metadata": {},
   "outputs": [],
   "source": [
    "filepath =\"C:\\\\Users\\\\Edison New\\\\Desktop\\\\HWG Q1 Reporting 2025\\\\Datasetsets shared\\\\tools distribution list clean.csv\"\n",
    "tools_system.to_csv(filepath, index=False)"
   ]
  },
  {
   "cell_type": "markdown",
   "id": "7ed1bc28",
   "metadata": {},
   "source": [
    "### nurserybed checks"
   ]
  },
  {
   "cell_type": "code",
   "execution_count": null,
   "id": "272d1106",
   "metadata": {},
   "outputs": [],
   "source": [
    "#importing the nursery bed data from the system\n",
    "data_system = pd.read_csv(r\"C:\\Users\\Edison New\\Desktop\\HWG Q1 Reporting 2025\\Raw data sets from the app\\check2 hWG Q1 files\\nurserybed seed distribution Check#3.csv\")"
   ]
  },
  {
   "cell_type": "code",
   "execution_count": null,
   "id": "b447d871",
   "metadata": {},
   "outputs": [],
   "source": [
    "#checking the household IDs in the nursery bed data if they are in the census data\n",
    "data_system=data_system[data_system['household_id'].isin(census_merged['household_id'])]"
   ]
  },
  {
   "cell_type": "code",
   "execution_count": null,
   "id": "8349d5eb",
   "metadata": {},
   "outputs": [],
   "source": [
    "#checking the data in the nursery bed data\n",
    "data_system.head()"
   ]
  },
  {
   "cell_type": "code",
   "execution_count": null,
   "id": "52981d40",
   "metadata": {},
   "outputs": [],
   "source": [
    "# changing the shape of the data through grouping data\n",
    "data_system_analysis=data_system.groupby(['district_name','cluster_name',\n",
    "                                          'village_name','variety'])['total_quantity'].sum().reset_index()"
   ]
  },
  {
   "cell_type": "code",
   "execution_count": null,
   "id": "4688eeb0",
   "metadata": {},
   "outputs": [],
   "source": [
    "# converting the variety column to upper case and stripping any leading or trailing spaces\n",
    "data_system_analysis['variety']=data_system_analysis['variety'].str.strip().str.upper()"
   ]
  },
  {
   "cell_type": "code",
   "execution_count": null,
   "id": "73538abb",
   "metadata": {},
   "outputs": [],
   "source": [
    "# importing the designed nursery bed data from the excel file\n",
    "data_nur_design=pd.read_excel(r'C:\\Users\\RTV-LPT1-233\\Desktop\\edison jupyter\\design_nurserybed.xlsx')"
   ]
  },
  {
   "cell_type": "code",
   "execution_count": null,
   "id": "99ddd75e",
   "metadata": {},
   "outputs": [],
   "source": [
    "# renaming the columns in the designed nursery bed data to match the system data\n",
    "data_nur_design.rename(columns={'division':'district_name',\n",
    "                                'cluster':'cluster_name',\n",
    "                                'village':'village_name',\n",
    "                                'amaranths_tins_nursery':'Amaranths',\n",
    "                                'tomatoes _tins_nursery':'Tomatoes',\n",
    "                                'black_nightshade_tins_nursery':'BLACK NIGHT SHADE',\n",
    "                                'purple_graffiti_eggplants_tins_nursery':'Purple Eggplants',\n",
    "                                'green_pepper_tins_nursery':'Green Pepper',\n",
    "                                'white_eggplants_tins_nursery':'White Eggplants',\n",
    "                                'cabbage_tins_nursery':'Cabbage',\n",
    "                                'nakati_nursery':'Nakati',\n",
    "                                'spinach_tin_nursery':'Spinach',\n",
    "                                'sukuma_wiki_tins_nursery':'Sukuma Wiki',\n",
    "                                'african_spider_plant_tins_nursery':'AFRICAN SPIDER PLANT'},inplace=True)\n"
   ]
  },
  {
   "cell_type": "code",
   "execution_count": null,
   "id": "b076ff70",
   "metadata": {},
   "outputs": [],
   "source": [
    "#exporting the designed nursery bed data summary to a csv file\n",
    "data_nur_design.to_csv('design nurserybed summary.csv')"
   ]
  },
  {
   "cell_type": "code",
   "execution_count": null,
   "id": "4c3cc06f",
   "metadata": {},
   "outputs": [],
   "source": [
    "# changing the shape of the designed nursery bed data through melting\n",
    "data_nur_design_melted=pd.melt(data_nur_design,id_vars=['district_name','cluster_name','village_name'],\n",
    "                               value_vars=['Amaranths','Tomatoes','BLACK NIGHT SHADE','Purple Eggplants',\n",
    "                                           'Green Pepper','White Eggplants','Cabbage','Nakati','Spinach','Sukuma Wiki','AFRICAN SPIDER PLANT'],\n",
    "                               var_name='variety',value_name='total_quantity')"
   ]
  },
  {
   "cell_type": "code",
   "execution_count": null,
   "id": "71e824fd",
   "metadata": {},
   "outputs": [],
   "source": [
    "# converting the variety column to upper case and stripping any leading or trailing spaces\n",
    "data_nur_design_melted['variety']=data_nur_design_melted['variety'].str.strip().str.upper()"
   ]
  },
  {
   "cell_type": "code",
   "execution_count": null,
   "id": "7514aec0",
   "metadata": {},
   "outputs": [],
   "source": [
    "# merging the system data with the designed nursery bed data\n",
    "merged_nurbed=data_system_analysis.merge(data_nur_design_melted,\n",
    "                                       on=['district_name','cluster_name','village_name','variety'],\n",
    "                                       suffixes=('_system','_designs'),\n",
    "                                       how='outer')\n",
    "#checking for differences in the merged data bewtween the system and the designed nursery bed data\n",
    "differences_nurbed = merged_nurbed[merged_nurbed['total_quantity_system'] != merged_nurbed['total_quantity_designs']][['district_name', 'cluster_name', 'village_name',\n",
    "                                                                                                'variety', 'total_quantity_system', \n",
    "                                                                                                'total_quantity_designs']]"
   ]
  },
  {
   "cell_type": "code",
   "execution_count": null,
   "id": "030fd664",
   "metadata": {},
   "outputs": [],
   "source": [
    "# exporting the differences in the merged data to an excel file\n",
    "differences_nurbed.to_excel(r\"C:\\Users\\Edison New\\Desktop\\HWG Q1 Reporting 2025\\Quality reports shared\\nurserybed difference.xlsx\", index=False)"
   ]
  },
  {
   "cell_type": "code",
   "execution_count": null,
   "id": "a2924cf9",
   "metadata": {},
   "outputs": [],
   "source": [
    "# removing personal identifiers from the nursery bed data\n",
    "columns_to_remove = ['guid','reporter','reporter_email','name',\n",
    "                     'gender', 'age', 'contact', 'marital_status',\n",
    "                     'hours_to_complete', 'officials', 'other_officials',\n",
    "                     'challenges', 'other_challenges', 'latitude', 'longitude',\n",
    "                     'created_at']\n",
    "data_system_clean = data_system.drop(columns=[col for col in columns_to_remove if col in data_system.columns])\n",
    "# exporting the clean nursery bed data to a csv file\n",
    "filepath = \"C:\\\\Users\\\\Edison New\\\\Desktop\\\\HWG Q1 Reporting 2025\\\\Datasetsets shared\\\\nursery bed distribution clean.csv\"\n",
    "data_system_clean.to_csv(filepath, index=False)"
   ]
  },
  {
   "cell_type": "markdown",
   "id": "1abe8435",
   "metadata": {},
   "source": [
    "# checking for seed return and seed disribution"
   ]
  },
  {
   "cell_type": "code",
   "execution_count": null,
   "id": "7d544edd",
   "metadata": {},
   "outputs": [],
   "source": [
    "# Importing the seed return data for 2024 cycle B\n",
    "seed_return=pd.read_csv(r\"C:\\\\Users\\\\Edison New\\\\Desktop\\\\HWG Q1 Reporting 2025\\\\Raw data sets from the app\\\\check2 hWG Q1 files\\\\seed return check#13.csv\")"
   ]
  },
  {
   "cell_type": "code",
   "execution_count": null,
   "id": "59328acf",
   "metadata": {},
   "outputs": [],
   "source": [
    "#Removing duplicates in the seed return data\n",
    "seed_return = seed_return.drop_duplicates(subset=['household_id','seed'])"
   ]
  },
  {
   "cell_type": "code",
   "execution_count": null,
   "id": "ba3ea1f9",
   "metadata": {},
   "outputs": [],
   "source": [
    "#Converting the household_id to uppercase and stripping any leading or trailing spaces\n",
    "seed_return['household_id']=seed_return['household_id'].str.strip().str.upper()"
   ]
  },
  {
   "cell_type": "code",
   "execution_count": null,
   "id": "46140abd",
   "metadata": {},
   "outputs": [],
   "source": [
    "# Renaming the quantity column in seed return data to quantity_returned for clarity\n",
    "seed_return.rename(columns={'quantity':'quantity_returned'},inplace=True)"
   ]
  },
  {
   "cell_type": "code",
   "execution_count": null,
   "id": "55cfbdec",
   "metadata": {},
   "outputs": [],
   "source": [
    "# summarizing the seed return data by district, village, and seed type using pivot_table\n",
    "seed_return1=seed_return.pivot_table(index=['district_name','seed'],\n",
    "                        values='quantity_returned',\n",
    "                        aggfunc='sum').reset_index()\n",
    "seed_return1"
   ]
  },
  {
   "cell_type": "code",
   "execution_count": null,
   "id": "5724c41c",
   "metadata": {},
   "outputs": [],
   "source": [
    "# importing and reading the distribution list 2024 for cycle B\n",
    "seed_dist_cycelB=pd.read_excel(r\"C:\\Users\\RTV-LPT1-233\\Desktop\\edison jupyter\\distributionlist.xlsx\")"
   ]
  },
  {
   "cell_type": "code",
   "execution_count": null,
   "id": "7fcda115",
   "metadata": {},
   "outputs": [],
   "source": [
    "# removing Onions from the seed distribution data since they were not meant to be returned\n",
    "seed_dist_cycelB=seed_dist_cycelB[seed_dist_cycelB['seed']!='Onions']"
   ]
  },
  {
   "cell_type": "code",
   "execution_count": null,
   "id": "f01057a7",
   "metadata": {},
   "outputs": [],
   "source": [
    "# Converting the household_id to uppercase and stripping any leading or trailing spaces in seed distribution data\n",
    "seed_dist_cycelB['household_id']=seed_dist_cycelB['household_id'].str.strip().str.upper()\n"
   ]
  },
  {
   "cell_type": "code",
   "execution_count": null,
   "id": "4b887ff0",
   "metadata": {},
   "outputs": [],
   "source": [
    "# Renaming the quantity column in seed distribution data to quantity_distributed for clarity\n",
    "seed_dist_cycelB.rename(columns={'quantity_per_household':'quantity_distributed'},inplace=True)"
   ]
  },
  {
   "cell_type": "code",
   "execution_count": null,
   "id": "2a18f26d",
   "metadata": {},
   "outputs": [],
   "source": [
    "# Perform the pivot operation for seed distribution data by district, village, and seed type\n",
    "seed_dist_cycelB1=seed_dist_cycelB.pivot_table(index=['district_name','seed'],\n",
    "                        values='quantity_distributed',\n",
    "                        aggfunc='sum').reset_index()\n"
   ]
  },
  {
   "cell_type": "code",
   "execution_count": null,
   "id": "c3ac7f11",
   "metadata": {},
   "outputs": [],
   "source": [
    "# merge the summarized pivot tables of seed return and seed distribution for 2024 cycle B\n",
    "merged_seed2 = seed_return1.merge(\n",
    "    seed_dist_cycelB1,\n",
    "    on=['district_name', 'seed'],\n",
    "    suffixes=('_returned', '_distributed'),\n",
    "    how='outer'\n",
    ")\n",
    "merged_seed2['percentage_returned'] = (merged_seed2['quantity_returned'] / merged_seed2['quantity_distributed']) "
   ]
  },
  {
   "cell_type": "code",
   "execution_count": null,
   "id": "ce62c754",
   "metadata": {},
   "outputs": [],
   "source": [
    "# exporting the summary of seed return and distribution for 2024 cycle B\n",
    "filepath=\"C:\\\\Users\\\\Edison New\\\\Desktop\\\\HWG Q1 Reporting 2025\\\\Final outputs\\\\seed return and distribution summary.csv\"\n",
    "merged_seed2.to_csv(filepath,index=False)\n",
    "# Exporting the clean seed return data"
   ]
  },
  {
   "cell_type": "code",
   "execution_count": null,
   "id": "03bbc226",
   "metadata": {},
   "outputs": [],
   "source": [
    "# comparsion of seed return and distribution for 2024 cycle B at household level through merging data\n",
    "merged_seed_return=seed_dist_cycelB.merge(seed_return,\n",
    "                                            on=['district_name','cluster_name','village_name','household_id','seed'],\n",
    "                                            suffixes=('_distributed','_returned'),\n",
    "                                            how='outer')\n",
    "#Returning the households that have different quantities of seed distributed and returned\n",
    "differences_seed_analysis=merged_seed_return[merged_seed_return['quantity_distributed']!=merged_seed_return['quantity_returned']][['district_name','cluster_name','village_name',\n",
    "                                                                                                                                   'household_id','seed', \n",
    "                                                                                                                                    'quantity_distributed','quantity_returned']]"
   ]
  },
  {
   "cell_type": "code",
   "execution_count": null,
   "id": "4e02a496",
   "metadata": {},
   "outputs": [],
   "source": [
    "#Exporting the seed differences to excel file for further analysis\n",
    "differences_seed_analysis.to_excel(r\"C:\\Users\\Edison New\\Desktop\\HWG Q1 Reporting 2025\\Quality reports shared\\seed return analysis24.xlsx\", index=False)"
   ]
  },
  {
   "cell_type": "code",
   "execution_count": null,
   "id": "050133d3",
   "metadata": {},
   "outputs": [],
   "source": [
    "# removing personal identifiers from the seed return data\n",
    "columns_to_remove = ['guid','reporter','reporter_email','name','gender', 'age', 'contact', 'marital_status',\n",
    "                    'hours_to_complete', 'officials', 'other_officials',\n",
    "                    'challenges', 'other_challenges', 'latitude', 'longitude',\n",
    "                    'created_at']\n",
    "seed_return_clean = seed_return.drop(columns=[col for col in columns_to_remove if col in seed_return.columns])\n",
    "# exporting the clean seed return data to a csv file\n",
    "filepath = \"C:\\\\Users\\\\Edison New\\\\Desktop\\\\HWG Q1 Reporting 2025\\\\Datasetsets shared\\\\seed return clean.csv\"\n",
    "seed_return_clean.to_csv(filepath, index=False)"
   ]
  },
  {
   "cell_type": "markdown",
   "id": "3ec282da",
   "metadata": {},
   "source": [
    "# seed distribution 2025 cycle A"
   ]
  },
  {
   "cell_type": "code",
   "execution_count": null,
   "id": "50970efc",
   "metadata": {},
   "outputs": [],
   "source": [
    "# Importing the seed distribution data for 2025 cycle A\n",
    "data_distribution=pd.read_csv(r\"C:\\\\Users\\\\Edison New\\\\Desktop\\\\HWG Q1 Reporting 2025\\\\Raw data sets from the app\\\\check2 hWG Q1 files\\\\Household Seed Reports check#14.csv\")"
   ]
  },
  {
   "cell_type": "code",
   "execution_count": null,
   "id": "0f1756e0",
   "metadata": {},
   "outputs": [],
   "source": [
    "#importing the seed distribution data for 2025 cycle A projections of designs\n",
    "design_hh_seed_df=pd.read_excel(r\"C:\\Users\\Edison New\\Desktop\\HWG Q1 Reporting 2025\\Raw data sets from the app\\check2 hWG Q1 files\\seed designed to be distributed at HH level.xlsx\")"
   ]
  },
  {
   "cell_type": "code",
   "execution_count": null,
   "id": "5bff1c67",
   "metadata": {},
   "outputs": [],
   "source": [
    "# Removing duplicates by seed type and household_id\n",
    "data_distribution = data_distribution.drop_duplicates(subset=['household_id','seed'])"
   ]
  },
  {
   "cell_type": "code",
   "execution_count": null,
   "id": "874084da",
   "metadata": {},
   "outputs": [],
   "source": [
    "#Getting the unique clusters within 2025 cycle A in the seed distribtion data\n",
    "Cluster=data_distribution['cluster_name'].unique()"
   ]
  },
  {
   "cell_type": "code",
   "execution_count": null,
   "id": "37df491e",
   "metadata": {},
   "outputs": [],
   "source": [
    "#Getting the unique seed that were reported in the seed distribution data\n",
    "seed=data_distribution['seed'].unique()"
   ]
  },
  {
   "cell_type": "code",
   "execution_count": null,
   "id": "b2f7857f",
   "metadata": {},
   "outputs": [],
   "source": [
    "# Creating function to check the seed distribution data against the design data\n",
    "def seed_check(data):\n",
    "    data['check'] = 'Pass'  # Initialize the 'check' column\n",
    "    if data['seed'] == \"Beans\":\n",
    "        if ((data['cluster_name'] in ['Nyakacwamba', 'Bujumiro'] and data['quantity_per_household']!=4) or\n",
    "            (data['cluster_name'] == 'Nganiko' and data['quantity_per_household']!=3) or\n",
    "            (data['cluster_name'] in ['Kyamakanaga', 'Kanoni', 'Kasensero'] and data['quantity_per_household']!=5)):\n",
    "            data['check'] = 'Fail'\n",
    "    elif data['seed'] == \"Maize\" and data['district_name'] == \"Kitagwenda\":\n",
    "        if data['quantity_per_household']!=3:\n",
    "            data['check'] = 'Fail'\n",
    "    elif data['seed'] == \"Irish Potatoes\":\n",
    "        if ((data['district_name'] == \"Rakai\" and data['quantity_per_household']!=0.4) or\n",
    "            (data['district_name'] == \"Kitagwenda\" and data['quantity_per_household']!=0.25)):\n",
    "            data['check'] = 'Fail'\n",
    "    elif data['seed']=='Onions - Local':\n",
    "        if data['quantity_per_household']!=1:\n",
    "            data['check'] = 'Fail'\n",
    "    return data"
   ]
  },
  {
   "cell_type": "code",
   "execution_count": null,
   "id": "e5beea04",
   "metadata": {},
   "outputs": [],
   "source": [
    "#applying the seed_check function to the data_distribution dataframe\n",
    "seed_system = data_distribution.apply(seed_check, axis=1)"
   ]
  },
  {
   "cell_type": "code",
   "execution_count": null,
   "id": "a607d33b",
   "metadata": {},
   "outputs": [],
   "source": [
    "# Generating the function to pick HHs that are in the census data that missed seed\n",
    "def HH_missed_seed(data, census_2025):\n",
    "    # Identify households in the distribution list\n",
    "    households_in_data = set(data['household_id'])\n",
    "\n",
    "    # Beans: Households that DID NOT receive beans\n",
    "    beans_missed = census_2025[~census_2025['household_id'].isin(data[data['seed'] == 'Beans']['household_id'])][['household_id']].copy()\n",
    "    beans_missed['seed'] = 'Beans'\n",
    "\n",
    "    # Maize: Households in Kitagwenda that DID NOT receive maize\n",
    "    maize_missed = census_2025[(census_2025['district'] == 'Kitagwenda') & \n",
    "                               ~census_2025['household_id'].isin(data[data['seed'] == 'Maize']['household_id'])][['household_id']].copy()\n",
    "    maize_missed['seed'] = 'Maize'\n",
    "\n",
    "    # Irish Potatoes: Households that DID NOT receive Irish Potatoes\n",
    "    irish_missed = census_2025[~census_2025['household_id'].isin(data[data['seed'] == 'Irish Potatoes']['household_id'])][['household_id']].copy()\n",
    "    irish_missed['seed'] = 'Irish Potatoes'\n",
    "    onion_missed = census_2025[~census_2025['household_id'].isin(data[data['seed'] == 'Onions - Local']['household_id'])][['household_id']].copy()\n",
    "    onion_missed['seed'] = 'Onions - Local'\n",
    "\n",
    "    # Combine the missing seed records\n",
    "    df = pd.concat([beans_missed, maize_missed, irish_missed,onion_missed], ignore_index=True)\n",
    "\n",
    "    # Merge with census_2025 to get additional details\n",
    "    df = df.merge(census_2025[['household_id', 'district', 'Cluster', 'village', 'Cycle']], \n",
    "                  on='household_id', how='left')\n",
    "\n",
    "    return df\n"
   ]
  },
  {
   "cell_type": "code",
   "execution_count": null,
   "id": "49209813",
   "metadata": {},
   "outputs": [],
   "source": [
    "#Applying the function to get the households that missed seed distribution\n",
    "data_missed=HH_missed_seed(data_distribution, census_2025)"
   ]
  },
  {
   "cell_type": "code",
   "execution_count": null,
   "id": "1603f813",
   "metadata": {},
   "outputs": [],
   "source": [
    "#exporting the missed seed data to a csv file\n",
    "filepath=\"C:\\\\Users\\\\Edison New\\\\Desktop\\\\HWG Q1 Reporting 2025\\\\Quality reports shared\\\\HH missed seed 2025.csv\"\n",
    "data_missed.to_csv(filepath,index=False)"
   ]
  },
  {
   "cell_type": "code",
   "execution_count": null,
   "id": "2e06c2e4",
   "metadata": {},
   "outputs": [],
   "source": [
    "#exporting the seed system check data to a csv file for those reports with seed differences\n",
    "filepath=\"C:\\\\Users\\\\Edison New\\\\Desktop\\\\HWG Q1 Reporting 2025\\\\Quality reports shared\\\\seed_system_check.csv\"\n",
    "seed_system.to_csv(filepath,index=False)  "
   ]
  },
  {
   "cell_type": "code",
   "execution_count": null,
   "id": "7d1de061",
   "metadata": {},
   "outputs": [],
   "source": [
    "# general check at top line level\n",
    "design_hh_seed_df.head()"
   ]
  },
  {
   "cell_type": "code",
   "execution_count": null,
   "id": "9946fe7a",
   "metadata": {},
   "outputs": [],
   "source": [
    "# melting the design data for seed distribution at household level through reshapping\n",
    "summary_analyis_design=design_hh_seed_df.melt(value_vars=['beans_kgs_hh_seed','maize_kgs_hh_seed','irish_potatoes_bags_hh_seed','Onions - Local'],\n",
    "                       value_name=\"Total quantity\",\n",
    "                       var_name=\"seed\",\n",
    "                       id_vars=['division','cluster','village','cohort','cycle'])"
   ]
  },
  {
   "cell_type": "code",
   "execution_count": null,
   "id": "46afc84b",
   "metadata": {},
   "outputs": [],
   "source": [
    "# renaming the columns for the melted design data\n",
    "summary_analyis_design.rename(columns={'division':'district_name',\n",
    "                                       'cluster':'cluster_name',\n",
    "                                       'village':'village_name',\n",
    "                                       },inplace=True)"
   ]
  },
  {
   "cell_type": "code",
   "execution_count": null,
   "id": "2c3609a5",
   "metadata": {},
   "outputs": [],
   "source": [
    "# replacing 1 in cycle column with A\n",
    "summary_analyis_design['cycle'].replace(1,\"A\",inplace=True)"
   ]
  },
  {
   "cell_type": "code",
   "execution_count": null,
   "id": "3e54743a",
   "metadata": {},
   "outputs": [],
   "source": [
    "# replacing the seed names with the actual seed names in the seed column\n",
    "summary_analyis_design['seed'].replace({'beans_kgs_hh_seed':'Beans',\n",
    "                                        \"irish_potatoes_bags_hh_seed\":\"Irish Potatoes\",\n",
    "                                        'maize_kgs_hh_seed':\"Maize\"},inplace=True)"
   ]
  },
  {
   "cell_type": "code",
   "execution_count": null,
   "id": "37d28fc9",
   "metadata": {},
   "outputs": [],
   "source": [
    "# Looking at the summary of the design data for seed distribution at household level \n",
    "summary_analyis_design"
   ]
  },
  {
   "cell_type": "code",
   "execution_count": null,
   "id": "4d26511f",
   "metadata": {},
   "outputs": [],
   "source": [
    "summary_analyis_design['seed'].unique()"
   ]
  },
  {
   "cell_type": "code",
   "execution_count": null,
   "id": "948fc552",
   "metadata": {},
   "outputs": [],
   "source": [
    "# summarizing the system data for seed distribution at household level through pivot table\n",
    "summary_analyis_imp= data_distribution.pivot_table(index=['district_name', 'cluster_name', 'village_name',\n",
    "       'cohort', 'cycle','seed'],values=['quantity_per_household'],aggfunc='sum')"
   ]
  },
  {
   "cell_type": "code",
   "execution_count": null,
   "id": "09331146",
   "metadata": {},
   "outputs": [],
   "source": [
    "# resetting the index of the summarized data for seed distribution at household level\n",
    "summary_analyis_imp=summary_analyis_imp.reset_index()"
   ]
  },
  {
   "cell_type": "code",
   "execution_count": null,
   "id": "4f3d5775",
   "metadata": {},
   "outputs": [],
   "source": [
    "# Renaming quantity_per_household to Total quantity for clarity\n",
    "summary_analyis_imp.rename(columns={\"quantity_per_household\":\"Total quantity\"},inplace=True)"
   ]
  },
  {
   "cell_type": "code",
   "execution_count": null,
   "id": "59f32823",
   "metadata": {},
   "outputs": [],
   "source": [
    "# merging the design data and the system data for seed distribution at village level\n",
    "seed_dist_merg=summary_analyis_design.merge(summary_analyis_imp,on=['district_name', 'cluster_name', 'village_name', 'cohort', 'cycle',\n",
    "       'seed'],\n",
    "       suffixes=('_design','_imp'),\n",
    "       how='outer')"
   ]
  },
  {
   "cell_type": "code",
   "execution_count": null,
   "id": "f4a43245",
   "metadata": {},
   "outputs": [],
   "source": [
    "seed_dist_merg"
   ]
  },
  {
   "cell_type": "code",
   "execution_count": null,
   "id": "11e22bf2",
   "metadata": {},
   "outputs": [],
   "source": [
    "#exporting summary of the seed distribution and designed seed distribution at Village level\n",
    "seed_dist_merg.to_excel(r'C:\\Users\\Edison New\\Desktop\\HWG Q1 Reporting 2025\\Quality reports shared\\seed distribution.xlsx')"
   ]
  },
  {
   "cell_type": "code",
   "execution_count": null,
   "id": "d468f564",
   "metadata": {},
   "outputs": [],
   "source": [
    "# removing personal identifiers from the seed distribution data for 2025 cycle A\n",
    "columns_to_remove = ['guid','reporter','reporter_email','name','gender', 'age','contact','marital_status',\n",
    "                      'hours_to_complete', 'officials', 'other_officials',\n",
    "                      'challenges', 'other_challenges', 'latitude', 'longitude',\n",
    "               'created_at']\n",
    "data_distribution = data_distribution.drop(columns=[col for col in columns_to_remove if col in data_distribution.columns])\n",
    "# Exporting the clean seed distribution data for 2025 cycle A\n",
    "filepath = \"C:\\\\Users\\\\Edison New\\\\Desktop\\\\HWG Q1 Reporting 2025\\\\Datasetsets shared\\\\seed distribution clean.csv\"\n",
    "data_distribution.to_csv(filepath, index=False)"
   ]
  }
 ],
 "metadata": {
  "kernelspec": {
   "display_name": "Python 3",
   "language": "python",
   "name": "python3"
  },
  "language_info": {
   "codemirror_mode": {
    "name": "ipython",
    "version": 3
   },
   "file_extension": ".py",
   "mimetype": "text/x-python",
   "name": "python",
   "nbconvert_exporter": "python",
   "pygments_lexer": "ipython3",
   "version": "3.12.4"
  }
 },
 "nbformat": 4,
 "nbformat_minor": 5
}
