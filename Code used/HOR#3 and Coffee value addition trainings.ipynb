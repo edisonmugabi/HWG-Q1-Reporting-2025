{
 "cells": [
  {
   "cell_type": "code",
   "execution_count": 1,
   "metadata": {},
   "outputs": [],
   "source": [
    "#importing dependencies\n",
    "import pandas as pd\n",
    "import numpy as np"
   ]
  },
  {
   "cell_type": "markdown",
   "metadata": {},
   "source": [
    "Analysis on HOR#3 and Coffee value addition training"
   ]
  },
  {
   "cell_type": "code",
   "execution_count": 2,
   "metadata": {},
   "outputs": [],
   "source": [
    "# importing the data files for HOR#3 from the app downloads\n",
    "data_hor3=pd.read_csv(r\"C:\\\\Users\\\\Edison New\\\\Desktop\\\\HWG Q1 Reporting 2025\\\\Datasetsets shared\\\\HOR#3 training clean.csv\")"
   ]
  },
  {
   "cell_type": "code",
   "execution_count": 3,
   "metadata": {},
   "outputs": [],
   "source": [
    "#pivoting the HOR data \n",
    "HOR3_analysis=data_hor3.pivot_table(index=['district_name','cohort', 'cycle','type'],values=['household_id'],aggfunc=\"count\")"
   ]
  },
  {
   "cell_type": "code",
   "execution_count": 4,
   "metadata": {},
   "outputs": [],
   "source": [
    "# resetting the index to make it easier to work with\n",
    "HOR3_analysis=HOR3_analysis.reset_index()"
   ]
  },
  {
   "cell_type": "code",
   "execution_count": 5,
   "metadata": {},
   "outputs": [],
   "source": [
    "# Renaming the columns for clarity household_id to No_of_HH_attended_training\n",
    "HOR3_analysis.rename(columns={\"household_id\":\"No_of_HH_attended_training\"},inplace=True)"
   ]
  },
  {
   "cell_type": "code",
   "execution_count": 6,
   "metadata": {},
   "outputs": [],
   "source": [
    "# Adding a new column for the total population based on census data 2024 cycle B\n",
    "HOR3_analysis['Total_population']=np.where(HOR3_analysis['district_name']==\"Rakai\",4906,\n",
    "                                           np.where(HOR3_analysis['district_name']==\"Kitagwenda\",2057,np.nan))"
   ]
  },
  {
   "cell_type": "code",
   "execution_count": 7,
   "metadata": {},
   "outputs": [],
   "source": [
    "#creating a new column for the percentage of attendance of trainings\n",
    "HOR3_analysis['percentage_attendance']=HOR3_analysis[\"No_of_HH_attended_training\"]/HOR3_analysis['Total_population']"
   ]
  },
  {
   "cell_type": "code",
   "execution_count": 8,
   "metadata": {},
   "outputs": [
    {
     "data": {
      "text/html": [
       "<div>\n",
       "<style scoped>\n",
       "    .dataframe tbody tr th:only-of-type {\n",
       "        vertical-align: middle;\n",
       "    }\n",
       "\n",
       "    .dataframe tbody tr th {\n",
       "        vertical-align: top;\n",
       "    }\n",
       "\n",
       "    .dataframe thead th {\n",
       "        text-align: right;\n",
       "    }\n",
       "</style>\n",
       "<table border=\"1\" class=\"dataframe\">\n",
       "  <thead>\n",
       "    <tr style=\"text-align: right;\">\n",
       "      <th></th>\n",
       "      <th>district_name</th>\n",
       "      <th>cohort</th>\n",
       "      <th>cycle</th>\n",
       "      <th>type</th>\n",
       "      <th>No_of_HH_attended_training</th>\n",
       "      <th>Total_population</th>\n",
       "      <th>percentage_attendance</th>\n",
       "    </tr>\n",
       "  </thead>\n",
       "  <tbody>\n",
       "    <tr>\n",
       "      <th>0</th>\n",
       "      <td>Kitagwenda</td>\n",
       "      <td>2024</td>\n",
       "      <td>B</td>\n",
       "      <td>HOR 3</td>\n",
       "      <td>1957</td>\n",
       "      <td>2057.0</td>\n",
       "      <td>0.951386</td>\n",
       "    </tr>\n",
       "    <tr>\n",
       "      <th>1</th>\n",
       "      <td>Rakai</td>\n",
       "      <td>2024</td>\n",
       "      <td>B</td>\n",
       "      <td>HOR 3</td>\n",
       "      <td>4608</td>\n",
       "      <td>4906.0</td>\n",
       "      <td>0.939258</td>\n",
       "    </tr>\n",
       "  </tbody>\n",
       "</table>\n",
       "</div>"
      ],
      "text/plain": [
       "  district_name  cohort cycle   type  No_of_HH_attended_training  \\\n",
       "0    Kitagwenda    2024     B  HOR 3                        1957   \n",
       "1         Rakai    2024     B  HOR 3                        4608   \n",
       "\n",
       "   Total_population  percentage_attendance  \n",
       "0            2057.0               0.951386  \n",
       "1            4906.0               0.939258  "
      ]
     },
     "execution_count": 8,
     "metadata": {},
     "output_type": "execute_result"
    }
   ],
   "source": [
    "# having a look at the data for HOR3 summaries\n",
    "HOR3_analysis"
   ]
  },
  {
   "cell_type": "markdown",
   "metadata": {},
   "source": [
    " checking for coffe value addition"
   ]
  },
  {
   "cell_type": "code",
   "execution_count": 9,
   "metadata": {},
   "outputs": [
    {
     "data": {
      "text/plain": [
       "(1219, 50)"
      ]
     },
     "execution_count": 9,
     "metadata": {},
     "output_type": "execute_result"
    }
   ],
   "source": [
    "# importing and reading  the value addition data for coffee for 2024 cycle A\n",
    "data_coffee_clean=pd.read_csv(r\"C:\\\\Users\\\\Edison New\\\\Desktop\\\\HWG Q1 Reporting 2025\\\\Datasetsets shared\\\\coffee value addition training clean.csv\")\n",
    "data_coffee_clean.shape"
   ]
  },
  {
   "cell_type": "code",
   "execution_count": 10,
   "metadata": {},
   "outputs": [],
   "source": [
    "# pivoting the coffee value addition data\n",
    "coffee_value_addition_analysis=data_coffee_clean.pivot_table(index=['district_name','cohort', 'cycle','type'],values=['household_id'],aggfunc=\"count\")"
   ]
  },
  {
   "cell_type": "code",
   "execution_count": 11,
   "metadata": {},
   "outputs": [],
   "source": [
    "# pivoting the coffee value addition data for 2024 cycle A\n",
    "coffee_value_addition_analysis=coffee_value_addition_analysis.reset_index()"
   ]
  },
  {
   "cell_type": "code",
   "execution_count": 12,
   "metadata": {},
   "outputs": [],
   "source": [
    "# Renaming the columns for clarity household_id to No_of_HH_attended_training\n",
    "coffee_value_addition_analysis.rename(columns={\"household_id\":\"No_of_HH_attended_training\"},inplace=True)"
   ]
  },
  {
   "cell_type": "code",
   "execution_count": 13,
   "metadata": {},
   "outputs": [],
   "source": [
    "# Adding a new column for the total population based on census data 2024 cycle A\n",
    "coffee_value_addition_analysis['Total_population']=1346"
   ]
  },
  {
   "cell_type": "code",
   "execution_count": 14,
   "metadata": {},
   "outputs": [],
   "source": [
    "# creating a new column for the percentage of attendance of trainings of coffee value addition\n",
    "coffee_value_addition_analysis['percentage_attendance']=coffee_value_addition_analysis[\"No_of_HH_attended_training\"]/coffee_value_addition_analysis['Total_population']"
   ]
  },
  {
   "cell_type": "code",
   "execution_count": 15,
   "metadata": {},
   "outputs": [
    {
     "data": {
      "text/html": [
       "<div>\n",
       "<style scoped>\n",
       "    .dataframe tbody tr th:only-of-type {\n",
       "        vertical-align: middle;\n",
       "    }\n",
       "\n",
       "    .dataframe tbody tr th {\n",
       "        vertical-align: top;\n",
       "    }\n",
       "\n",
       "    .dataframe thead th {\n",
       "        text-align: right;\n",
       "    }\n",
       "</style>\n",
       "<table border=\"1\" class=\"dataframe\">\n",
       "  <thead>\n",
       "    <tr style=\"text-align: right;\">\n",
       "      <th></th>\n",
       "      <th>district_name</th>\n",
       "      <th>cohort</th>\n",
       "      <th>cycle</th>\n",
       "      <th>type</th>\n",
       "      <th>No_of_HH_attended_training</th>\n",
       "      <th>Total_population</th>\n",
       "      <th>percentage_attendance</th>\n",
       "    </tr>\n",
       "  </thead>\n",
       "  <tbody>\n",
       "    <tr>\n",
       "      <th>0</th>\n",
       "      <td>Kitagwenda</td>\n",
       "      <td>2024</td>\n",
       "      <td>A</td>\n",
       "      <td>Coffee Value Addition Training</td>\n",
       "      <td>1219</td>\n",
       "      <td>1346</td>\n",
       "      <td>0.905646</td>\n",
       "    </tr>\n",
       "  </tbody>\n",
       "</table>\n",
       "</div>"
      ],
      "text/plain": [
       "  district_name  cohort cycle                            type  \\\n",
       "0    Kitagwenda    2024     A  Coffee Value Addition Training   \n",
       "\n",
       "   No_of_HH_attended_training  Total_population  percentage_attendance  \n",
       "0                        1219              1346               0.905646  "
      ]
     },
     "execution_count": 15,
     "metadata": {},
     "output_type": "execute_result"
    }
   ],
   "source": [
    "# Having a look at the data for coffee value addition summaries\n",
    "coffee_value_addition_analysis"
   ]
  },
  {
   "cell_type": "code",
   "execution_count": 16,
   "metadata": {},
   "outputs": [
    {
     "data": {
      "text/html": [
       "<div>\n",
       "<style scoped>\n",
       "    .dataframe tbody tr th:only-of-type {\n",
       "        vertical-align: middle;\n",
       "    }\n",
       "\n",
       "    .dataframe tbody tr th {\n",
       "        vertical-align: top;\n",
       "    }\n",
       "\n",
       "    .dataframe thead th {\n",
       "        text-align: right;\n",
       "    }\n",
       "</style>\n",
       "<table border=\"1\" class=\"dataframe\">\n",
       "  <thead>\n",
       "    <tr style=\"text-align: right;\">\n",
       "      <th></th>\n",
       "      <th>district_name</th>\n",
       "      <th>cohort</th>\n",
       "      <th>cycle</th>\n",
       "      <th>type</th>\n",
       "      <th>No_of_HH_attended_training</th>\n",
       "      <th>Total_population</th>\n",
       "      <th>percentage_attendance</th>\n",
       "    </tr>\n",
       "  </thead>\n",
       "  <tbody>\n",
       "    <tr>\n",
       "      <th>0</th>\n",
       "      <td>Kitagwenda</td>\n",
       "      <td>2024</td>\n",
       "      <td>A</td>\n",
       "      <td>Coffee Value Addition Training</td>\n",
       "      <td>1219</td>\n",
       "      <td>1346.0</td>\n",
       "      <td>0.905646</td>\n",
       "    </tr>\n",
       "    <tr>\n",
       "      <th>0</th>\n",
       "      <td>Kitagwenda</td>\n",
       "      <td>2024</td>\n",
       "      <td>B</td>\n",
       "      <td>HOR 3</td>\n",
       "      <td>1957</td>\n",
       "      <td>2057.0</td>\n",
       "      <td>0.951386</td>\n",
       "    </tr>\n",
       "    <tr>\n",
       "      <th>1</th>\n",
       "      <td>Rakai</td>\n",
       "      <td>2024</td>\n",
       "      <td>B</td>\n",
       "      <td>HOR 3</td>\n",
       "      <td>4608</td>\n",
       "      <td>4906.0</td>\n",
       "      <td>0.939258</td>\n",
       "    </tr>\n",
       "  </tbody>\n",
       "</table>\n",
       "</div>"
      ],
      "text/plain": [
       "  district_name  cohort cycle                            type  \\\n",
       "0    Kitagwenda    2024     A  Coffee Value Addition Training   \n",
       "0    Kitagwenda    2024     B                           HOR 3   \n",
       "1         Rakai    2024     B                           HOR 3   \n",
       "\n",
       "   No_of_HH_attended_training  Total_population  percentage_attendance  \n",
       "0                        1219            1346.0               0.905646  \n",
       "0                        1957            2057.0               0.951386  \n",
       "1                        4608            4906.0               0.939258  "
      ]
     },
     "execution_count": 16,
     "metadata": {},
     "output_type": "execute_result"
    }
   ],
   "source": [
    "# merging the two dataframes for coffee value addition and HOR3 analysis\n",
    "combined_analysis=pd.concat([coffee_value_addition_analysis,HOR3_analysis])\n",
    "combined_analysis"
   ]
  },
  {
   "cell_type": "code",
   "execution_count": 17,
   "metadata": {},
   "outputs": [],
   "source": [
    "# exporting the combined analysis to a csv file to final outputs folder\n",
    "filepath=\"C:\\\\Users\\\\Edison New\\\\Desktop\\\\HWG Q1 Reporting 2025\\\\Final outputs\\\\combined coffee pivot analysis_trainings.csv\"\n",
    "combined_analysis.to_csv(filepath,index=False)"
   ]
  }
 ],
 "metadata": {
  "kernelspec": {
   "display_name": "Python 3",
   "language": "python",
   "name": "python3"
  },
  "language_info": {
   "codemirror_mode": {
    "name": "ipython",
    "version": 3
   },
   "file_extension": ".py",
   "mimetype": "text/x-python",
   "name": "python",
   "nbconvert_exporter": "python",
   "pygments_lexer": "ipython3",
   "version": "3.12.4"
  }
 },
 "nbformat": 4,
 "nbformat_minor": 2
}
