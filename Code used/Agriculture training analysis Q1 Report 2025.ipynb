{
 "cells": [
  {
   "cell_type": "code",
   "execution_count": 1,
   "metadata": {},
   "outputs": [],
   "source": [
    "# importing dependencies\n",
    "import pandas as pd\n",
    "import numpy as np\n",
    "import seaborn as sn"
   ]
  },
  {
   "cell_type": "code",
   "execution_count": 2,
   "metadata": {},
   "outputs": [],
   "source": [
    "#importing agriculture datasets\n",
    "agric_training=pd.read_csv(r\"C:\\Users\\Edison New\\Desktop\\HWG Q1 Reporting 2025\\Datasetsets shared\\Agriculture_clean_data.csv\")"
   ]
  },
  {
   "cell_type": "code",
   "execution_count": 3,
   "metadata": {},
   "outputs": [],
   "source": [
    "# pivoting the data agriculture training dataset\n",
    "pivot_table_training=agric_training.pivot_table(index=['district_name','cohort', 'cycle','type'],values=['household_id'],aggfunc='count')"
   ]
  },
  {
   "cell_type": "code",
   "execution_count": 4,
   "metadata": {},
   "outputs": [],
   "source": [
    "# reseting the index of the pivot table\n",
    "pivot_table_training=pivot_table_training.reset_index()"
   ]
  },
  {
   "cell_type": "code",
   "execution_count": 5,
   "metadata": {},
   "outputs": [],
   "source": [
    "#renaming the column household_id to No_of_HH_attended_training\n",
    "pivot_table_training.rename(columns={'household_id':'No_of_HH_attended_training'}, inplace=True)"
   ]
  },
  {
   "cell_type": "code",
   "execution_count": 6,
   "metadata": {},
   "outputs": [],
   "source": [
    "# creating a new column for the total population of each district based on census data\n",
    "# reduced the census figures from Kitagwenda by 17 HHs that where duplicates\n",
    "pivot_table_training['Total_population']=np.where(pivot_table_training['district_name']==\"Kitagwenda\",2014,\n",
    "                                                  np.where(pivot_table_training['district_name']==\"Rakai\",2087,np.nan))"
   ]
  },
  {
   "cell_type": "code",
   "execution_count": 7,
   "metadata": {},
   "outputs": [],
   "source": [
    "# creating a new column for the percentage of attendance\n",
    "# calculating the percentage of attendance by dividing the number of households that attended training by the total population\n",
    "pivot_table_training['percentage_attendance']=pivot_table_training['No_of_HH_attended_training']/pivot_table_training['Total_population']"
   ]
  },
  {
   "cell_type": "code",
   "execution_count": 8,
   "metadata": {},
   "outputs": [
    {
     "data": {
      "text/html": [
       "<div>\n",
       "<style scoped>\n",
       "    .dataframe tbody tr th:only-of-type {\n",
       "        vertical-align: middle;\n",
       "    }\n",
       "\n",
       "    .dataframe tbody tr th {\n",
       "        vertical-align: top;\n",
       "    }\n",
       "\n",
       "    .dataframe thead th {\n",
       "        text-align: right;\n",
       "    }\n",
       "</style>\n",
       "<table border=\"1\" class=\"dataframe\">\n",
       "  <thead>\n",
       "    <tr style=\"text-align: right;\">\n",
       "      <th></th>\n",
       "      <th>district_name</th>\n",
       "      <th>cohort</th>\n",
       "      <th>cycle</th>\n",
       "      <th>type</th>\n",
       "      <th>No_of_HH_attended_training</th>\n",
       "      <th>Total_population</th>\n",
       "      <th>percentage_attendance</th>\n",
       "    </tr>\n",
       "  </thead>\n",
       "  <tbody>\n",
       "    <tr>\n",
       "      <th>0</th>\n",
       "      <td>Kitagwenda</td>\n",
       "      <td>2025</td>\n",
       "      <td>A</td>\n",
       "      <td>Agriculture 1 - Organics Farming &amp; Keyhole gar...</td>\n",
       "      <td>1939</td>\n",
       "      <td>2014.0</td>\n",
       "      <td>0.962761</td>\n",
       "    </tr>\n",
       "    <tr>\n",
       "      <th>1</th>\n",
       "      <td>Kitagwenda</td>\n",
       "      <td>2025</td>\n",
       "      <td>A</td>\n",
       "      <td>Agriculture 2 - Preparation &amp; Preplanting (Day 1)</td>\n",
       "      <td>1931</td>\n",
       "      <td>2014.0</td>\n",
       "      <td>0.958788</td>\n",
       "    </tr>\n",
       "    <tr>\n",
       "      <th>2</th>\n",
       "      <td>Kitagwenda</td>\n",
       "      <td>2025</td>\n",
       "      <td>A</td>\n",
       "      <td>Agriculture 2 - Preparation &amp; Preplanting (Day 2)</td>\n",
       "      <td>1924</td>\n",
       "      <td>2014.0</td>\n",
       "      <td>0.955313</td>\n",
       "    </tr>\n",
       "    <tr>\n",
       "      <th>3</th>\n",
       "      <td>Rakai</td>\n",
       "      <td>2025</td>\n",
       "      <td>A</td>\n",
       "      <td>Agriculture 1 - Organics Farming &amp; Keyhole gar...</td>\n",
       "      <td>1940</td>\n",
       "      <td>2087.0</td>\n",
       "      <td>0.929564</td>\n",
       "    </tr>\n",
       "    <tr>\n",
       "      <th>4</th>\n",
       "      <td>Rakai</td>\n",
       "      <td>2025</td>\n",
       "      <td>A</td>\n",
       "      <td>Agriculture 2 - Preparation &amp; Preplanting (Day 1)</td>\n",
       "      <td>1939</td>\n",
       "      <td>2087.0</td>\n",
       "      <td>0.929085</td>\n",
       "    </tr>\n",
       "    <tr>\n",
       "      <th>5</th>\n",
       "      <td>Rakai</td>\n",
       "      <td>2025</td>\n",
       "      <td>A</td>\n",
       "      <td>Agriculture 2 - Preparation &amp; Preplanting (Day 2)</td>\n",
       "      <td>1912</td>\n",
       "      <td>2087.0</td>\n",
       "      <td>0.916148</td>\n",
       "    </tr>\n",
       "  </tbody>\n",
       "</table>\n",
       "</div>"
      ],
      "text/plain": [
       "  district_name  cohort cycle  \\\n",
       "0    Kitagwenda    2025     A   \n",
       "1    Kitagwenda    2025     A   \n",
       "2    Kitagwenda    2025     A   \n",
       "3         Rakai    2025     A   \n",
       "4         Rakai    2025     A   \n",
       "5         Rakai    2025     A   \n",
       "\n",
       "                                                type  \\\n",
       "0  Agriculture 1 - Organics Farming & Keyhole gar...   \n",
       "1  Agriculture 2 - Preparation & Preplanting (Day 1)   \n",
       "2  Agriculture 2 - Preparation & Preplanting (Day 2)   \n",
       "3  Agriculture 1 - Organics Farming & Keyhole gar...   \n",
       "4  Agriculture 2 - Preparation & Preplanting (Day 1)   \n",
       "5  Agriculture 2 - Preparation & Preplanting (Day 2)   \n",
       "\n",
       "   No_of_HH_attended_training  Total_population  percentage_attendance  \n",
       "0                        1939            2014.0               0.962761  \n",
       "1                        1931            2014.0               0.958788  \n",
       "2                        1924            2014.0               0.955313  \n",
       "3                        1940            2087.0               0.929564  \n",
       "4                        1939            2087.0               0.929085  \n",
       "5                        1912            2087.0               0.916148  "
      ]
     },
     "execution_count": 8,
     "metadata": {},
     "output_type": "execute_result"
    }
   ],
   "source": [
    "#checking how the pivot table looks like\n",
    "pivot_table_training"
   ]
  },
  {
   "cell_type": "code",
   "execution_count": 9,
   "metadata": {},
   "outputs": [],
   "source": [
    "#exporting the pivot table to an excel file in final outputs folder\n",
    "output=r\"C:\\\\Users\\\\Edison New\\\\Desktop\\\\HWG Q1 Reporting 2025\\\\Final outputs\\\\pivot_table_training.csv\"\n",
    "pivot_table_training.to_csv(output,index=False)"
   ]
  }
 ],
 "metadata": {
  "kernelspec": {
   "display_name": "Python 3",
   "language": "python",
   "name": "python3"
  },
  "language_info": {
   "codemirror_mode": {
    "name": "ipython",
    "version": 3
   },
   "file_extension": ".py",
   "mimetype": "text/x-python",
   "name": "python",
   "nbconvert_exporter": "python",
   "pygments_lexer": "ipython3",
   "version": "3.12.4"
  }
 },
 "nbformat": 4,
 "nbformat_minor": 2
}
