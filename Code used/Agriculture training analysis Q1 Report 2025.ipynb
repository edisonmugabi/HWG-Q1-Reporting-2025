{
 "cells": [
  {
   "cell_type": "code",
   "execution_count": 2,
   "metadata": {},
   "outputs": [],
   "source": [
    "import pandas as pd\n",
    "import numpy as np\n",
    "import seaborn as sn"
   ]
  },
  {
   "cell_type": "code",
   "execution_count": 3,
   "metadata": {},
   "outputs": [],
   "source": [
    "agric_training=pd.read_csv(r\"C:\\Users\\Edison New\\Desktop\\HWG Q1 Reporting 2025\\Datasetsets shared\\Agriculture_clean_data.csv\")"
   ]
  },
  {
   "cell_type": "code",
   "execution_count": 4,
   "metadata": {},
   "outputs": [
    {
     "data": {
      "text/plain": [
       "Index(['guid', 'region_name', 'district_name', 'cluster_name', 'village_name',\n",
       "       'village_id', 'cohort', 'cycle', 'household_id', 'name', 'gender',\n",
       "       'age', 'contact', 'training_latitude', 'training_longitude',\n",
       "       'training_day', 'trainer_name', 'trainer_gender',\n",
       "       'trainer_organization', 'trainer_title', 'trainer_phone_number',\n",
       "       'number_of_village_households', 'number_of_households',\n",
       "       'number_of_male_households', 'number_of_female_households',\n",
       "       'number_of_male_youth_households', 'number_of_female_youth_households',\n",
       "       'performance_rating', 'hours_to_complete', 'training_challenge',\n",
       "       'general_comment', 'number_of_males_to_vote_equality_before',\n",
       "       'number_of_females_to_vote_equality_before',\n",
       "       'number_of_males_to_vote_equality_after',\n",
       "       'number_of_females_to_vote_equality_after',\n",
       "       'number_of_males_understand_importance_of_iga_before',\n",
       "       'number_of_females_understand_importance_of_iga_before',\n",
       "       'number_of_males_understand_importance_of_iga_after',\n",
       "       'number_of_females_understand_importance_of_iga_after',\n",
       "       'number_of_male_trainees_below_eighteen',\n",
       "       'number_of_male_trainees_above_eighteen',\n",
       "       'number_of_female_trainees_below_eighteen',\n",
       "       'number_of_female_trainees_above_eighteen', 'photo', 'category', 'type',\n",
       "       'topics', 'scanned', 'deleted', 'created_at'],\n",
       "      dtype='object')"
      ]
     },
     "execution_count": 4,
     "metadata": {},
     "output_type": "execute_result"
    }
   ],
   "source": [
    "agric_training.columns"
   ]
  },
  {
   "cell_type": "code",
   "execution_count": 8,
   "metadata": {},
   "outputs": [],
   "source": [
    "pivot_table_training=agric_training.pivot_table(index=['district_name','type'],values=['household_id'],aggfunc='count')"
   ]
  },
  {
   "cell_type": "code",
   "execution_count": 9,
   "metadata": {},
   "outputs": [],
   "source": [
    "pivot_table_training=pivot_table_training.reset_index()"
   ]
  },
  {
   "cell_type": "code",
   "execution_count": 13,
   "metadata": {},
   "outputs": [],
   "source": [
    "pivot_table_training.rename(columns={'household_id':'No_HHs_attended_agric_training'}, inplace=True)"
   ]
  },
  {
   "cell_type": "code",
   "execution_count": null,
   "metadata": {},
   "outputs": [],
   "source": [
    "pivot_table_training['Total_population']=np.where(pivot_table_training['district_name']==\"Kitagwenda\",2031,\n",
    "                                                  np.where(pivot_table_training['district_name']==\"Rakai\",2087,np.nan))"
   ]
  },
  {
   "cell_type": "code",
   "execution_count": 16,
   "metadata": {},
   "outputs": [],
   "source": [
    "pivot_table_training['percentage_attendance']=pivot_table_training['No_HHs_attended_agric_training']/pivot_table_training['Total_population']"
   ]
  },
  {
   "cell_type": "code",
   "execution_count": 17,
   "metadata": {},
   "outputs": [
    {
     "data": {
      "text/html": [
       "<div>\n",
       "<style scoped>\n",
       "    .dataframe tbody tr th:only-of-type {\n",
       "        vertical-align: middle;\n",
       "    }\n",
       "\n",
       "    .dataframe tbody tr th {\n",
       "        vertical-align: top;\n",
       "    }\n",
       "\n",
       "    .dataframe thead th {\n",
       "        text-align: right;\n",
       "    }\n",
       "</style>\n",
       "<table border=\"1\" class=\"dataframe\">\n",
       "  <thead>\n",
       "    <tr style=\"text-align: right;\">\n",
       "      <th></th>\n",
       "      <th>district_name</th>\n",
       "      <th>type</th>\n",
       "      <th>No_HHs_attended_agric_training</th>\n",
       "      <th>Total_population</th>\n",
       "      <th>percentage_attendance</th>\n",
       "    </tr>\n",
       "  </thead>\n",
       "  <tbody>\n",
       "    <tr>\n",
       "      <th>0</th>\n",
       "      <td>Kitagwenda</td>\n",
       "      <td>Agriculture 1 - Organics Farming &amp; Keyhole gar...</td>\n",
       "      <td>1939</td>\n",
       "      <td>2031.0</td>\n",
       "      <td>0.954702</td>\n",
       "    </tr>\n",
       "    <tr>\n",
       "      <th>1</th>\n",
       "      <td>Kitagwenda</td>\n",
       "      <td>Agriculture 2 - Preparation &amp; Preplanting (Day 1)</td>\n",
       "      <td>1931</td>\n",
       "      <td>2031.0</td>\n",
       "      <td>0.950763</td>\n",
       "    </tr>\n",
       "    <tr>\n",
       "      <th>2</th>\n",
       "      <td>Kitagwenda</td>\n",
       "      <td>Agriculture 2 - Preparation &amp; Preplanting (Day 2)</td>\n",
       "      <td>1924</td>\n",
       "      <td>2031.0</td>\n",
       "      <td>0.947317</td>\n",
       "    </tr>\n",
       "    <tr>\n",
       "      <th>3</th>\n",
       "      <td>Rakai</td>\n",
       "      <td>Agriculture 1 - Organics Farming &amp; Keyhole gar...</td>\n",
       "      <td>1940</td>\n",
       "      <td>2087.0</td>\n",
       "      <td>0.929564</td>\n",
       "    </tr>\n",
       "    <tr>\n",
       "      <th>4</th>\n",
       "      <td>Rakai</td>\n",
       "      <td>Agriculture 2 - Preparation &amp; Preplanting (Day 1)</td>\n",
       "      <td>1939</td>\n",
       "      <td>2087.0</td>\n",
       "      <td>0.929085</td>\n",
       "    </tr>\n",
       "    <tr>\n",
       "      <th>5</th>\n",
       "      <td>Rakai</td>\n",
       "      <td>Agriculture 2 - Preparation &amp; Preplanting (Day 2)</td>\n",
       "      <td>1807</td>\n",
       "      <td>2087.0</td>\n",
       "      <td>0.865836</td>\n",
       "    </tr>\n",
       "  </tbody>\n",
       "</table>\n",
       "</div>"
      ],
      "text/plain": [
       "  district_name                                               type  \\\n",
       "0    Kitagwenda  Agriculture 1 - Organics Farming & Keyhole gar...   \n",
       "1    Kitagwenda  Agriculture 2 - Preparation & Preplanting (Day 1)   \n",
       "2    Kitagwenda  Agriculture 2 - Preparation & Preplanting (Day 2)   \n",
       "3         Rakai  Agriculture 1 - Organics Farming & Keyhole gar...   \n",
       "4         Rakai  Agriculture 2 - Preparation & Preplanting (Day 1)   \n",
       "5         Rakai  Agriculture 2 - Preparation & Preplanting (Day 2)   \n",
       "\n",
       "   No_HHs_attended_agric_training  Total_population  percentage_attendance  \n",
       "0                            1939            2031.0               0.954702  \n",
       "1                            1931            2031.0               0.950763  \n",
       "2                            1924            2031.0               0.947317  \n",
       "3                            1940            2087.0               0.929564  \n",
       "4                            1939            2087.0               0.929085  \n",
       "5                            1807            2087.0               0.865836  "
      ]
     },
     "execution_count": 17,
     "metadata": {},
     "output_type": "execute_result"
    }
   ],
   "source": [
    "pivot_table_training"
   ]
  },
  {
   "cell_type": "code",
   "execution_count": 1,
   "metadata": {},
   "outputs": [
    {
     "ename": "NameError",
     "evalue": "name 'pivot_table_training' is not defined",
     "output_type": "error",
     "traceback": [
      "\u001b[31m---------------------------------------------------------------------------\u001b[39m",
      "\u001b[31mNameError\u001b[39m                                 Traceback (most recent call last)",
      "\u001b[36mCell\u001b[39m\u001b[36m \u001b[39m\u001b[32mIn[1]\u001b[39m\u001b[32m, line 2\u001b[39m\n\u001b[32m      1\u001b[39m output=\u001b[33m\"\u001b[39m\u001b[33mC:\u001b[39m\u001b[38;5;130;01m\\\\\u001b[39;00m\u001b[33mUsers\u001b[39m\u001b[38;5;130;01m\\\\\u001b[39;00m\u001b[33mEdison New\u001b[39m\u001b[38;5;130;01m\\\\\u001b[39;00m\u001b[33mDesktop\u001b[39m\u001b[38;5;130;01m\\\\\u001b[39;00m\u001b[33mHWG Q1 Reporting 2025\u001b[39m\u001b[38;5;130;01m\\\\\u001b[39;00m\u001b[33mQuality reports shared\u001b[39m\u001b[38;5;130;01m\\\\\u001b[39;00m\u001b[33mpivot_table_training.xlsx\u001b[39m\u001b[33m\"\u001b[39m\n\u001b[32m----> \u001b[39m\u001b[32m2\u001b[39m \u001b[43mpivot_table_training\u001b[49m.to_excel(output,index=\u001b[38;5;28;01mFalse\u001b[39;00m)\n",
      "\u001b[31mNameError\u001b[39m: name 'pivot_table_training' is not defined"
     ]
    }
   ],
   "source": [
    "output=\"C:\\\\Users\\\\Edison New\\\\Desktop\\\\HWG Q1 Reporting 2025\\\\Quality reports shared\\\\pivot_table_training.xlsx\"\n",
    "pivot_table_training.to_excel(output,index=False)"
   ]
  },
  {
   "cell_type": "code",
   "execution_count": null,
   "metadata": {},
   "outputs": [],
   "source": []
  }
 ],
 "metadata": {
  "kernelspec": {
   "display_name": "Python 3",
   "language": "python",
   "name": "python3"
  },
  "language_info": {
   "codemirror_mode": {
    "name": "ipython",
    "version": 3
   },
   "file_extension": ".py",
   "mimetype": "text/x-python",
   "name": "python",
   "nbconvert_exporter": "python",
   "pygments_lexer": "ipython3",
   "version": "3.12.4"
  }
 },
 "nbformat": 4,
 "nbformat_minor": 2
}
