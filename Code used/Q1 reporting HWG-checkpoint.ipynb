{
 "cells": [
  {
   "cell_type": "code",
   "execution_count": 1,
   "id": "86dbe8c4-6476-4d83-8737-65a9cc628556",
   "metadata": {},
   "outputs": [],
   "source": [
    "import pandas as pd\n",
    "import numpy as np\n"
   ]
  },
  {
   "cell_type": "code",
   "execution_count": 2,
   "id": "6fafea05",
   "metadata": {},
   "outputs": [],
   "source": [
    "census = pd.read_excel(r'C:\\Users\\RTV-LPT1-233\\Desktop\\edison jupyter\\HWG Data request1.xlsx',\n",
    "                        sheet_name='CensusMapped HH')"
   ]
  },
  {
   "cell_type": "code",
   "execution_count": 3,
   "id": "2675f222",
   "metadata": {},
   "outputs": [],
   "source": [
    "census['cohort']=2024"
   ]
  },
  {
   "cell_type": "code",
   "execution_count": 4,
   "id": "5a984131-6085-49d3-a6f1-b3916ccfebcc",
   "metadata": {},
   "outputs": [
    {
     "data": {
      "text/html": [
       "<div>\n",
       "<style scoped>\n",
       "    .dataframe tbody tr th:only-of-type {\n",
       "        vertical-align: middle;\n",
       "    }\n",
       "\n",
       "    .dataframe tbody tr th {\n",
       "        vertical-align: top;\n",
       "    }\n",
       "\n",
       "    .dataframe thead th {\n",
       "        text-align: right;\n",
       "    }\n",
       "</style>\n",
       "<table border=\"1\" class=\"dataframe\">\n",
       "  <thead>\n",
       "    <tr style=\"text-align: right;\">\n",
       "      <th></th>\n",
       "      <th>district</th>\n",
       "      <th>subcounty</th>\n",
       "      <th>parish_t</th>\n",
       "      <th>village</th>\n",
       "      <th>Cluster</th>\n",
       "      <th>Cycle</th>\n",
       "      <th>household_id</th>\n",
       "      <th>cohort</th>\n",
       "    </tr>\n",
       "  </thead>\n",
       "  <tbody>\n",
       "    <tr>\n",
       "      <th>0</th>\n",
       "      <td>Kitagwenda</td>\n",
       "      <td>Ruhunga</td>\n",
       "      <td>Kyarwera</td>\n",
       "      <td>Rweya</td>\n",
       "      <td>Ruhunga</td>\n",
       "      <td>A</td>\n",
       "      <td>KIT-RWE-VIO-F-202715</td>\n",
       "      <td>2024</td>\n",
       "    </tr>\n",
       "    <tr>\n",
       "      <th>1</th>\n",
       "      <td>Kitagwenda</td>\n",
       "      <td>Ruhunga</td>\n",
       "      <td>Kyarwera</td>\n",
       "      <td>Rweya</td>\n",
       "      <td>Ruhunga</td>\n",
       "      <td>A</td>\n",
       "      <td>KIT-RWE-SUL-M-091715</td>\n",
       "      <td>2024</td>\n",
       "    </tr>\n",
       "    <tr>\n",
       "      <th>2</th>\n",
       "      <td>Kitagwenda</td>\n",
       "      <td>Ruhunga</td>\n",
       "      <td>Kyarwera</td>\n",
       "      <td>Rweya</td>\n",
       "      <td>Ruhunga</td>\n",
       "      <td>A</td>\n",
       "      <td>KIT-RWE-DID-M-093637</td>\n",
       "      <td>2024</td>\n",
       "    </tr>\n",
       "    <tr>\n",
       "      <th>3</th>\n",
       "      <td>Kitagwenda</td>\n",
       "      <td>Ruhunga</td>\n",
       "      <td>Kyarwera</td>\n",
       "      <td>Rweya</td>\n",
       "      <td>Ruhunga</td>\n",
       "      <td>A</td>\n",
       "      <td>KIT-RWE-JOY-F-095504</td>\n",
       "      <td>2024</td>\n",
       "    </tr>\n",
       "    <tr>\n",
       "      <th>4</th>\n",
       "      <td>Kitagwenda</td>\n",
       "      <td>Ruhunga</td>\n",
       "      <td>Kyarwera</td>\n",
       "      <td>Rweya</td>\n",
       "      <td>Ruhunga</td>\n",
       "      <td>A</td>\n",
       "      <td>KIT-RWE-PAT-M-101050</td>\n",
       "      <td>2024</td>\n",
       "    </tr>\n",
       "  </tbody>\n",
       "</table>\n",
       "</div>"
      ],
      "text/plain": [
       "     district subcounty  parish_t village  Cluster Cycle  \\\n",
       "0  Kitagwenda   Ruhunga  Kyarwera   Rweya  Ruhunga     A   \n",
       "1  Kitagwenda   Ruhunga  Kyarwera   Rweya  Ruhunga     A   \n",
       "2  Kitagwenda   Ruhunga  Kyarwera   Rweya  Ruhunga     A   \n",
       "3  Kitagwenda   Ruhunga  Kyarwera   Rweya  Ruhunga     A   \n",
       "4  Kitagwenda   Ruhunga  Kyarwera   Rweya  Ruhunga     A   \n",
       "\n",
       "           household_id  cohort  \n",
       "0  KIT-RWE-VIO-F-202715    2024  \n",
       "1  KIT-RWE-SUL-M-091715    2024  \n",
       "2  KIT-RWE-DID-M-093637    2024  \n",
       "3  KIT-RWE-JOY-F-095504    2024  \n",
       "4  KIT-RWE-PAT-M-101050    2024  "
      ]
     },
     "execution_count": 4,
     "metadata": {},
     "output_type": "execute_result"
    }
   ],
   "source": [
    "census.head()"
   ]
  },
  {
   "cell_type": "code",
   "execution_count": 5,
   "id": "258d01b6-8a7e-4e22-a88c-37311b8a3ed3",
   "metadata": {},
   "outputs": [],
   "source": [
    "census_2025=pd.read_excel(r\"C:\\Users\\RTV-LPT1-233\\Desktop\\edison jupyter\\2025cycle A census.xlsx\")"
   ]
  },
  {
   "cell_type": "code",
   "execution_count": 6,
   "id": "3da8cd5f-8c54-4840-9c5b-f839984f02d5",
   "metadata": {},
   "outputs": [],
   "source": [
    "census_merged=pd.concat([census,census_2025], \n",
    "                       join='inner')"
   ]
  },
  {
   "cell_type": "code",
   "execution_count": 7,
   "id": "a9693b2a-97db-444a-bebf-c758775a2581",
   "metadata": {},
   "outputs": [
    {
     "data": {
      "text/html": [
       "<div>\n",
       "<style scoped>\n",
       "    .dataframe tbody tr th:only-of-type {\n",
       "        vertical-align: middle;\n",
       "    }\n",
       "\n",
       "    .dataframe tbody tr th {\n",
       "        vertical-align: top;\n",
       "    }\n",
       "\n",
       "    .dataframe thead th {\n",
       "        text-align: right;\n",
       "    }\n",
       "</style>\n",
       "<table border=\"1\" class=\"dataframe\">\n",
       "  <thead>\n",
       "    <tr style=\"text-align: right;\">\n",
       "      <th></th>\n",
       "      <th>district</th>\n",
       "      <th>subcounty</th>\n",
       "      <th>parish_t</th>\n",
       "      <th>village</th>\n",
       "      <th>Cluster</th>\n",
       "      <th>Cycle</th>\n",
       "      <th>household_id</th>\n",
       "      <th>cohort</th>\n",
       "    </tr>\n",
       "  </thead>\n",
       "  <tbody>\n",
       "    <tr>\n",
       "      <th>0</th>\n",
       "      <td>Kitagwenda</td>\n",
       "      <td>Ruhunga</td>\n",
       "      <td>Kyarwera</td>\n",
       "      <td>Rweya</td>\n",
       "      <td>Ruhunga</td>\n",
       "      <td>A</td>\n",
       "      <td>KIT-RWE-VIO-F-202715</td>\n",
       "      <td>2024</td>\n",
       "    </tr>\n",
       "    <tr>\n",
       "      <th>1</th>\n",
       "      <td>Kitagwenda</td>\n",
       "      <td>Ruhunga</td>\n",
       "      <td>Kyarwera</td>\n",
       "      <td>Rweya</td>\n",
       "      <td>Ruhunga</td>\n",
       "      <td>A</td>\n",
       "      <td>KIT-RWE-SUL-M-091715</td>\n",
       "      <td>2024</td>\n",
       "    </tr>\n",
       "    <tr>\n",
       "      <th>2</th>\n",
       "      <td>Kitagwenda</td>\n",
       "      <td>Ruhunga</td>\n",
       "      <td>Kyarwera</td>\n",
       "      <td>Rweya</td>\n",
       "      <td>Ruhunga</td>\n",
       "      <td>A</td>\n",
       "      <td>KIT-RWE-DID-M-093637</td>\n",
       "      <td>2024</td>\n",
       "    </tr>\n",
       "    <tr>\n",
       "      <th>3</th>\n",
       "      <td>Kitagwenda</td>\n",
       "      <td>Ruhunga</td>\n",
       "      <td>Kyarwera</td>\n",
       "      <td>Rweya</td>\n",
       "      <td>Ruhunga</td>\n",
       "      <td>A</td>\n",
       "      <td>KIT-RWE-JOY-F-095504</td>\n",
       "      <td>2024</td>\n",
       "    </tr>\n",
       "    <tr>\n",
       "      <th>4</th>\n",
       "      <td>Kitagwenda</td>\n",
       "      <td>Ruhunga</td>\n",
       "      <td>Kyarwera</td>\n",
       "      <td>Rweya</td>\n",
       "      <td>Ruhunga</td>\n",
       "      <td>A</td>\n",
       "      <td>KIT-RWE-PAT-M-101050</td>\n",
       "      <td>2024</td>\n",
       "    </tr>\n",
       "  </tbody>\n",
       "</table>\n",
       "</div>"
      ],
      "text/plain": [
       "     district subcounty  parish_t village  Cluster Cycle  \\\n",
       "0  Kitagwenda   Ruhunga  Kyarwera   Rweya  Ruhunga     A   \n",
       "1  Kitagwenda   Ruhunga  Kyarwera   Rweya  Ruhunga     A   \n",
       "2  Kitagwenda   Ruhunga  Kyarwera   Rweya  Ruhunga     A   \n",
       "3  Kitagwenda   Ruhunga  Kyarwera   Rweya  Ruhunga     A   \n",
       "4  Kitagwenda   Ruhunga  Kyarwera   Rweya  Ruhunga     A   \n",
       "\n",
       "           household_id  cohort  \n",
       "0  KIT-RWE-VIO-F-202715    2024  \n",
       "1  KIT-RWE-SUL-M-091715    2024  \n",
       "2  KIT-RWE-DID-M-093637    2024  \n",
       "3  KIT-RWE-JOY-F-095504    2024  \n",
       "4  KIT-RWE-PAT-M-101050    2024  "
      ]
     },
     "execution_count": 7,
     "metadata": {},
     "output_type": "execute_result"
    }
   ],
   "source": [
    "census_merged.head()"
   ]
  },
  {
   "cell_type": "code",
   "execution_count": 8,
   "id": "84002e9a-8f0a-4272-946d-bdc3db372f96",
   "metadata": {},
   "outputs": [
    {
     "data": {
      "text/plain": [
       "(12427, 8)"
      ]
     },
     "execution_count": 8,
     "metadata": {},
     "output_type": "execute_result"
    }
   ],
   "source": [
    "census_merged.shape"
   ]
  },
  {
   "cell_type": "markdown",
   "id": "643233e7-1edb-4e0c-93e4-6d2eccbcdc4f",
   "metadata": {},
   "source": [
    "## Training data checks"
   ]
  },
  {
   "cell_type": "code",
   "execution_count": 9,
   "id": "7fb27c09-0229-4e63-a51c-482145d3a133",
   "metadata": {},
   "outputs": [],
   "source": [
    "#reading training dataset\n",
    "training_data=pd.read_excel(r\"C:\\Users\\RTV-LPT1-233\\Downloads\\training data 2025 check2.xlsx\")"
   ]
  },
  {
   "cell_type": "code",
   "execution_count": 10,
   "id": "d7c2b9a3",
   "metadata": {},
   "outputs": [],
   "source": [
    "training_data=training_data[training_data['cohort']==2025]"
   ]
  },
  {
   "cell_type": "code",
   "execution_count": 11,
   "id": "d71d2be9-974f-4bcb-9948-72f6b558d60f",
   "metadata": {},
   "outputs": [],
   "source": [
    "#checking for households IDs in Census data\n",
    "checked_data=training_data[training_data['household_id'].isin(census_merged['household_id'])]"
   ]
  },
  {
   "cell_type": "code",
   "execution_count": 12,
   "id": "0d171911-3d73-42d9-9ed9-4318e0874ca7",
   "metadata": {},
   "outputs": [],
   "source": [
    "#droping the duplicates by training types\n",
    "clean_data = (\n",
    "    checked_data\n",
    "    .sort_values(by='type')  \n",
    "    .drop_duplicates(subset=['type', 'household_id'])  \n",
    ")"
   ]
  },
  {
   "cell_type": "code",
   "execution_count": 13,
   "id": "f4b58d95-fa60-48c3-bda7-8bd977fa53bb",
   "metadata": {},
   "outputs": [
    {
     "data": {
      "text/html": [
       "<div>\n",
       "<style scoped>\n",
       "    .dataframe tbody tr th:only-of-type {\n",
       "        vertical-align: middle;\n",
       "    }\n",
       "\n",
       "    .dataframe tbody tr th {\n",
       "        vertical-align: top;\n",
       "    }\n",
       "\n",
       "    .dataframe thead th {\n",
       "        text-align: right;\n",
       "    }\n",
       "</style>\n",
       "<table border=\"1\" class=\"dataframe\">\n",
       "  <thead>\n",
       "    <tr style=\"text-align: right;\">\n",
       "      <th></th>\n",
       "      <th>guid</th>\n",
       "      <th>region_name</th>\n",
       "      <th>district_name</th>\n",
       "      <th>cluster_name</th>\n",
       "      <th>village_name</th>\n",
       "      <th>village_id</th>\n",
       "      <th>cohort</th>\n",
       "      <th>cycle</th>\n",
       "      <th>household_id</th>\n",
       "      <th>name</th>\n",
       "      <th>...</th>\n",
       "      <th>number_of_male_trainees_above_eighteen</th>\n",
       "      <th>number_of_female_trainees_below_eighteen</th>\n",
       "      <th>number_of_female_trainees_above_eighteen</th>\n",
       "      <th>photo</th>\n",
       "      <th>category</th>\n",
       "      <th>type</th>\n",
       "      <th>topics</th>\n",
       "      <th>scanned</th>\n",
       "      <th>deleted</th>\n",
       "      <th>created_at</th>\n",
       "    </tr>\n",
       "  </thead>\n",
       "  <tbody>\n",
       "    <tr>\n",
       "      <th>34465</th>\n",
       "      <td>BACA5CC7-C9AD-0262-51C7-EB1753591C18</td>\n",
       "      <td>South West</td>\n",
       "      <td>Kitagwenda</td>\n",
       "      <td>Nyakacwamba</td>\n",
       "      <td>Rwengwe_Nyakacwamba</td>\n",
       "      <td>3132</td>\n",
       "      <td>2025</td>\n",
       "      <td>A</td>\n",
       "      <td>KIT-RWE-JAN-F-140122-15</td>\n",
       "      <td>Jane Bananukire</td>\n",
       "      <td>...</td>\n",
       "      <td>NaN</td>\n",
       "      <td>NaN</td>\n",
       "      <td>NaN</td>\n",
       "      <td>NaN</td>\n",
       "      <td>Agriculture</td>\n",
       "      <td>Agriculture 1 - Organics Farming &amp; Keyhole gar...</td>\n",
       "      <td>Compost Manure Handling and Application rates/...</td>\n",
       "      <td>1.0</td>\n",
       "      <td>False</td>\n",
       "      <td>2025-01-13 10:15:33</td>\n",
       "    </tr>\n",
       "    <tr>\n",
       "      <th>31886</th>\n",
       "      <td>40247EA2-87CA-D61F-4721-68080A003A21</td>\n",
       "      <td>Central</td>\n",
       "      <td>Rakai</td>\n",
       "      <td>Kasensero</td>\n",
       "      <td>Mikunyu</td>\n",
       "      <td>9010</td>\n",
       "      <td>2025</td>\n",
       "      <td>A</td>\n",
       "      <td>RAK-MIK-KAK-M-161219-18</td>\n",
       "      <td>Kakooza Joseph</td>\n",
       "      <td>...</td>\n",
       "      <td>NaN</td>\n",
       "      <td>NaN</td>\n",
       "      <td>NaN</td>\n",
       "      <td>NaN</td>\n",
       "      <td>Agriculture</td>\n",
       "      <td>Agriculture 1 - Organics Farming &amp; Keyhole gar...</td>\n",
       "      <td>Compost Manure Making and Application, Keyhole...</td>\n",
       "      <td>1.0</td>\n",
       "      <td>False</td>\n",
       "      <td>2025-01-16 12:31:03</td>\n",
       "    </tr>\n",
       "    <tr>\n",
       "      <th>31885</th>\n",
       "      <td>CAFF6476-3A1B-0A82-0F80-4714F951A5FE</td>\n",
       "      <td>Central</td>\n",
       "      <td>Rakai</td>\n",
       "      <td>Kasensero</td>\n",
       "      <td>Mikunyu</td>\n",
       "      <td>9010</td>\n",
       "      <td>2025</td>\n",
       "      <td>A</td>\n",
       "      <td>RAK-MIK-NAL-F-133912-18</td>\n",
       "      <td>Nalule Doreen</td>\n",
       "      <td>...</td>\n",
       "      <td>NaN</td>\n",
       "      <td>NaN</td>\n",
       "      <td>NaN</td>\n",
       "      <td>NaN</td>\n",
       "      <td>Agriculture</td>\n",
       "      <td>Agriculture 1 - Organics Farming &amp; Keyhole gar...</td>\n",
       "      <td>Compost Manure Making and Application, Keyhole...</td>\n",
       "      <td>1.0</td>\n",
       "      <td>False</td>\n",
       "      <td>2025-01-16 12:31:03</td>\n",
       "    </tr>\n",
       "    <tr>\n",
       "      <th>31884</th>\n",
       "      <td>BD8007BB-FC4C-D59F-443A-FE43579B45AF</td>\n",
       "      <td>Central</td>\n",
       "      <td>Rakai</td>\n",
       "      <td>Kasensero</td>\n",
       "      <td>Mikunyu</td>\n",
       "      <td>9010</td>\n",
       "      <td>2025</td>\n",
       "      <td>A</td>\n",
       "      <td>RAK-MIK-NAN-F-190330-18</td>\n",
       "      <td>Nangobya Zainah</td>\n",
       "      <td>...</td>\n",
       "      <td>NaN</td>\n",
       "      <td>NaN</td>\n",
       "      <td>NaN</td>\n",
       "      <td>NaN</td>\n",
       "      <td>Agriculture</td>\n",
       "      <td>Agriculture 1 - Organics Farming &amp; Keyhole gar...</td>\n",
       "      <td>Compost Manure Making and Application, Keyhole...</td>\n",
       "      <td>1.0</td>\n",
       "      <td>False</td>\n",
       "      <td>2025-01-16 12:31:03</td>\n",
       "    </tr>\n",
       "    <tr>\n",
       "      <th>31883</th>\n",
       "      <td>E625D132-2AC3-0C2F-CE96-EE3160AA4100</td>\n",
       "      <td>Central</td>\n",
       "      <td>Rakai</td>\n",
       "      <td>Kasensero</td>\n",
       "      <td>Mikunyu</td>\n",
       "      <td>9010</td>\n",
       "      <td>2025</td>\n",
       "      <td>A</td>\n",
       "      <td>RAK-MIK-MUG-M-123204-18</td>\n",
       "      <td>Mugenyi Steven</td>\n",
       "      <td>...</td>\n",
       "      <td>NaN</td>\n",
       "      <td>NaN</td>\n",
       "      <td>NaN</td>\n",
       "      <td>NaN</td>\n",
       "      <td>Agriculture</td>\n",
       "      <td>Agriculture 1 - Organics Farming &amp; Keyhole gar...</td>\n",
       "      <td>Compost Manure Making and Application, Keyhole...</td>\n",
       "      <td>1.0</td>\n",
       "      <td>False</td>\n",
       "      <td>2025-01-16 12:31:03</td>\n",
       "    </tr>\n",
       "  </tbody>\n",
       "</table>\n",
       "<p>5 rows × 50 columns</p>\n",
       "</div>"
      ],
      "text/plain": [
       "                                       guid region_name district_name  \\\n",
       "34465  BACA5CC7-C9AD-0262-51C7-EB1753591C18  South West    Kitagwenda   \n",
       "31886  40247EA2-87CA-D61F-4721-68080A003A21     Central         Rakai   \n",
       "31885  CAFF6476-3A1B-0A82-0F80-4714F951A5FE     Central         Rakai   \n",
       "31884  BD8007BB-FC4C-D59F-443A-FE43579B45AF     Central         Rakai   \n",
       "31883  E625D132-2AC3-0C2F-CE96-EE3160AA4100     Central         Rakai   \n",
       "\n",
       "      cluster_name         village_name  village_id  cohort cycle  \\\n",
       "34465  Nyakacwamba  Rwengwe_Nyakacwamba        3132    2025     A   \n",
       "31886    Kasensero              Mikunyu        9010    2025     A   \n",
       "31885    Kasensero              Mikunyu        9010    2025     A   \n",
       "31884    Kasensero              Mikunyu        9010    2025     A   \n",
       "31883    Kasensero              Mikunyu        9010    2025     A   \n",
       "\n",
       "                  household_id             name  ...  \\\n",
       "34465  KIT-RWE-JAN-F-140122-15  Jane Bananukire  ...   \n",
       "31886  RAK-MIK-KAK-M-161219-18   Kakooza Joseph  ...   \n",
       "31885  RAK-MIK-NAL-F-133912-18    Nalule Doreen  ...   \n",
       "31884  RAK-MIK-NAN-F-190330-18  Nangobya Zainah  ...   \n",
       "31883  RAK-MIK-MUG-M-123204-18   Mugenyi Steven  ...   \n",
       "\n",
       "      number_of_male_trainees_above_eighteen  \\\n",
       "34465                                    NaN   \n",
       "31886                                    NaN   \n",
       "31885                                    NaN   \n",
       "31884                                    NaN   \n",
       "31883                                    NaN   \n",
       "\n",
       "       number_of_female_trainees_below_eighteen  \\\n",
       "34465                                       NaN   \n",
       "31886                                       NaN   \n",
       "31885                                       NaN   \n",
       "31884                                       NaN   \n",
       "31883                                       NaN   \n",
       "\n",
       "      number_of_female_trainees_above_eighteen  photo     category  \\\n",
       "34465                                      NaN    NaN  Agriculture   \n",
       "31886                                      NaN    NaN  Agriculture   \n",
       "31885                                      NaN    NaN  Agriculture   \n",
       "31884                                      NaN    NaN  Agriculture   \n",
       "31883                                      NaN    NaN  Agriculture   \n",
       "\n",
       "                                                    type  \\\n",
       "34465  Agriculture 1 - Organics Farming & Keyhole gar...   \n",
       "31886  Agriculture 1 - Organics Farming & Keyhole gar...   \n",
       "31885  Agriculture 1 - Organics Farming & Keyhole gar...   \n",
       "31884  Agriculture 1 - Organics Farming & Keyhole gar...   \n",
       "31883  Agriculture 1 - Organics Farming & Keyhole gar...   \n",
       "\n",
       "                                                  topics scanned deleted  \\\n",
       "34465  Compost Manure Handling and Application rates/...     1.0   False   \n",
       "31886  Compost Manure Making and Application, Keyhole...     1.0   False   \n",
       "31885  Compost Manure Making and Application, Keyhole...     1.0   False   \n",
       "31884  Compost Manure Making and Application, Keyhole...     1.0   False   \n",
       "31883  Compost Manure Making and Application, Keyhole...     1.0   False   \n",
       "\n",
       "               created_at  \n",
       "34465 2025-01-13 10:15:33  \n",
       "31886 2025-01-16 12:31:03  \n",
       "31885 2025-01-16 12:31:03  \n",
       "31884 2025-01-16 12:31:03  \n",
       "31883 2025-01-16 12:31:03  \n",
       "\n",
       "[5 rows x 50 columns]"
      ]
     },
     "execution_count": 13,
     "metadata": {},
     "output_type": "execute_result"
    }
   ],
   "source": [
    "clean_data.head()"
   ]
  },
  {
   "cell_type": "code",
   "execution_count": 14,
   "id": "1835d098-5d87-44c7-848e-8ea513ae99ec",
   "metadata": {},
   "outputs": [],
   "source": [
    "training_analysis=clean_data.pivot_table(index=['district_name','village_name','cohort','cycle','type'],\n",
    "                                         values='household_id',\n",
    "                                         aggfunc='count')"
   ]
  },
  {
   "cell_type": "code",
   "execution_count": 15,
   "id": "50c2a3e1-5292-43c9-94b0-d63a3ff01eaa",
   "metadata": {},
   "outputs": [
    {
     "data": {
      "text/html": [
       "<div>\n",
       "<style scoped>\n",
       "    .dataframe tbody tr th:only-of-type {\n",
       "        vertical-align: middle;\n",
       "    }\n",
       "\n",
       "    .dataframe tbody tr th {\n",
       "        vertical-align: top;\n",
       "    }\n",
       "\n",
       "    .dataframe thead th {\n",
       "        text-align: right;\n",
       "    }\n",
       "</style>\n",
       "<table border=\"1\" class=\"dataframe\">\n",
       "  <thead>\n",
       "    <tr style=\"text-align: right;\">\n",
       "      <th></th>\n",
       "      <th></th>\n",
       "      <th></th>\n",
       "      <th></th>\n",
       "      <th></th>\n",
       "      <th>household_id</th>\n",
       "    </tr>\n",
       "    <tr>\n",
       "      <th>district_name</th>\n",
       "      <th>village_name</th>\n",
       "      <th>cohort</th>\n",
       "      <th>cycle</th>\n",
       "      <th>type</th>\n",
       "      <th></th>\n",
       "    </tr>\n",
       "  </thead>\n",
       "  <tbody>\n",
       "    <tr>\n",
       "      <th rowspan=\"5\" valign=\"top\">Kitagwenda</th>\n",
       "      <th rowspan=\"5\" valign=\"top\">Bujumiro_A</th>\n",
       "      <th rowspan=\"5\" valign=\"top\">2025</th>\n",
       "      <th rowspan=\"5\" valign=\"top\">A</th>\n",
       "      <th>Agriculture 1 - Organics Farming &amp; Keyhole gardening</th>\n",
       "      <td>110</td>\n",
       "    </tr>\n",
       "    <tr>\n",
       "      <th>Agriculture 2 - Preparation &amp; Preplanting (Day 1)</th>\n",
       "      <td>108</td>\n",
       "    </tr>\n",
       "    <tr>\n",
       "      <th>Agriculture 2 - Preparation &amp; Preplanting (Day 2)</th>\n",
       "      <td>114</td>\n",
       "    </tr>\n",
       "    <tr>\n",
       "      <th>CATs / Agriculture Champions</th>\n",
       "      <td>13</td>\n",
       "    </tr>\n",
       "    <tr>\n",
       "      <th>HHT 1 - Day 2 - VSLAs</th>\n",
       "      <td>110</td>\n",
       "    </tr>\n",
       "    <tr>\n",
       "      <th>...</th>\n",
       "      <th>...</th>\n",
       "      <th>...</th>\n",
       "      <th>...</th>\n",
       "      <th>...</th>\n",
       "      <td>...</td>\n",
       "    </tr>\n",
       "    <tr>\n",
       "      <th rowspan=\"5\" valign=\"top\">Rakai</th>\n",
       "      <th rowspan=\"5\" valign=\"top\">Nnongo_A</th>\n",
       "      <th rowspan=\"5\" valign=\"top\">2025</th>\n",
       "      <th rowspan=\"5\" valign=\"top\">A</th>\n",
       "      <th>HHT 1 - Day 2 - VSLAs</th>\n",
       "      <td>167</td>\n",
       "    </tr>\n",
       "    <tr>\n",
       "      <th>HHT 1 - Mindset and behavioral change</th>\n",
       "      <td>168</td>\n",
       "    </tr>\n",
       "    <tr>\n",
       "      <th>VSLA Leadership Training</th>\n",
       "      <td>31</td>\n",
       "    </tr>\n",
       "    <tr>\n",
       "      <th>WASH - Training 1</th>\n",
       "      <td>168</td>\n",
       "    </tr>\n",
       "    <tr>\n",
       "      <th>WASH Champions Training</th>\n",
       "      <td>9</td>\n",
       "    </tr>\n",
       "  </tbody>\n",
       "</table>\n",
       "<p>364 rows × 1 columns</p>\n",
       "</div>"
      ],
      "text/plain": [
       "                                                                                            household_id\n",
       "district_name village_name cohort cycle type                                                            \n",
       "Kitagwenda    Bujumiro_A   2025   A     Agriculture 1 - Organics Farming & Keyhole gard...           110\n",
       "                                        Agriculture 2 - Preparation & Preplanting (Day 1)            108\n",
       "                                        Agriculture 2 - Preparation & Preplanting (Day 2)            114\n",
       "                                        CATs / Agriculture Champions                                  13\n",
       "                                        HHT 1 - Day 2 - VSLAs                                        110\n",
       "...                                                                                                  ...\n",
       "Rakai         Nnongo_A     2025   A     HHT 1 - Day 2 - VSLAs                                        167\n",
       "                                        HHT 1 - Mindset and behavioral change                        168\n",
       "                                        VSLA Leadership Training                                      31\n",
       "                                        WASH - Training 1                                            168\n",
       "                                        WASH Champions Training                                        9\n",
       "\n",
       "[364 rows x 1 columns]"
      ]
     },
     "execution_count": 15,
     "metadata": {},
     "output_type": "execute_result"
    }
   ],
   "source": [
    "training_analysis"
   ]
  },
  {
   "cell_type": "code",
   "execution_count": 16,
   "id": "f165f8e3-6dc3-4210-b13b-c0d855308e26",
   "metadata": {},
   "outputs": [],
   "source": [
    "training_analysis = training_analysis.reset_index()"
   ]
  },
  {
   "cell_type": "code",
   "execution_count": 17,
   "id": "40f2b745",
   "metadata": {},
   "outputs": [],
   "source": [
    "training_analysis1=training_analysis[training_analysis['cohort']==2025]"
   ]
  },
  {
   "cell_type": "code",
   "execution_count": null,
   "id": "326015cf-6f82-4cb9-83ec-8ab75f3ab9d1",
   "metadata": {},
   "outputs": [
    {
     "ename": "PermissionError",
     "evalue": "[Errno 13] Permission denied: 'C:\\\\Users\\\\RTV-LPT1-233\\\\Documents\\\\training_analysis.xlsx'",
     "output_type": "error",
     "traceback": [
      "\u001b[1;31m---------------------------------------------------------------------------\u001b[0m",
      "\u001b[1;31mPermissionError\u001b[0m                           Traceback (most recent call last)",
      "Cell \u001b[1;32mIn[18], line 1\u001b[0m\n\u001b[1;32m----> 1\u001b[0m \u001b[43mtraining_analysis1\u001b[49m\u001b[38;5;241;43m.\u001b[39;49m\u001b[43mto_excel\u001b[49m\u001b[43m(\u001b[49m\u001b[38;5;124;43mr\u001b[39;49m\u001b[38;5;124;43m\"\u001b[39;49m\u001b[38;5;124;43mC:\u001b[39;49m\u001b[38;5;124;43m\\\u001b[39;49m\u001b[38;5;124;43mUsers\u001b[39;49m\u001b[38;5;124;43m\\\u001b[39;49m\u001b[38;5;124;43mRTV-LPT1-233\u001b[39;49m\u001b[38;5;124;43m\\\u001b[39;49m\u001b[38;5;124;43mDocuments\u001b[39;49m\u001b[38;5;124;43m\\\u001b[39;49m\u001b[38;5;124;43mtraining_analysis.xlsx\u001b[39;49m\u001b[38;5;124;43m\"\u001b[39;49m\u001b[43m,\u001b[49m\u001b[43m \u001b[49m\u001b[43mindex\u001b[49m\u001b[38;5;241;43m=\u001b[39;49m\u001b[38;5;28;43;01mFalse\u001b[39;49;00m\u001b[43m)\u001b[49m\n",
      "File \u001b[1;32mc:\\Users\\RTV-LPT1-233\\AppData\\Local\\Programs\\Python\\Python313\\Lib\\site-packages\\pandas\\util\\_decorators.py:333\u001b[0m, in \u001b[0;36mdeprecate_nonkeyword_arguments.<locals>.decorate.<locals>.wrapper\u001b[1;34m(*args, **kwargs)\u001b[0m\n\u001b[0;32m    327\u001b[0m \u001b[38;5;28;01mif\u001b[39;00m \u001b[38;5;28mlen\u001b[39m(args) \u001b[38;5;241m>\u001b[39m num_allow_args:\n\u001b[0;32m    328\u001b[0m     warnings\u001b[38;5;241m.\u001b[39mwarn(\n\u001b[0;32m    329\u001b[0m         msg\u001b[38;5;241m.\u001b[39mformat(arguments\u001b[38;5;241m=\u001b[39m_format_argument_list(allow_args)),\n\u001b[0;32m    330\u001b[0m         \u001b[38;5;167;01mFutureWarning\u001b[39;00m,\n\u001b[0;32m    331\u001b[0m         stacklevel\u001b[38;5;241m=\u001b[39mfind_stack_level(),\n\u001b[0;32m    332\u001b[0m     )\n\u001b[1;32m--> 333\u001b[0m \u001b[38;5;28;01mreturn\u001b[39;00m \u001b[43mfunc\u001b[49m\u001b[43m(\u001b[49m\u001b[38;5;241;43m*\u001b[39;49m\u001b[43margs\u001b[49m\u001b[43m,\u001b[49m\u001b[43m \u001b[49m\u001b[38;5;241;43m*\u001b[39;49m\u001b[38;5;241;43m*\u001b[39;49m\u001b[43mkwargs\u001b[49m\u001b[43m)\u001b[49m\n",
      "File \u001b[1;32mc:\\Users\\RTV-LPT1-233\\AppData\\Local\\Programs\\Python\\Python313\\Lib\\site-packages\\pandas\\core\\generic.py:2417\u001b[0m, in \u001b[0;36mNDFrame.to_excel\u001b[1;34m(self, excel_writer, sheet_name, na_rep, float_format, columns, header, index, index_label, startrow, startcol, engine, merge_cells, inf_rep, freeze_panes, storage_options, engine_kwargs)\u001b[0m\n\u001b[0;32m   2404\u001b[0m \u001b[38;5;28;01mfrom\u001b[39;00m\u001b[38;5;250m \u001b[39m\u001b[38;5;21;01mpandas\u001b[39;00m\u001b[38;5;21;01m.\u001b[39;00m\u001b[38;5;21;01mio\u001b[39;00m\u001b[38;5;21;01m.\u001b[39;00m\u001b[38;5;21;01mformats\u001b[39;00m\u001b[38;5;21;01m.\u001b[39;00m\u001b[38;5;21;01mexcel\u001b[39;00m\u001b[38;5;250m \u001b[39m\u001b[38;5;28;01mimport\u001b[39;00m ExcelFormatter\n\u001b[0;32m   2406\u001b[0m formatter \u001b[38;5;241m=\u001b[39m ExcelFormatter(\n\u001b[0;32m   2407\u001b[0m     df,\n\u001b[0;32m   2408\u001b[0m     na_rep\u001b[38;5;241m=\u001b[39mna_rep,\n\u001b[1;32m   (...)\u001b[0m\n\u001b[0;32m   2415\u001b[0m     inf_rep\u001b[38;5;241m=\u001b[39minf_rep,\n\u001b[0;32m   2416\u001b[0m )\n\u001b[1;32m-> 2417\u001b[0m \u001b[43mformatter\u001b[49m\u001b[38;5;241;43m.\u001b[39;49m\u001b[43mwrite\u001b[49m\u001b[43m(\u001b[49m\n\u001b[0;32m   2418\u001b[0m \u001b[43m    \u001b[49m\u001b[43mexcel_writer\u001b[49m\u001b[43m,\u001b[49m\n\u001b[0;32m   2419\u001b[0m \u001b[43m    \u001b[49m\u001b[43msheet_name\u001b[49m\u001b[38;5;241;43m=\u001b[39;49m\u001b[43msheet_name\u001b[49m\u001b[43m,\u001b[49m\n\u001b[0;32m   2420\u001b[0m \u001b[43m    \u001b[49m\u001b[43mstartrow\u001b[49m\u001b[38;5;241;43m=\u001b[39;49m\u001b[43mstartrow\u001b[49m\u001b[43m,\u001b[49m\n\u001b[0;32m   2421\u001b[0m \u001b[43m    \u001b[49m\u001b[43mstartcol\u001b[49m\u001b[38;5;241;43m=\u001b[39;49m\u001b[43mstartcol\u001b[49m\u001b[43m,\u001b[49m\n\u001b[0;32m   2422\u001b[0m \u001b[43m    \u001b[49m\u001b[43mfreeze_panes\u001b[49m\u001b[38;5;241;43m=\u001b[39;49m\u001b[43mfreeze_panes\u001b[49m\u001b[43m,\u001b[49m\n\u001b[0;32m   2423\u001b[0m \u001b[43m    \u001b[49m\u001b[43mengine\u001b[49m\u001b[38;5;241;43m=\u001b[39;49m\u001b[43mengine\u001b[49m\u001b[43m,\u001b[49m\n\u001b[0;32m   2424\u001b[0m \u001b[43m    \u001b[49m\u001b[43mstorage_options\u001b[49m\u001b[38;5;241;43m=\u001b[39;49m\u001b[43mstorage_options\u001b[49m\u001b[43m,\u001b[49m\n\u001b[0;32m   2425\u001b[0m \u001b[43m    \u001b[49m\u001b[43mengine_kwargs\u001b[49m\u001b[38;5;241;43m=\u001b[39;49m\u001b[43mengine_kwargs\u001b[49m\u001b[43m,\u001b[49m\n\u001b[0;32m   2426\u001b[0m \u001b[43m\u001b[49m\u001b[43m)\u001b[49m\n",
      "File \u001b[1;32mc:\\Users\\RTV-LPT1-233\\AppData\\Local\\Programs\\Python\\Python313\\Lib\\site-packages\\pandas\\io\\formats\\excel.py:943\u001b[0m, in \u001b[0;36mExcelFormatter.write\u001b[1;34m(self, writer, sheet_name, startrow, startcol, freeze_panes, engine, storage_options, engine_kwargs)\u001b[0m\n\u001b[0;32m    941\u001b[0m     need_save \u001b[38;5;241m=\u001b[39m \u001b[38;5;28;01mFalse\u001b[39;00m\n\u001b[0;32m    942\u001b[0m \u001b[38;5;28;01melse\u001b[39;00m:\n\u001b[1;32m--> 943\u001b[0m     writer \u001b[38;5;241m=\u001b[39m \u001b[43mExcelWriter\u001b[49m\u001b[43m(\u001b[49m\n\u001b[0;32m    944\u001b[0m \u001b[43m        \u001b[49m\u001b[43mwriter\u001b[49m\u001b[43m,\u001b[49m\n\u001b[0;32m    945\u001b[0m \u001b[43m        \u001b[49m\u001b[43mengine\u001b[49m\u001b[38;5;241;43m=\u001b[39;49m\u001b[43mengine\u001b[49m\u001b[43m,\u001b[49m\n\u001b[0;32m    946\u001b[0m \u001b[43m        \u001b[49m\u001b[43mstorage_options\u001b[49m\u001b[38;5;241;43m=\u001b[39;49m\u001b[43mstorage_options\u001b[49m\u001b[43m,\u001b[49m\n\u001b[0;32m    947\u001b[0m \u001b[43m        \u001b[49m\u001b[43mengine_kwargs\u001b[49m\u001b[38;5;241;43m=\u001b[39;49m\u001b[43mengine_kwargs\u001b[49m\u001b[43m,\u001b[49m\n\u001b[0;32m    948\u001b[0m \u001b[43m    \u001b[49m\u001b[43m)\u001b[49m\n\u001b[0;32m    949\u001b[0m     need_save \u001b[38;5;241m=\u001b[39m \u001b[38;5;28;01mTrue\u001b[39;00m\n\u001b[0;32m    951\u001b[0m \u001b[38;5;28;01mtry\u001b[39;00m:\n",
      "File \u001b[1;32mc:\\Users\\RTV-LPT1-233\\AppData\\Local\\Programs\\Python\\Python313\\Lib\\site-packages\\pandas\\io\\excel\\_openpyxl.py:61\u001b[0m, in \u001b[0;36mOpenpyxlWriter.__init__\u001b[1;34m(self, path, engine, date_format, datetime_format, mode, storage_options, if_sheet_exists, engine_kwargs, **kwargs)\u001b[0m\n\u001b[0;32m     57\u001b[0m \u001b[38;5;28;01mfrom\u001b[39;00m\u001b[38;5;250m \u001b[39m\u001b[38;5;21;01mopenpyxl\u001b[39;00m\u001b[38;5;21;01m.\u001b[39;00m\u001b[38;5;21;01mworkbook\u001b[39;00m\u001b[38;5;250m \u001b[39m\u001b[38;5;28;01mimport\u001b[39;00m Workbook\n\u001b[0;32m     59\u001b[0m engine_kwargs \u001b[38;5;241m=\u001b[39m combine_kwargs(engine_kwargs, kwargs)\n\u001b[1;32m---> 61\u001b[0m \u001b[38;5;28;43msuper\u001b[39;49m\u001b[43m(\u001b[49m\u001b[43m)\u001b[49m\u001b[38;5;241;43m.\u001b[39;49m\u001b[38;5;21;43m__init__\u001b[39;49m\u001b[43m(\u001b[49m\n\u001b[0;32m     62\u001b[0m \u001b[43m    \u001b[49m\u001b[43mpath\u001b[49m\u001b[43m,\u001b[49m\n\u001b[0;32m     63\u001b[0m \u001b[43m    \u001b[49m\u001b[43mmode\u001b[49m\u001b[38;5;241;43m=\u001b[39;49m\u001b[43mmode\u001b[49m\u001b[43m,\u001b[49m\n\u001b[0;32m     64\u001b[0m \u001b[43m    \u001b[49m\u001b[43mstorage_options\u001b[49m\u001b[38;5;241;43m=\u001b[39;49m\u001b[43mstorage_options\u001b[49m\u001b[43m,\u001b[49m\n\u001b[0;32m     65\u001b[0m \u001b[43m    \u001b[49m\u001b[43mif_sheet_exists\u001b[49m\u001b[38;5;241;43m=\u001b[39;49m\u001b[43mif_sheet_exists\u001b[49m\u001b[43m,\u001b[49m\n\u001b[0;32m     66\u001b[0m \u001b[43m    \u001b[49m\u001b[43mengine_kwargs\u001b[49m\u001b[38;5;241;43m=\u001b[39;49m\u001b[43mengine_kwargs\u001b[49m\u001b[43m,\u001b[49m\n\u001b[0;32m     67\u001b[0m \u001b[43m\u001b[49m\u001b[43m)\u001b[49m\n\u001b[0;32m     69\u001b[0m \u001b[38;5;66;03m# ExcelWriter replaced \"a\" by \"r+\" to allow us to first read the excel file from\u001b[39;00m\n\u001b[0;32m     70\u001b[0m \u001b[38;5;66;03m# the file and later write to it\u001b[39;00m\n\u001b[0;32m     71\u001b[0m \u001b[38;5;28;01mif\u001b[39;00m \u001b[38;5;124m\"\u001b[39m\u001b[38;5;124mr+\u001b[39m\u001b[38;5;124m\"\u001b[39m \u001b[38;5;129;01min\u001b[39;00m \u001b[38;5;28mself\u001b[39m\u001b[38;5;241m.\u001b[39m_mode:  \u001b[38;5;66;03m# Load from existing workbook\u001b[39;00m\n",
      "File \u001b[1;32mc:\\Users\\RTV-LPT1-233\\AppData\\Local\\Programs\\Python\\Python313\\Lib\\site-packages\\pandas\\io\\excel\\_base.py:1246\u001b[0m, in \u001b[0;36mExcelWriter.__init__\u001b[1;34m(self, path, engine, date_format, datetime_format, mode, storage_options, if_sheet_exists, engine_kwargs)\u001b[0m\n\u001b[0;32m   1242\u001b[0m \u001b[38;5;28mself\u001b[39m\u001b[38;5;241m.\u001b[39m_handles \u001b[38;5;241m=\u001b[39m IOHandles(\n\u001b[0;32m   1243\u001b[0m     cast(IO[\u001b[38;5;28mbytes\u001b[39m], path), compression\u001b[38;5;241m=\u001b[39m{\u001b[38;5;124m\"\u001b[39m\u001b[38;5;124mcompression\u001b[39m\u001b[38;5;124m\"\u001b[39m: \u001b[38;5;28;01mNone\u001b[39;00m}\n\u001b[0;32m   1244\u001b[0m )\n\u001b[0;32m   1245\u001b[0m \u001b[38;5;28;01mif\u001b[39;00m \u001b[38;5;129;01mnot\u001b[39;00m \u001b[38;5;28misinstance\u001b[39m(path, ExcelWriter):\n\u001b[1;32m-> 1246\u001b[0m     \u001b[38;5;28mself\u001b[39m\u001b[38;5;241m.\u001b[39m_handles \u001b[38;5;241m=\u001b[39m \u001b[43mget_handle\u001b[49m\u001b[43m(\u001b[49m\n\u001b[0;32m   1247\u001b[0m \u001b[43m        \u001b[49m\u001b[43mpath\u001b[49m\u001b[43m,\u001b[49m\u001b[43m \u001b[49m\u001b[43mmode\u001b[49m\u001b[43m,\u001b[49m\u001b[43m \u001b[49m\u001b[43mstorage_options\u001b[49m\u001b[38;5;241;43m=\u001b[39;49m\u001b[43mstorage_options\u001b[49m\u001b[43m,\u001b[49m\u001b[43m \u001b[49m\u001b[43mis_text\u001b[49m\u001b[38;5;241;43m=\u001b[39;49m\u001b[38;5;28;43;01mFalse\u001b[39;49;00m\n\u001b[0;32m   1248\u001b[0m \u001b[43m    \u001b[49m\u001b[43m)\u001b[49m\n\u001b[0;32m   1249\u001b[0m \u001b[38;5;28mself\u001b[39m\u001b[38;5;241m.\u001b[39m_cur_sheet \u001b[38;5;241m=\u001b[39m \u001b[38;5;28;01mNone\u001b[39;00m\n\u001b[0;32m   1251\u001b[0m \u001b[38;5;28;01mif\u001b[39;00m date_format \u001b[38;5;129;01mis\u001b[39;00m \u001b[38;5;28;01mNone\u001b[39;00m:\n",
      "File \u001b[1;32mc:\\Users\\RTV-LPT1-233\\AppData\\Local\\Programs\\Python\\Python313\\Lib\\site-packages\\pandas\\io\\common.py:882\u001b[0m, in \u001b[0;36mget_handle\u001b[1;34m(path_or_buf, mode, encoding, compression, memory_map, is_text, errors, storage_options)\u001b[0m\n\u001b[0;32m    873\u001b[0m         handle \u001b[38;5;241m=\u001b[39m \u001b[38;5;28mopen\u001b[39m(\n\u001b[0;32m    874\u001b[0m             handle,\n\u001b[0;32m    875\u001b[0m             ioargs\u001b[38;5;241m.\u001b[39mmode,\n\u001b[1;32m   (...)\u001b[0m\n\u001b[0;32m    878\u001b[0m             newline\u001b[38;5;241m=\u001b[39m\u001b[38;5;124m\"\u001b[39m\u001b[38;5;124m\"\u001b[39m,\n\u001b[0;32m    879\u001b[0m         )\n\u001b[0;32m    880\u001b[0m     \u001b[38;5;28;01melse\u001b[39;00m:\n\u001b[0;32m    881\u001b[0m         \u001b[38;5;66;03m# Binary mode\u001b[39;00m\n\u001b[1;32m--> 882\u001b[0m         handle \u001b[38;5;241m=\u001b[39m \u001b[38;5;28;43mopen\u001b[39;49m\u001b[43m(\u001b[49m\u001b[43mhandle\u001b[49m\u001b[43m,\u001b[49m\u001b[43m \u001b[49m\u001b[43mioargs\u001b[49m\u001b[38;5;241;43m.\u001b[39;49m\u001b[43mmode\u001b[49m\u001b[43m)\u001b[49m\n\u001b[0;32m    883\u001b[0m     handles\u001b[38;5;241m.\u001b[39mappend(handle)\n\u001b[0;32m    885\u001b[0m \u001b[38;5;66;03m# Convert BytesIO or file objects passed with an encoding\u001b[39;00m\n",
      "\u001b[1;31mPermissionError\u001b[0m: [Errno 13] Permission denied: 'C:\\\\Users\\\\RTV-LPT1-233\\\\Documents\\\\training_analysis.xlsx'"
     ]
    },
    {
     "ename": "",
     "evalue": "",
     "output_type": "error",
     "traceback": [
      "\u001b[1;31mThe Kernel crashed while executing code in the current cell or a previous cell. \n",
      "\u001b[1;31mPlease review the code in the cell(s) to identify a possible cause of the failure. \n",
      "\u001b[1;31mClick <a href='https://aka.ms/vscodeJupyterKernelCrash'>here</a> for more info. \n",
      "\u001b[1;31mView Jupyter <a href='command:jupyter.viewOutput'>log</a> for further details."
     ]
    }
   ],
   "source": [
    "training_analysis1.to_excel(r\"C:\\Users\\RTV-LPT1-233\\Documents\\training_analysis.xlsx\", index=False)\n"
   ]
  },
  {
   "cell_type": "code",
   "execution_count": null,
   "id": "3eaf9ce4-99db-4d9d-93c7-883efa6dd191",
   "metadata": {},
   "outputs": [],
   "source": [
    "trainings = [\n",
    "    # \"Agriculture - General Refresher\",\n",
    "    # \"Agriculture - Post Harvest Handling\",\n",
    "    \"Agriculture 1 - Organics Farming & Keyhole gardening\",\n",
    "    # \"Agriculture 2 - Preparation & Preplanting\",\n",
    "    \"Agriculture 2 - Preparation & Preplanting (Day 1)\",\n",
    "    \"Agriculture 2 - Preparation & Preplanting (Day 2)\",\n",
    "    # \"Agriculture Perennial Crops\",\n",
    "    \"CATs / Agriculture Champions\",\n",
    "    # \"CDD Training #1\",\n",
    "    # \"Coffee Champions - ToT 1\",\n",
    "    # \"Coffee Champions - ToT 2\",\n",
    "    # \"Coffee Champions - ToT 3\",\n",
    "    # \"Coffee Champions Training\",\n",
    "    # \"Coffee Value Addition Training\",\n",
    "    # \"Collective Marketings\",\n",
    "    \"HHT 1 - Day 2 - VSLAs\",\n",
    "    \"HHT 1 - Mindset and behavioral change\",\n",
    "    \"HHT 2 - Financial Literacy and VSLA and and Business Enterprise Selection\",\n",
    "    # \"HHT 3 - Gender Equality and Social Inclusion\",\n",
    "    \"HOR 1\",\n",
    "    # \"HOR 2\",\n",
    "    # \"HOR 3\",\n",
    "    # \"HOR 4\",\n",
    "    # \"Livestock - Beneficiary Training\",\n",
    "    # \"Livestock - Livestock Care & Management\",\n",
    "    # \"Village Champions\",\n",
    "    # \"VLT - Training\",\n",
    "    # \"VLT - Training 1\",\n",
    "    # \"VSLA Leadership Training\",\n",
    "    # \"WASH - Refresher\",\n",
    "    \"WASH - Training 1\",\n",
    "    # \"WASH Champions Training\",\n",
    "    # \"Water User Committee\"\n",
    "]\n"
   ]
  },
  {
   "cell_type": "code",
   "execution_count": null,
   "id": "21ba9515-0930-4c48-aef3-1bcf30140b5f",
   "metadata": {},
   "outputs": [],
   "source": [
    "missing_trainings = []"
   ]
  },
  {
   "cell_type": "code",
   "execution_count": null,
   "id": "c6614ae8-52ea-4fff-8ace-d8a29c6496f6",
   "metadata": {},
   "outputs": [],
   "source": [
    "# Group by district, village, cohort, and cycle\n",
    "grouped = training_analysis.groupby(['district_name', 'village_name', 'cohort', 'cycle'])"
   ]
  },
  {
   "cell_type": "code",
   "execution_count": null,
   "id": "93fde04d-da5c-4d37-b88e-e055a0820930",
   "metadata": {},
   "outputs": [],
   "source": [
    "for (district, village, cohort, cycle), group in grouped:\n",
    "    attended_trainings = group['type'].unique().tolist()  \n",
    "    missing = list(set(trainings) - set(attended_trainings)) \n",
    "    if missing:\n",
    "        missing_trainings.append({\n",
    "            \"district_name\": district,\n",
    "            \"village\": village,\n",
    "            \"cohort\": cohort,\n",
    "            \"cycle\": cycle,\n",
    "            \"missing_trainings\": \", \".join(missing)\n",
    "        })\n",
    "\n",
    "# Convert to DataFrame\n",
    "missing_trainings_df = pd.DataFrame(missing_trainings)\n",
    "missing_trainings_df.to_excel(r\"C:\\Users\\RTV-LPT1-233\\Documents\\missing training reports.xlsx\", index=False)"
   ]
  },
  {
   "cell_type": "markdown",
   "id": "d03f527b",
   "metadata": {},
   "source": [
    "## Agriculuture tools analysis"
   ]
  },
  {
   "cell_type": "code",
   "execution_count": null,
   "id": "e4f0cfb0",
   "metadata": {},
   "outputs": [],
   "source": [
    "tool_list=['Hoes','Spade','Pick Axe','Forked Hoe','Secateurs','Gloves',\n",
    "           'Watering can','Jerrycans','Spray Pumps','Tarpaulin','Pruning saw',\n",
    "           'Filters','Mortar and Pestle','Plastic Drums']"
   ]
  },
  {
   "cell_type": "code",
   "execution_count": null,
   "id": "ce9ea621",
   "metadata": {},
   "outputs": [],
   "source": [
    "tools_system1=pd.read_excel(r\"C:\\Users\\RTV-LPT1-233\\Downloads\\tools unclean check2.xlsx\")"
   ]
  },
  {
   "cell_type": "code",
   "execution_count": null,
   "id": "7c515b4e",
   "metadata": {},
   "outputs": [],
   "source": [
    "tools_system1.head()"
   ]
  },
  {
   "cell_type": "code",
   "execution_count": null,
   "id": "cec658ee",
   "metadata": {},
   "outputs": [],
   "source": [
    "# Expand the 'tools' column\n",
    "tools_expanded = tools_system1['tools'].str.split(', ', expand=True).stack().reset_index(level=1, drop=True)\n",
    "tools_expanded = tools_expanded.str.extract(r'(?P<Tool_Name>.+) \\((?P<Quantity>\\d+)\\)')\n",
    "\n",
    "# Create a new DataFrame with repeated original data for alignment\n",
    "df_expanded = tools_system1.loc[tools_system1.index.repeat(tools_expanded.groupby(level=0).size())].reset_index(drop=True)\n",
    "\n",
    "# Combine with expanded tools DataFrame\n",
    "tools_system = pd.concat([df_expanded, tools_expanded.reset_index(drop=True)], axis=1).drop(columns=['tools'])"
   ]
  },
  {
   "cell_type": "code",
   "execution_count": null,
   "id": "da8cdec1",
   "metadata": {},
   "outputs": [],
   "source": [
    "tools_system.head()"
   ]
  },
  {
   "cell_type": "code",
   "execution_count": null,
   "id": "5bfc037e",
   "metadata": {},
   "outputs": [],
   "source": [
    "tools_distributed=tools_system.groupby(['district_name','cluster_name',\n",
    "                                        'village_name','Tool_Name'])['Quantity'].sum()"
   ]
  },
  {
   "cell_type": "code",
   "execution_count": null,
   "id": "e1d27f7a",
   "metadata": {},
   "outputs": [],
   "source": [
    "tools_distributed=tools_distributed.reset_index()"
   ]
  },
  {
   "cell_type": "code",
   "execution_count": null,
   "id": "4e4b4aee",
   "metadata": {},
   "outputs": [],
   "source": [
    "tools_distributed.rename(columns={\"Tool_Name\":\"tool\",\n",
    "                                  \"Quantity\":'number_of_pieces'},inplace=True)"
   ]
  },
  {
   "cell_type": "code",
   "execution_count": null,
   "id": "9664b7d9",
   "metadata": {},
   "outputs": [],
   "source": [
    "missing_tools = []"
   ]
  },
  {
   "cell_type": "code",
   "execution_count": null,
   "id": "bbbb5dca",
   "metadata": {},
   "outputs": [],
   "source": [
    "tools_villages = set(tools_system['village_name'].unique())\n",
    "for row in census_merged.itertuples(index=False):\n",
    "    if row.village not in tools_villages:\n",
    "        missing_tools.append({\n",
    "            \"district_name\": row.district,\n",
    "            \"cluster_name\": row.Cluster,\n",
    "            \"village_name\": row.village,\n",
    "            \"missing_tools\": \", \".join(tool_list)  # Ensure tool_list exists\n",
    "        })"
   ]
  },
  {
   "cell_type": "code",
   "execution_count": null,
   "id": "2130afc0",
   "metadata": {},
   "outputs": [],
   "source": [
    "grouped=tools_distributed.groupby(['district_name','cluster_name','village_name'])"
   ]
  },
  {
   "cell_type": "code",
   "execution_count": null,
   "id": "2ca12c44",
   "metadata": {},
   "outputs": [],
   "source": [
    "for (district, cluster,village), group in grouped:\n",
    "    tools_distributed1 = group['tool'].unique().tolist()  \n",
    "    missing = list(set(tool_list) - set(tools_distributed1)) \n",
    "    if missing:\n",
    "        missing_tools.append({\n",
    "            \"district_name\": district,\n",
    "            \"cluster_name\": cluster,\n",
    "            \"village_name\": village,\n",
    "            \"missing_tools\": \", \".join(missing)\n",
    "        })"
   ]
  },
  {
   "cell_type": "code",
   "execution_count": null,
   "id": "5db89f39",
   "metadata": {},
   "outputs": [],
   "source": [
    "missing_tools_df = pd.DataFrame(missing_tools)\n",
    "missing_tools_df.to_excel(r\"C:\\Users\\RTV-LPT1-233\\Documents\\missing tools.xlsx\", index=False)"
   ]
  },
  {
   "cell_type": "markdown",
   "id": "d3354893",
   "metadata": {},
   "source": [
    "###agriculture tools with designs check\n"
   ]
  },
  {
   "cell_type": "code",
   "execution_count": null,
   "id": "d432b685",
   "metadata": {},
   "outputs": [],
   "source": [
    "tools_designs=pd.read_excel(r'C:\\Users\\RTV-LPT1-233\\Desktop\\edison jupyter\\tools_seed.xlsx',sheet_name='Tools')"
   ]
  },
  {
   "cell_type": "code",
   "execution_count": null,
   "id": "d82737fd",
   "metadata": {},
   "outputs": [],
   "source": [
    "tools_designs.head()"
   ]
  },
  {
   "cell_type": "code",
   "execution_count": null,
   "id": "4653f417",
   "metadata": {},
   "outputs": [],
   "source": [
    "tools_designs.columns"
   ]
  },
  {
   "cell_type": "code",
   "execution_count": null,
   "id": "b125dc74",
   "metadata": {},
   "outputs": [],
   "source": [
    "tools_designs.rename(columns={'Secateurs (5 per Agric Champion/ Coffee Champion)':'Secateurs',\n",
    "                              'Gloves (2 per Agric Champion/ Coffee Champion)':'Gloves',\n",
    "                              'Watering Cans - ( 5 per Agric Champion)\\nNice House of Plastics':'Watering can',\n",
    "                              'Hoes - (2 per Agric Champion)\\nCock ':\"Hoes\",\n",
    "                              'Pick Axe - (1 per Agric Champion)\\nApex/Crocodile ':'Pick Axe',\n",
    "                              'Spades - (2 per Agric Champion)\\nMetalic spade & metalic handle':\"Spade\",\n",
    "                              \"Forked Hoes - (1 per Agric Champion)\\nCrocodile\":\"Forked Hoe\",\n",
    "                              \"Jerrycan - (2 per Agric Champion)\\nNice House of Plastics\":\"Jerrycans\",\n",
    "                              \"Sprayer for Agric - (2 per Agric Champion)\\nBomba Magoba 16 Ltrs\":\"Spray Pumps\",\n",
    "                              \"Tarpaulin - (A pack of 5 per Agric Champion)\\nBlue 6*6\":\"Tarpaulin\",\n",
    "                              \"Prunning saws\":\"Pruning saw\",\n",
    "                              \"division\":'district',\n",
    "                              \"plastic_tanks_120_ltrs_liquid_manure\":\"Plastic Drums\",\n",
    "                              \"sacks_liquid_manure\":\"Compound Sacks\",\n",
    "                              \"sisal_rope_liquid_manure\":\"Rope\",\n",
    "                              \"filter_liquid_manure\":\"Filters\",\n",
    "                              \"mortar_&_pestle_liquid_manure\":\"Mortar and Pestle\",\n",
    "                              'Villages ':\"village\"},inplace=True)"
   ]
  },
  {
   "cell_type": "code",
   "execution_count": null,
   "id": "fa8906d6",
   "metadata": {},
   "outputs": [],
   "source": [
    "tools_designs_melted=pd.melt(tools_designs,id_vars=['district','cluster','village'],\n",
    "                             value_vars=['Secateurs','Gloves','Watering can','Hoes','Pick Axe','Spade',\n",
    "                                         'Forked Hoe','Jerrycans','Spray Pumps','Tarpaulin','Pruning saw',\n",
    "                                         \"Plastic Drums\",\"Compound Sacks\",\"Rope\",\"Filters\",\"Mortar and Pestle\"],\n",
    "                             var_name='tool',value_name='number_of_pieces')"
   ]
  },
  {
   "cell_type": "code",
   "execution_count": null,
   "id": "e6cc7c77",
   "metadata": {},
   "outputs": [],
   "source": [
    "tools_designs_melted.head()"
   ]
  },
  {
   "cell_type": "code",
   "execution_count": null,
   "id": "817aaa23",
   "metadata": {},
   "outputs": [],
   "source": [
    "tools_designs_melted.rename(columns={'district':'district_name',\n",
    "                                     'cluster':'cluster_name',\n",
    "                                     'village':'village_name'},inplace=True)\n"
   ]
  },
  {
   "cell_type": "code",
   "execution_count": null,
   "id": "c5f464ed",
   "metadata": {},
   "outputs": [],
   "source": [
    "tools_designs_melted.head()\n"
   ]
  },
  {
   "cell_type": "code",
   "execution_count": null,
   "id": "6ecf8915",
   "metadata": {},
   "outputs": [],
   "source": [
    "merged = tools_distributed.merge(\n",
    "    tools_designs_melted,\n",
    "    on=['district_name', 'cluster_name', 'village_name', 'tool'],\n",
    "    suffixes=('_system', '_designs'),\n",
    "    how='outer'\n",
    ")\n",
    "\n",
    "differences = merged[merged['number_of_pieces_system'] != merged['number_of_pieces_designs']][['district_name', 'cluster_name', 'village_name',\n",
    "                                                                                                'tool', 'number_of_pieces_system', \n",
    "                                                                                                'number_of_pieces_designs']]"
   ]
  },
  {
   "cell_type": "code",
   "execution_count": null,
   "id": "d1502f0b",
   "metadata": {},
   "outputs": [],
   "source": [
    "differences.to_excel(r\"C:\\Users\\RTV-LPT1-233\\Documents\\tools difference.xlsx\", index=False)\n"
   ]
  },
  {
   "cell_type": "markdown",
   "id": "7ed1bc28",
   "metadata": {},
   "source": [
    "### nurserybed checks"
   ]
  },
  {
   "cell_type": "code",
   "execution_count": null,
   "id": "272d1106",
   "metadata": {},
   "outputs": [],
   "source": [
    "data_system = pd.read_excel(r\"C:\\Users\\RTV-LPT1-233\\Downloads\\nurserybed check2.xlsx\")"
   ]
  },
  {
   "cell_type": "code",
   "execution_count": null,
   "id": "b447d871",
   "metadata": {},
   "outputs": [],
   "source": [
    "data_system=data_system[data_system['household_id'].isin(census_merged['household_id'])]"
   ]
  },
  {
   "cell_type": "code",
   "execution_count": null,
   "id": "8349d5eb",
   "metadata": {},
   "outputs": [],
   "source": [
    "data_system.head()"
   ]
  },
  {
   "cell_type": "code",
   "execution_count": null,
   "id": "52981d40",
   "metadata": {},
   "outputs": [],
   "source": [
    "data_system_analysis=data_system.groupby(['district_name','cluster_name',\n",
    "                                          'village_name','variety'])['total_quantity'].sum().reset_index()"
   ]
  },
  {
   "cell_type": "code",
   "execution_count": null,
   "id": "facd9b0a",
   "metadata": {},
   "outputs": [],
   "source": [
    "data_system_analysis"
   ]
  },
  {
   "cell_type": "code",
   "execution_count": null,
   "id": "4688eeb0",
   "metadata": {},
   "outputs": [],
   "source": [
    "data_system_analysis['variety']=data_system_analysis['variety'].str.strip().str.upper()"
   ]
  },
  {
   "cell_type": "code",
   "execution_count": null,
   "id": "73538abb",
   "metadata": {},
   "outputs": [],
   "source": [
    "data_nur_design=pd.read_excel(r'C:\\Users\\RTV-LPT1-233\\Desktop\\edison jupyter\\design_nurserybed.xlsx')"
   ]
  },
  {
   "cell_type": "code",
   "execution_count": null,
   "id": "99ddd75e",
   "metadata": {},
   "outputs": [],
   "source": [
    "data_nur_design.rename(columns={'division':'district_name',\n",
    "                                'cluster':'cluster_name',\n",
    "                                'village':'village_name',\n",
    "                                'amaranths_tins_nursery':'Amaranths',\n",
    "                                'tomatoes _tins_nursery':'Tomatoes',\n",
    "                                'black_nightshade_tins_nursery':'BLACK NIGHT SHADE',\n",
    "                                'purple_graffiti_eggplants_tins_nursery':'Purple Eggplants',\n",
    "                                'green_pepper_tins_nursery':'Green Pepper',\n",
    "                                'white_eggplants_tins_nursery':'White Eggplants',\n",
    "                                'cabbage_tins_nursery':'Cabbage',\n",
    "                                'nakati_nursery':'Nakati',\n",
    "                                'spinach_tin_nursery':'Spinach',\n",
    "                                'sukuma_wiki_tins_nursery':'Sukuma Wiki',\n",
    "                                'african_spider_plant_tins_nursery':'AFRICAN SPIDER PLANT'},inplace=True)\n"
   ]
  },
  {
   "cell_type": "code",
   "execution_count": null,
   "id": "076c7c38",
   "metadata": {},
   "outputs": [],
   "source": [
    "data_nur_design.columns"
   ]
  },
  {
   "cell_type": "code",
   "execution_count": null,
   "id": "4c3cc06f",
   "metadata": {},
   "outputs": [],
   "source": [
    "data_nur_design_melted=pd.melt(data_nur_design,id_vars=['district_name','cluster_name','village_name'],\n",
    "                               value_vars=['Amaranths','Tomatoes','BLACK NIGHT SHADE','Purple Eggplants',\n",
    "                                           'Green Pepper','White Eggplants','Cabbage','Nakati','Spinach','Sukuma Wiki','AFRICAN SPIDER PLANT'],\n",
    "                               var_name='variety',value_name='total_quantity')"
   ]
  },
  {
   "cell_type": "code",
   "execution_count": null,
   "id": "71e824fd",
   "metadata": {},
   "outputs": [],
   "source": [
    "data_nur_design_melted['variety']=data_nur_design_melted['variety'].str.strip().str.upper()"
   ]
  },
  {
   "cell_type": "code",
   "execution_count": null,
   "id": "7514aec0",
   "metadata": {},
   "outputs": [],
   "source": [
    "merged_nurbed=data_system_analysis.merge(data_nur_design_melted,\n",
    "                                       on=['district_name','cluster_name','village_name','variety'],\n",
    "                                       suffixes=('_system','_designs'),\n",
    "                                       how='outer')\n",
    "differences_nurbed = merged_nurbed[merged_nurbed['total_quantity_system'] != merged_nurbed['total_quantity_designs']][['district_name', 'cluster_name', 'village_name',\n",
    "                                                                                                'variety', 'total_quantity_system', \n",
    "                                                                                                'total_quantity_designs']]"
   ]
  },
  {
   "cell_type": "code",
   "execution_count": null,
   "id": "030fd664",
   "metadata": {},
   "outputs": [],
   "source": [
    "differences_nurbed.to_excel(r\"C:\\Users\\RTV-LPT1-233\\Documents\\nurserybed difference.xlsx\", index=False)"
   ]
  },
  {
   "cell_type": "markdown",
   "id": "1abe8435",
   "metadata": {},
   "source": [
    "# checking for seed return and seed disribution"
   ]
  },
  {
   "cell_type": "code",
   "execution_count": null,
   "id": "7d544edd",
   "metadata": {},
   "outputs": [],
   "source": [
    "seed_return=pd.read_excel(r\"C:\\Users\\RTV-LPT1-233\\Downloads\\seedreturn check2.xlsx\")"
   ]
  },
  {
   "cell_type": "code",
   "execution_count": null,
   "id": "57065ac1",
   "metadata": {},
   "outputs": [],
   "source": [
    "seed_return.columns"
   ]
  },
  {
   "cell_type": "code",
   "execution_count": null,
   "id": "ba3ea1f9",
   "metadata": {},
   "outputs": [],
   "source": [
    "seed_return['household_id']=seed_return['household_id'].str.strip().str.upper()"
   ]
  },
  {
   "cell_type": "code",
   "execution_count": null,
   "id": "46140abd",
   "metadata": {},
   "outputs": [],
   "source": [
    "seed_return.rename(columns={'quantity':'quantity_returned'},inplace=True)"
   ]
  },
  {
   "cell_type": "code",
   "execution_count": null,
   "id": "55cfbdec",
   "metadata": {},
   "outputs": [],
   "source": [
    "seed_return.pivot_table(index=['district_name','seed'],\n",
    "                        values='quantity_returned',\n",
    "                        aggfunc='sum')\n"
   ]
  },
  {
   "cell_type": "code",
   "execution_count": null,
   "id": "5724c41c",
   "metadata": {},
   "outputs": [],
   "source": [
    "seed_dist_cycelB=pd.read_excel(r\"C:\\Users\\RTV-LPT1-233\\Desktop\\edison jupyter\\distributionlist.xlsx\")"
   ]
  },
  {
   "cell_type": "code",
   "execution_count": null,
   "id": "7fcda115",
   "metadata": {},
   "outputs": [],
   "source": [
    "seed_dist_cycelB=seed_dist_cycelB[seed_dist_cycelB['seed']!='Onions']"
   ]
  },
  {
   "cell_type": "code",
   "execution_count": null,
   "id": "f08ce271",
   "metadata": {},
   "outputs": [],
   "source": [
    "seed_dist_cycelB.columns"
   ]
  },
  {
   "cell_type": "code",
   "execution_count": null,
   "id": "f01057a7",
   "metadata": {},
   "outputs": [],
   "source": [
    "seed_dist_cycelB['household_id']=seed_dist_cycelB['household_id'].str.strip().str.upper()\n"
   ]
  },
  {
   "cell_type": "code",
   "execution_count": null,
   "id": "4b887ff0",
   "metadata": {},
   "outputs": [],
   "source": [
    "seed_dist_cycelB.rename(columns={'quantity_per_household':'quantity_distributed'},inplace=True)"
   ]
  },
  {
   "cell_type": "code",
   "execution_count": null,
   "id": "2a18f26d",
   "metadata": {},
   "outputs": [],
   "source": [
    "# Check the column names to ensure 'quantity_distributed' exists\n",
    "print(seed_dist_cycelB.columns)\n",
    "\n",
    "# Perform the pivot operation\n",
    "seed_dist_cycelB.pivot_table(index=['district_name','seed'],\n",
    "                        values='quantity_distributed',\n",
    "                        aggfunc='sum')\n"
   ]
  },
  {
   "cell_type": "code",
   "execution_count": null,
   "id": "03bbc226",
   "metadata": {},
   "outputs": [],
   "source": [
    "merged_seed_return=seed_dist_cycelB.merge(seed_return,\n",
    "                                            on=['district_name','cluster_name','village_name','household_id','seed'],\n",
    "                                            suffixes=('_distributed','_returned'),\n",
    "                                            how='outer')\n",
    "differences_seed_analysis=merged_seed_return[merged_seed_return['quantity_distributed']!=merged_seed_return['quantity_returned']][['district_name','cluster_name','village_name',\n",
    "                                                                                                                                   'household_id','seed', \n",
    "                                                                                                                                    'quantity_distributed','quantity_returned']]"
   ]
  },
  {
   "cell_type": "code",
   "execution_count": null,
   "id": "4e02a496",
   "metadata": {},
   "outputs": [],
   "source": [
    "differences_seed_analysis.to_excel(r\"C:\\Users\\RTV-LPT1-233\\Documents\\seed return analysis24.xlsx\", index=False)"
   ]
  },
  {
   "cell_type": "markdown",
   "id": "6b092e26",
   "metadata": {},
   "source": []
  },
  {
   "cell_type": "markdown",
   "id": "3ec282da",
   "metadata": {},
   "source": [
    "# seed distribution 2025 cycle A"
   ]
  },
  {
   "cell_type": "code",
   "execution_count": null,
   "id": "50970efc",
   "metadata": {},
   "outputs": [],
   "source": [
    "data_distribution=pd.read_excel(r\"C:\\Users\\RTV-LPT1-233\\Downloads\\seed distribution check2.xlsx\")"
   ]
  }
 ],
 "metadata": {
  "kernelspec": {
   "display_name": "Python 3",
   "language": "python",
   "name": "python3"
  },
  "language_info": {
   "codemirror_mode": {
    "name": "ipython",
    "version": 3
   },
   "file_extension": ".py",
   "mimetype": "text/x-python",
   "name": "python",
   "nbconvert_exporter": "python",
   "pygments_lexer": "ipython3",
   "version": "3.13.1"
  }
 },
 "nbformat": 4,
 "nbformat_minor": 5
}
