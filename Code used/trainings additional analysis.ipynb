{
 "cells": [
  {
   "cell_type": "code",
   "execution_count": 1,
   "metadata": {},
   "outputs": [],
   "source": [
    "# importing the dependencies\n",
    "import pandas as pd\n",
    "import numpy as np"
   ]
  },
  {
   "cell_type": "code",
   "execution_count": 2,
   "metadata": {},
   "outputs": [
    {
     "name": "stderr",
     "output_type": "stream",
     "text": [
      "C:\\Users\\Edison New\\AppData\\Local\\Temp\\ipykernel_12928\\2005496496.py:2: DtypeWarning: Columns (29) have mixed types. Specify dtype option on import or set low_memory=False.\n",
      "  data = pd.read_csv(r\"C:\\\\Users\\\\Edison New\\\\Desktop\\\\HWG Q1 Reporting 2025\\\\Datasetsets shared\\\\Filtered_training_data.csv\")\n"
     ]
    }
   ],
   "source": [
    "# importing the dataset of additional training data\n",
    "data = pd.read_csv(r\"C:\\\\Users\\\\Edison New\\\\Desktop\\\\HWG Q1 Reporting 2025\\\\Datasetsets shared\\\\Filtered_training_data.csv\")"
   ]
  },
  {
   "cell_type": "code",
   "execution_count": 3,
   "metadata": {},
   "outputs": [],
   "source": [
    "# pivot table to count the number of households attended training\n",
    "# for each district, cohort, cycle, and type\n",
    "data1 = data.pivot_table(\n",
    "    index=['district_name', 'cohort', 'cycle', 'type'],\n",
    "    values='household_id',\n",
    "    aggfunc='count'\n",
    ").rename(columns={'household_id': 'No_of_HH_attended_training'})\n",
    "data1= data1.reset_index()"
   ]
  },
  {
   "cell_type": "code",
   "execution_count": 4,
   "metadata": {},
   "outputs": [],
   "source": [
    "# creating a new column for the total population of each district\n",
    "data1['Total_population']=np.where(data1['district_name']==\"Kitagwenda\",2014,\n",
    "                                                  np.where(data1['district_name']==\"Rakai\",2087,np.nan))"
   ]
  },
  {
   "cell_type": "code",
   "execution_count": 5,
   "metadata": {},
   "outputs": [],
   "source": [
    "# replacing the total population with NaN for rows where the type contains 'champions'\n",
    "if data1['type'].str.contains('champions', case=False).any():\n",
    "   data1['Total_population'] = np.where(data1['type'].str.contains('champions', case=False), np.nan, data1['Total_population'])"
   ]
  },
  {
   "cell_type": "code",
   "execution_count": null,
   "metadata": {},
   "outputs": [],
   "source": [
    "# importing the dataset of designed champions\n",
    "champions_designed=pd.read_csv(\"C:\\\\Users\\\\Edison New\\\\Desktop\\\\HWG Q1 Reporting 2025\\\\Datasetsets shared\\\\designed champions_clean.csv\")"
   ]
  },
  {
   "cell_type": "code",
   "execution_count": null,
   "metadata": {},
   "outputs": [],
   "source": [
    "# Grouping the designed champions by district and type and resetting the index\n",
    "champions_designed=champions_designed.groupby(['district_name','champion_type'])['Total_champions'].sum().reset_index()\n",
    "champions_designed"
   ]
  },
  {
   "cell_type": "code",
   "execution_count": null,
   "metadata": {},
   "outputs": [],
   "source": [
    "# updating the total population in data1 based on the designed champions\n",
    "# Looping through each row in the champions_designed DataFrame\n",
    "for _, row in champions_designed.iterrows():\n",
    "    district = row['district_name']\n",
    "    champion_type = row['champion_type']\n",
    "    total_champions = row['Total_champions']\n",
    "\n",
    "    if champion_type == \"agric champion\":\n",
    "        data1['Total_population'] = np.where(\n",
    "            (data1['district_name'] == district) & (data1['type'] == \"CATs / Agriculture Champions\"),\n",
    "            total_champions,\n",
    "            data1['Total_population']\n",
    "        )\n",
    "    elif champion_type == \"coffee champion\":\n",
    "        data1['Total_population'] = np.where(\n",
    "            (data1['district_name'] == district) & (data1['type'] == \"Coffee Champions - ToT 1\"),\n",
    "            total_champions,\n",
    "            data1['Total_population']\n",
    "        )\n",
    "    elif champion_type == \"wash champion\":\n",
    "        data1['Total_population'] = np.where(\n",
    "            (data1['district_name'] == district) & (data1['type'] == \"WASH Champions Training\"),\n",
    "            total_champions,\n",
    "            data1['Total_population']\n",
    "        )\n",
    "    elif champion_type == \"village champion\":\n",
    "        data1['Total_population'] = np.where(\n",
    "            (data1['district_name'] == district) & (data1['type'] == \"Village Champions\"),\n",
    "            total_champions,\n",
    "            data1['Total_population']\n",
    "        )"
   ]
  },
  {
   "cell_type": "code",
   "execution_count": null,
   "metadata": {},
   "outputs": [],
   "source": [
    "# creating a new column for the percentage attendance in data1 for trainings\n",
    "data1['percentage_attendance']=data1['No_of_HH_attended_training']/data1['Total_population']"
   ]
  },
  {
   "cell_type": "code",
   "execution_count": null,
   "metadata": {},
   "outputs": [],
   "source": [
    "# having a look at the data1 dataframe\n",
    "data1"
   ]
  },
  {
   "cell_type": "code",
   "execution_count": null,
   "metadata": {},
   "outputs": [],
   "source": [
    "# importing the dataset of additional training data to be used for the final output\n",
    "filepath=\"C:\\\\Users\\\\Edison New\\\\Desktop\\\\HWG Q1 Reporting 2025\\\\Final outputs\\\\additional trainings.csv\"\n",
    "data1.to_csv(filepath, index=False)"
   ]
  }
 ],
 "metadata": {
  "kernelspec": {
   "display_name": "Python 3",
   "language": "python",
   "name": "python3"
  },
  "language_info": {
   "codemirror_mode": {
    "name": "ipython",
    "version": 3
   },
   "file_extension": ".py",
   "mimetype": "text/x-python",
   "name": "python",
   "nbconvert_exporter": "python",
   "pygments_lexer": "ipython3",
   "version": "3.12.4"
  }
 },
 "nbformat": 4,
 "nbformat_minor": 2
}
